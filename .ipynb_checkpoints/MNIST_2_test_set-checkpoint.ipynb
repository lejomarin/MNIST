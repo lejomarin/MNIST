{
 "cells": [
  {
   "cell_type": "markdown",
   "id": "7e1cabb2",
   "metadata": {},
   "source": [
    "# MNIST 2 - the test set\n",
    "### handwritten digit prediction using neural networks\n",
    "\n",
    "Evaluating the network on the test set."
   ]
  },
  {
   "cell_type": "code",
   "execution_count": 5,
   "id": "95691ba5",
   "metadata": {},
   "outputs": [
    {
     "name": "stderr",
     "output_type": "stream",
     "text": [
      "WARNING:absl:`lr` is deprecated in Keras optimizer, please use `learning_rate` or use the legacy optimizer, e.g.,tf.keras.optimizers.legacy.RMSprop.\n"
     ]
    },
    {
     "data": {
      "text/html": [
       "Finishing last run (ID:fyu916s3) before initializing another..."
      ],
      "text/plain": [
       "<IPython.core.display.HTML object>"
      ]
     },
     "metadata": {},
     "output_type": "display_data"
    },
    {
     "data": {
      "application/vnd.jupyter.widget-view+json": {
       "model_id": "",
       "version_major": 2,
       "version_minor": 0
      },
      "text/plain": [
       "VBox(children=(Label(value='7.224 MB of 7.224 MB uploaded\\r'), FloatProgress(value=1.0, max=1.0)))"
      ]
     },
     "metadata": {},
     "output_type": "display_data"
    },
    {
     "data": {
      "text/html": [
       " View run <strong style=\"color:#cdcd00\">smart-puddle-93</strong> at: <a href='http://localhost:8080/lejomarin/MNIST_experiments/runs/fyu916s3' target=\"_blank\">http://localhost:8080/lejomarin/MNIST_experiments/runs/fyu916s3</a><br/> View job at <a href='http://localhost:8080/lejomarin/MNIST_experiments/jobs/QXJ0aWZhY3RDb2xsZWN0aW9uOjg5/version_details/v0' target=\"_blank\">http://localhost:8080/lejomarin/MNIST_experiments/jobs/QXJ0aWZhY3RDb2xsZWN0aW9uOjg5/version_details/v0</a><br/>Synced 7 W&B file(s), 0 media file(s), 3 artifact file(s) and 1 other file(s)"
      ],
      "text/plain": [
       "<IPython.core.display.HTML object>"
      ]
     },
     "metadata": {},
     "output_type": "display_data"
    },
    {
     "data": {
      "text/html": [
       "Find logs at: <code>./wandb/run-20240205_173314-fyu916s3/logs</code>"
      ],
      "text/plain": [
       "<IPython.core.display.HTML object>"
      ]
     },
     "metadata": {},
     "output_type": "display_data"
    },
    {
     "data": {
      "text/html": [
       "Successfully finished last run (ID:fyu916s3). Initializing new run:<br/>"
      ],
      "text/plain": [
       "<IPython.core.display.HTML object>"
      ]
     },
     "metadata": {},
     "output_type": "display_data"
    },
    {
     "data": {
      "text/html": [
       "Tracking run with wandb version 0.16.2"
      ],
      "text/plain": [
       "<IPython.core.display.HTML object>"
      ]
     },
     "metadata": {},
     "output_type": "display_data"
    },
    {
     "data": {
      "text/html": [
       "Run data is saved locally in <code>/Users/alejandromarinjimenez/Documents/Computer_Science/git/MNIST_Jan_2024/wandb/run-20240205_173624-raoavnyc</code>"
      ],
      "text/plain": [
       "<IPython.core.display.HTML object>"
      ]
     },
     "metadata": {},
     "output_type": "display_data"
    },
    {
     "data": {
      "text/html": [
       "Syncing run <strong><a href='http://localhost:8080/lejomarin/MNIST_experiments/runs/raoavnyc' target=\"_blank\">generous-aardvark-94</a></strong> to <a href='http://localhost:8080/lejomarin/MNIST_experiments' target=\"_blank\">Weights & Biases</a> (<a href='https://wandb.me/run' target=\"_blank\">docs</a>)<br/>"
      ],
      "text/plain": [
       "<IPython.core.display.HTML object>"
      ]
     },
     "metadata": {},
     "output_type": "display_data"
    },
    {
     "data": {
      "text/html": [
       " View project at <a href='http://localhost:8080/lejomarin/MNIST_experiments' target=\"_blank\">http://localhost:8080/lejomarin/MNIST_experiments</a>"
      ],
      "text/plain": [
       "<IPython.core.display.HTML object>"
      ]
     },
     "metadata": {},
     "output_type": "display_data"
    },
    {
     "data": {
      "text/html": [
       " View run at <a href='http://localhost:8080/lejomarin/MNIST_experiments/runs/raoavnyc' target=\"_blank\">http://localhost:8080/lejomarin/MNIST_experiments/runs/raoavnyc</a>"
      ],
      "text/plain": [
       "<IPython.core.display.HTML object>"
      ]
     },
     "metadata": {},
     "output_type": "display_data"
    },
    {
     "name": "stderr",
     "output_type": "stream",
     "text": [
      "\u001b[34m\u001b[1mwandb\u001b[0m: \u001b[33mWARNING\u001b[0m The save_model argument by default saves the model in the HDF5 format that cannot save custom objects like subclassed models and custom layers. This behavior will be deprecated in a future release in favor of the SavedModel format. Meanwhile, the HDF5 model is saved as W&B files and the SavedModel as W&B Artifacts.\n"
     ]
    },
    {
     "name": "stdout",
     "output_type": "stream",
     "text": [
      "Epoch 1/5\n",
      "466/469 [============================>.] - ETA: 0s - loss: 0.2276 - accuracy: 0.9322"
     ]
    },
    {
     "name": "stderr",
     "output_type": "stream",
     "text": [
      "/Users/alejandromarinjimenez/anaconda3/lib/python3.11/site-packages/keras/src/engine/training.py:3103: UserWarning: You are saving your model as an HDF5 file via `model.save()`. This file format is considered legacy. We recommend using instead the native Keras format, e.g. `model.save('my_model.keras')`.\n",
      "  saving_api.save_model(\n"
     ]
    },
    {
     "name": "stdout",
     "output_type": "stream",
     "text": [
      "INFO:tensorflow:Assets written to: /Users/alejandromarinjimenez/Documents/Computer_Science/git/MNIST_Jan_2024/wandb/run-20240205_173624-raoavnyc/files/model-best/assets\n"
     ]
    },
    {
     "name": "stderr",
     "output_type": "stream",
     "text": [
      "INFO:tensorflow:Assets written to: /Users/alejandromarinjimenez/Documents/Computer_Science/git/MNIST_Jan_2024/wandb/run-20240205_173624-raoavnyc/files/model-best/assets\n",
      "\u001b[34m\u001b[1mwandb\u001b[0m: Adding directory to artifact (/Users/alejandromarinjimenez/Documents/Computer_Science/git/MNIST_Jan_2024/wandb/run-20240205_173624-raoavnyc/files/model-best)... Done. 0.1s\n"
     ]
    },
    {
     "name": "stdout",
     "output_type": "stream",
     "text": [
      "469/469 [==============================] - 5s 9ms/step - loss: 0.2270 - accuracy: 0.9322 - val_loss: 0.1205 - val_accuracy: 0.9611\n",
      "Epoch 2/5\n",
      "469/469 [==============================] - ETA: 0s - loss: 0.0872 - accuracy: 0.9736"
     ]
    },
    {
     "name": "stderr",
     "output_type": "stream",
     "text": [
      "/Users/alejandromarinjimenez/anaconda3/lib/python3.11/site-packages/keras/src/engine/training.py:3103: UserWarning: You are saving your model as an HDF5 file via `model.save()`. This file format is considered legacy. We recommend using instead the native Keras format, e.g. `model.save('my_model.keras')`.\n",
      "  saving_api.save_model(\n"
     ]
    },
    {
     "name": "stdout",
     "output_type": "stream",
     "text": [
      "INFO:tensorflow:Assets written to: /Users/alejandromarinjimenez/Documents/Computer_Science/git/MNIST_Jan_2024/wandb/run-20240205_173624-raoavnyc/files/model-best/assets\n"
     ]
    },
    {
     "name": "stderr",
     "output_type": "stream",
     "text": [
      "INFO:tensorflow:Assets written to: /Users/alejandromarinjimenez/Documents/Computer_Science/git/MNIST_Jan_2024/wandb/run-20240205_173624-raoavnyc/files/model-best/assets\n",
      "\u001b[34m\u001b[1mwandb\u001b[0m: Adding directory to artifact (/Users/alejandromarinjimenez/Documents/Computer_Science/git/MNIST_Jan_2024/wandb/run-20240205_173624-raoavnyc/files/model-best)... Done. 0.0s\n"
     ]
    },
    {
     "name": "stdout",
     "output_type": "stream",
     "text": [
      "469/469 [==============================] - 3s 7ms/step - loss: 0.0872 - accuracy: 0.9736 - val_loss: 0.0766 - val_accuracy: 0.9765\n",
      "Epoch 3/5\n",
      "462/469 [============================>.] - ETA: 0s - loss: 0.0579 - accuracy: 0.9818"
     ]
    },
    {
     "name": "stderr",
     "output_type": "stream",
     "text": [
      "/Users/alejandromarinjimenez/anaconda3/lib/python3.11/site-packages/keras/src/engine/training.py:3103: UserWarning: You are saving your model as an HDF5 file via `model.save()`. This file format is considered legacy. We recommend using instead the native Keras format, e.g. `model.save('my_model.keras')`.\n",
      "  saving_api.save_model(\n"
     ]
    },
    {
     "name": "stdout",
     "output_type": "stream",
     "text": [
      "INFO:tensorflow:Assets written to: /Users/alejandromarinjimenez/Documents/Computer_Science/git/MNIST_Jan_2024/wandb/run-20240205_173624-raoavnyc/files/model-best/assets\n"
     ]
    },
    {
     "name": "stderr",
     "output_type": "stream",
     "text": [
      "INFO:tensorflow:Assets written to: /Users/alejandromarinjimenez/Documents/Computer_Science/git/MNIST_Jan_2024/wandb/run-20240205_173624-raoavnyc/files/model-best/assets\n",
      "\u001b[34m\u001b[1mwandb\u001b[0m: Adding directory to artifact (/Users/alejandromarinjimenez/Documents/Computer_Science/git/MNIST_Jan_2024/wandb/run-20240205_173624-raoavnyc/files/model-best)... Done. 0.0s\n"
     ]
    },
    {
     "name": "stdout",
     "output_type": "stream",
     "text": [
      "469/469 [==============================] - 3s 7ms/step - loss: 0.0580 - accuracy: 0.9818 - val_loss: 0.0647 - val_accuracy: 0.9790\n",
      "Epoch 4/5\n",
      "465/469 [============================>.] - ETA: 0s - loss: 0.0401 - accuracy: 0.9878"
     ]
    },
    {
     "name": "stderr",
     "output_type": "stream",
     "text": [
      "/Users/alejandromarinjimenez/anaconda3/lib/python3.11/site-packages/keras/src/engine/training.py:3103: UserWarning: You are saving your model as an HDF5 file via `model.save()`. This file format is considered legacy. We recommend using instead the native Keras format, e.g. `model.save('my_model.keras')`.\n",
      "  saving_api.save_model(\n"
     ]
    },
    {
     "name": "stdout",
     "output_type": "stream",
     "text": [
      "INFO:tensorflow:Assets written to: /Users/alejandromarinjimenez/Documents/Computer_Science/git/MNIST_Jan_2024/wandb/run-20240205_173624-raoavnyc/files/model-best/assets\n"
     ]
    },
    {
     "name": "stderr",
     "output_type": "stream",
     "text": [
      "INFO:tensorflow:Assets written to: /Users/alejandromarinjimenez/Documents/Computer_Science/git/MNIST_Jan_2024/wandb/run-20240205_173624-raoavnyc/files/model-best/assets\n",
      "\u001b[34m\u001b[1mwandb\u001b[0m: Adding directory to artifact (/Users/alejandromarinjimenez/Documents/Computer_Science/git/MNIST_Jan_2024/wandb/run-20240205_173624-raoavnyc/files/model-best)... Done. 0.1s\n"
     ]
    },
    {
     "name": "stdout",
     "output_type": "stream",
     "text": [
      "469/469 [==============================] - 3s 6ms/step - loss: 0.0400 - accuracy: 0.9878 - val_loss: 0.0591 - val_accuracy: 0.9816\n",
      "Epoch 5/5\n",
      "469/469 [==============================] - 3s 6ms/step - loss: 0.0280 - accuracy: 0.9917 - val_loss: 0.0608 - val_accuracy: 0.9812\n",
      "313/313 [==============================] - 0s 1ms/step - loss: 0.0608 - accuracy: 0.9812\n",
      "Test Loss: 0.060785286128520966, Test Accuracy: 0.9811999797821045\n"
     ]
    },
    {
     "data": {
      "application/vnd.jupyter.widget-view+json": {
       "model_id": "",
       "version_major": 2,
       "version_minor": 0
      },
      "text/plain": [
       "VBox(children=(Label(value='49.769 MB of 49.769 MB uploaded (7.250 MB deduped)\\r'), FloatProgress(value=1.0, m…"
      ]
     },
     "metadata": {},
     "output_type": "display_data"
    },
    {
     "data": {
      "text/html": [
       "W&B sync reduced upload amount by 14.6%             "
      ],
      "text/plain": [
       "<IPython.core.display.HTML object>"
      ]
     },
     "metadata": {},
     "output_type": "display_data"
    },
    {
     "data": {
      "text/html": [
       "<style>\n",
       "    table.wandb td:nth-child(1) { padding: 0 10px; text-align: left ; width: auto;} td:nth-child(2) {text-align: left ; width: 100%}\n",
       "    .wandb-row { display: flex; flex-direction: row; flex-wrap: wrap; justify-content: flex-start; width: 100% }\n",
       "    .wandb-col { display: flex; flex-direction: column; flex-basis: 100%; flex: 1; padding: 10px; }\n",
       "    </style>\n",
       "<div class=\"wandb-row\"><div class=\"wandb-col\"><h3>Run history:</h3><br/><table class=\"wandb\"><tr><td>accuracy</td><td>▁▆▇██</td></tr><tr><td>epoch</td><td>▁▃▅▆█</td></tr><tr><td>loss</td><td>█▃▂▁▁</td></tr><tr><td>test_accuracy</td><td>▁</td></tr><tr><td>test_loss</td><td>▁</td></tr><tr><td>val_accuracy</td><td>▁▆▇██</td></tr><tr><td>val_loss</td><td>█▃▂▁▁</td></tr></table><br/></div><div class=\"wandb-col\"><h3>Run summary:</h3><br/><table class=\"wandb\"><tr><td>accuracy</td><td>0.9917</td></tr><tr><td>best_epoch</td><td>3</td></tr><tr><td>best_val_loss</td><td>0.05911</td></tr><tr><td>epoch</td><td>4</td></tr><tr><td>loss</td><td>0.02799</td></tr><tr><td>test_accuracy</td><td>0.9812</td></tr><tr><td>test_loss</td><td>0.06079</td></tr><tr><td>val_accuracy</td><td>0.9812</td></tr><tr><td>val_loss</td><td>0.06079</td></tr></table><br/></div></div>"
      ],
      "text/plain": [
       "<IPython.core.display.HTML object>"
      ]
     },
     "metadata": {},
     "output_type": "display_data"
    },
    {
     "data": {
      "text/html": [
       " View run <strong style=\"color:#cdcd00\">generous-aardvark-94</strong> at: <a href='http://localhost:8080/lejomarin/MNIST_experiments/runs/raoavnyc' target=\"_blank\">http://localhost:8080/lejomarin/MNIST_experiments/runs/raoavnyc</a><br/> View job at <a href='http://localhost:8080/lejomarin/MNIST_experiments/jobs/QXJ0aWZhY3RDb2xsZWN0aW9uOjg5/version_details/v1' target=\"_blank\">http://localhost:8080/lejomarin/MNIST_experiments/jobs/QXJ0aWZhY3RDb2xsZWN0aW9uOjg5/version_details/v1</a><br/>Synced 7 W&B file(s), 1 media file(s), 23 artifact file(s) and 1 other file(s)"
      ],
      "text/plain": [
       "<IPython.core.display.HTML object>"
      ]
     },
     "metadata": {},
     "output_type": "display_data"
    },
    {
     "data": {
      "text/html": [
       "Find logs at: <code>./wandb/run-20240205_173624-raoavnyc/logs</code>"
      ],
      "text/plain": [
       "<IPython.core.display.HTML object>"
      ]
     },
     "metadata": {},
     "output_type": "display_data"
    }
   ],
   "source": [
    "import wandb\n",
    "from tensorflow.keras import models, layers, optimizers\n",
    "\n",
    "# load and preprocess the data\n",
    "from tensorflow.keras.datasets import mnist\n",
    "(train_images, train_labels), (test_images, test_labels) = mnist.load_data()\n",
    "train_images = train_images.reshape((60000, 28 * 28)).astype('float32') / 255\n",
    "test_images = test_images.reshape((10000, 28 * 28)).astype('float32') / 255\n",
    "\n",
    "from tensorflow.keras.utils import to_categorical\n",
    "train_labels = to_categorical(train_labels)\n",
    "test_labels = to_categorical(test_labels)\n",
    "\n",
    "\n",
    "# best hyperparameters from W&B as shown on MNIST_1_hyperparameter_tuning\n",
    "best_hyperparams = {'epochs': 5, 'momentum': 0.25, 'batch_size': 128, 'learning_rate': 0.001, 'intermediate_dimension': 768}\n",
    "\n",
    "# rebuild the network with the best hyperparameters\n",
    "network = models.Sequential()\n",
    "network.add(layers.Dense(best_hyperparams['intermediate_dimension'], activation='relu', input_shape=(28 * 28,)))\n",
    "network.add(layers.Dense(10, activation='softmax'))\n",
    "\n",
    "# recompile the network with the best hyperparameters\n",
    "network.compile(\n",
    "    optimizer=optimizers.RMSprop(\n",
    "        lr=best_hyperparams['learning_rate'], \n",
    "        momentum=best_hyperparams['momentum']\n",
    "    ),\n",
    "    loss='categorical_crossentropy', \n",
    "    metrics=['accuracy']\n",
    ")\n",
    "\n",
    "# log the retraining to W&B\n",
    "wandb.init(project=\"MNIST_experiments\", config=best_hyperparams)\n",
    "\n",
    "# retrain the network\n",
    "network.fit(\n",
    "    train_images, \n",
    "    train_labels, \n",
    "    epochs=best_hyperparams['epochs'],\n",
    "    batch_size=best_hyperparams['batch_size'], \n",
    "    validation_data=(test_images, test_labels),\n",
    "    callbacks=[wandb.keras.WandbCallback()]\n",
    ")\n",
    "\n",
    "# evaluate on the test set\n",
    "test_loss, test_acc = network.evaluate(test_images, test_labels)\n",
    "print(f\"Test Loss: {test_loss}, Test Accuracy: {test_acc}\")\n",
    "\n",
    "# log test results to W&B\n",
    "wandb.log({\"test_loss\": test_loss, \"test_accuracy\": test_acc})\n",
    "\n",
    "# finish W&B run\n",
    "wandb.finish()\n"
   ]
  },
  {
   "cell_type": "code",
   "execution_count": 11,
   "id": "d457a53a",
   "metadata": {},
   "outputs": [
    {
     "name": "stderr",
     "output_type": "stream",
     "text": [
      "/Users/alejandromarinjimenez/anaconda3/lib/python3.11/site-packages/keras/src/engine/training.py:3103: UserWarning: You are saving your model as an HDF5 file via `model.save()`. This file format is considered legacy. We recommend using instead the native Keras format, e.g. `model.save('my_model.keras')`.\n",
      "  saving_api.save_model(\n"
     ]
    }
   ],
   "source": [
    "network.save('MNIST_model_Feb_24.h5')  # Creates a HDF5 file 'my_model.h5'"
   ]
  },
  {
   "cell_type": "code",
   "execution_count": 10,
   "id": "b69ec8ab",
   "metadata": {},
   "outputs": [
    {
     "name": "stdout",
     "output_type": "stream",
     "text": [
      "Model: \"sequential_1\"\n",
      "_________________________________________________________________\n",
      " Layer (type)                Output Shape              Param #   \n",
      "=================================================================\n",
      " dense_2 (Dense)             (None, 768)               602880    \n",
      "                                                                 \n",
      " dense_3 (Dense)             (None, 10)                7690      \n",
      "                                                                 \n",
      "=================================================================\n",
      "Total params: 610570 (2.33 MB)\n",
      "Trainable params: 610570 (2.33 MB)\n",
      "Non-trainable params: 0 (0.00 Byte)\n",
      "_________________________________________________________________\n",
      "None\n",
      "Final Model Performance Metrics:\n",
      "Test Loss: 0.060785286128520966\n",
      "Test Accuracy: 0.9811999797821045\n"
     ]
    }
   ],
   "source": [
    "# log model's architecture\n",
    "print(network.summary())\n",
    "\n",
    "# log performance metrics\n",
    "print(\"Final Model Performance Metrics:\")\n",
    "print(f\"Test Loss: {test_loss}\")\n",
    "print(f\"Test Accuracy: {test_acc}\")"
   ]
  },
  {
   "cell_type": "markdown",
   "id": "d7311052",
   "metadata": {},
   "source": [
    "## confusion matrix\n",
    "\n",
    "The model seems to have a high accuracy even when there are some misclassifications especially between digits \"9\" and \"4\" and \"3\" and \"5\""
   ]
  },
  {
   "cell_type": "code",
   "execution_count": 12,
   "id": "944e882a",
   "metadata": {},
   "outputs": [
    {
     "name": "stdout",
     "output_type": "stream",
     "text": [
      "313/313 [==============================] - 1s 2ms/step\n"
     ]
    },
    {
     "data": {
      "image/png": "[encoded data removed]",
      "text/plain": [
       "<Figure size 1000x800 with 2 Axes>"
      ]
     },
     "metadata": {},
     "output_type": "display_data"
    }
   ],
   "source": [
    "import numpy as np\n",
    "from tensorflow.keras.models import load_model\n",
    "from sklearn.metrics import confusion_matrix\n",
    "import seaborn as sns\n",
    "import matplotlib.pyplot as plt\n",
    "\n",
    "# load the model\n",
    "model = load_model('MNIST_model_Feb_24.h5')\n",
    "\n",
    "# get predictions for the test set\n",
    "test_predictions = model.predict(test_images)\n",
    "test_predictions_classes = np.argmax(test_predictions, axis=1)\n",
    "test_true_classes = np.argmax(test_labels, axis=1)\n",
    "\n",
    "# generate confusion matrix\n",
    "cm = confusion_matrix(test_true_classes, test_predictions_classes)\n",
    "\n",
    "# plot confusion matrix\n",
    "plt.figure(figsize=(10, 8))\n",
    "sns.heatmap(cm, annot=True, fmt='d')\n",
    "plt.title('Confusion Matrix')\n",
    "plt.ylabel('Actual Label')\n",
    "plt.xlabel('Predicted Label')\n",
    "plt.show()\n"
   ]
  },
  {
   "cell_type": "markdown",
   "id": "f55fd107",
   "metadata": {},
   "source": [
    "After fine-tuning the network and assessing its accuracy we're ready to test on new unseen data by deploying the network. but first we need to save the model."
   ]
  },
  {
   "cell_type": "code",
   "execution_count": 13,
   "id": "9aac5f6e",
   "metadata": {},
   "outputs": [],
   "source": [
    "from tensorflow.keras.models import load_model\n",
    "model = load_model('MNIST_model_Feb_24.h5')"
   ]
  }
 ],
 "metadata": {
  "kernelspec": {
   "display_name": "Python 3 (ipykernel)",
   "language": "python",
   "name": "python3"
  },
  "language_info": {
   "codemirror_mode": {
    "name": "ipython",
    "version": 3
   },
   "file_extension": ".py",
   "mimetype": "text/x-python",
   "name": "python",
   "nbconvert_exporter": "python",
   "pygments_lexer": "ipython3",
   "version": "3.11.4"
  }
 },
 "nbformat": 4,
 "nbformat_minor": 5
}
