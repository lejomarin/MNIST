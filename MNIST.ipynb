{
 "cells": [
  {
   "cell_type": "markdown",
   "metadata": {},
   "source": [
    "# MNIST\n",
    "### handwritten digit prediction using neural networks"
   ]
  },
  {
   "cell_type": "markdown",
   "metadata": {},
   "source": [
    "The MNIST database of handwritten digits consists of float32 Numpy tensors of shapes:\n",
    "\n",
    "- (60000,784) for training <br>\n",
    "- (10000,784) for testing\n",
    "\n",
    "The goal of the neural network is to accurately classify handwritten digits by minimizing the discrepancy between the predicted labels and the true labels. Mini-batch Stochastic Gradient Descent (SGD) is a commonly used optimization method for this purpose."
   ]
  },
  {
   "cell_type": "markdown",
   "metadata": {},
   "source": [
    "**Intermediate Dimensions:** A higher number of dimensions usually allows the network to learn more complex representations, but it can also lead to overfitting and longer training times. A smaller number might not capture the complexity of the data.\n",
    "\n",
    "**Learning Rates:** A larger learning rate can lead to faster convergence but might overshoot the minimum, while a smaller learning rate converges more slowly and might get stuck in local minima.\n",
    "\n",
    "**Momentum:** A higher momentum can help to converge faster and escape local minima but might lead to instability in the training process if it's too high."
   ]
  },
  {
   "cell_type": "markdown",
   "metadata": {},
   "source": [
    "by importing and using an optimizer we can tweak the learning rate and momentum parameters\n",
    "\n",
    "```\n",
    "from tensorflow.keras import optimizers\n",
    "network.compile(optimizer=optimizers.RMSprop(lr=0.001, momentum=0.0),\n",
    "                loss='categorical_crossentropy', \n",
    "                metrics=['accuracy'])\n",
    "```\n",
    "\n",
    "The first layer shown below transforms the 784-element image vector to a 512 dimensional intermediate representation. We'll iterate using different intermediate dimensions.\n",
    "\n",
    "We'll also experiment with different learning rates and momentums."
   ]
  },
  {
   "cell_type": "markdown",
   "metadata": {},
   "source": [
    "## Build the network\n",
    "\n",
    "The network is a chain of two dense layers that apply tensor transformations. The last one \"softmax,\" providing the classification structure for our output, i.e., a number between 0 and 9 for each digit\n",
    "\n",
    "````\n",
    "network = models.Sequential()\n",
    "network.add(layers.Dense(512, activation='relu', input_shape=(28 * 28, )))\n",
    "network.add(layers.Dense(10, activation='softmax'))\n",
    "\n",
    "````\n"
   ]
  },
  {
   "cell_type": "code",
   "execution_count": 2,
   "metadata": {},
   "outputs": [],
   "source": [
    "#initial values\n",
    "\n",
    "dimensions = 512\n",
    "learning_rate = 0.001\n",
    "momentum = 0.0"
   ]
  },
  {
   "cell_type": "code",
   "execution_count": 1,
   "metadata": {},
   "outputs": [
    {
     "name": "stdout",
     "output_type": "stream",
     "text": [
      "Downloading data from https://storage.googleapis.com/tensorflow/tf-keras-datasets/mnist.npz\n",
      "11493376/11490434 [==============================] - 0s 0us/step\n",
      "Epoch 1/20\n",
      "469/469 [==============================] - 35s 75ms/step - loss: 0.2580 - accuracy: 0.9251\n",
      "Epoch 2/20\n",
      "469/469 [==============================] - 40s 85ms/step - loss: 0.1034 - accuracy: 0.9699\n",
      "Epoch 3/20\n",
      "469/469 [==============================] - 36s 78ms/step - loss: 0.0682 - accuracy: 0.9791\n",
      "Epoch 4/20\n",
      "469/469 [==============================] - 34s 73ms/step - loss: 0.0502 - accuracy: 0.9847\n",
      "Epoch 5/20\n",
      "469/469 [==============================] - 43s 91ms/step - loss: 0.0378 - accuracy: 0.9882\n",
      "Epoch 6/20\n",
      "469/469 [==============================] - 36s 76ms/step - loss: 0.0290 - accuracy: 0.9910\n",
      "Epoch 7/20\n",
      "469/469 [==============================] - 33s 71ms/step - loss: 0.0219 - accuracy: 0.9935\n",
      "Epoch 8/20\n",
      "469/469 [==============================] - 40s 86ms/step - loss: 0.0172 - accuracy: 0.9950\n",
      "Epoch 9/20\n",
      "469/469 [==============================] - 38s 81ms/step - loss: 0.0132 - accuracy: 0.9962\n",
      "Epoch 10/20\n",
      "469/469 [==============================] - 34s 73ms/step - loss: 0.0103 - accuracy: 0.9970\n",
      "Epoch 11/20\n",
      "469/469 [==============================] - 34s 72ms/step - loss: 0.0079 - accuracy: 0.9978\n",
      "Epoch 12/20\n",
      "469/469 [==============================] - 34s 71ms/step - loss: 0.0061 - accuracy: 0.9983\n",
      "Epoch 13/20\n",
      "469/469 [==============================] - 35s 74ms/step - loss: 0.0051 - accuracy: 0.9986\n",
      "Epoch 14/20\n",
      "469/469 [==============================] - 34s 72ms/step - loss: 0.0039 - accuracy: 0.9991\n",
      "Epoch 15/20\n",
      "469/469 [==============================] - 33s 71ms/step - loss: 0.0030 - accuracy: 0.9992\n",
      "Epoch 16/20\n",
      "469/469 [==============================] - 33s 70ms/step - loss: 0.0024 - accuracy: 0.9992\n",
      "Epoch 17/20\n",
      "469/469 [==============================] - 34s 74ms/step - loss: 0.0018 - accuracy: 0.9995\n",
      "Epoch 18/20\n",
      "469/469 [==============================] - 34s 73ms/step - loss: 0.0016 - accuracy: 0.9997\n",
      "Epoch 19/20\n",
      "469/469 [==============================] - 35s 75ms/step - loss: 0.0012 - accuracy: 0.9997\n",
      "Epoch 20/20\n",
      "469/469 [==============================] - 34s 73ms/step - loss: 8.6075e-04 - accuracy: 0.9997\n"
     ]
    },
    {
     "data": {
      "text/plain": [
       "<tensorflow.python.keras.callbacks.History at 0x7fa546a76990>"
      ]
     },
     "execution_count": 1,
     "metadata": {},
     "output_type": "execute_result"
    }
   ],
   "source": [
    "# load the data\n",
    "from tensorflow.keras.datasets import mnist\n",
    "(train_images, train_labels), (test_images, test_labels) = mnist.load_data()\n",
    "\n",
    "# preprocess\n",
    "# image data is vectorized and scaled to floats between 0 and 1\n",
    "train_images = train_images.reshape((60000, 28 * 28))\n",
    "train_images = train_images.astype('float32') / 255\n",
    "test_images = test_images.reshape((10000, 28 * 28))\n",
    "test_images = test_images.astype('float32') / 255\n",
    "\n",
    "from tensorflow.keras.utils import to_categorical\n",
    "train_labels = to_categorical(train_labels)\n",
    "test_labels = to_categorical(test_labels)\n",
    "\n",
    "# build the network\n",
    "from tensorflow.keras import models, layers\n",
    "network = models.Sequential()\n",
    "network.add(layers.Dense(512, activation='relu', input_shape=(28 * 28, )))\n",
    "network.add(layers.Dense(10, activation='softmax'))\n",
    "\n",
    "# optimizer, loss function, and a monitoring metric\n",
    "from tensorflow.keras import optimizers\n",
    "network.compile(optimizer=optimizers.RMSprop(lr=0.001, momentum=0.0),\n",
    "              loss='categorical_crossentropy', \n",
    "              metrics=['accuracy'])\n",
    "# train\n",
    "network.fit(train_images, train_labels, epochs=20, batch_size=128)"
   ]
  },
  {
   "cell_type": "code",
   "execution_count": 2,
   "metadata": {},
   "outputs": [
    {
     "name": "stdout",
     "output_type": "stream",
     "text": [
      "313/313 [==============================] - 1s 4ms/step - loss: 0.0952 - accuracy: 0.9817\n"
     ]
    }
   ],
   "source": [
    "# evaluate on the test set\n",
    "test_loss, test_acc = network.evaluate(test_images, test_labels)"
   ]
  },
  {
   "cell_type": "code",
   "execution_count": 3,
   "metadata": {},
   "outputs": [
    {
     "name": "stdout",
     "output_type": "stream",
     "text": [
      "there are  9375.0 updates for 20 epochs of 128 sample mini-batches\n"
     ]
    }
   ],
   "source": [
    "GSD = (60000/128) * 20\n",
    "print(\"there are \", GSD, \"updates for 20 epochs of 128 sample mini-batches\")"
   ]
  },
  {
   "cell_type": "markdown",
   "metadata": {},
   "source": [
    "After fine-tuning the network we're ready to test on new, unseen data:"
   ]
  },
  {
   "cell_type": "code",
   "execution_count": null,
   "metadata": {},
   "outputs": [],
   "source": []
  }
 ],
 "metadata": {
  "kernelspec": {
   "display_name": "Python 3 (ipykernel)",
   "language": "python",
   "name": "python3"
  },
  "language_info": {
   "codemirror_mode": {
    "name": "ipython",
    "version": 3
   },
   "file_extension": ".py",
   "mimetype": "text/x-python",
   "name": "python",
   "nbconvert_exporter": "python",
   "pygments_lexer": "ipython3",
   "version": "3.11.4"
  }
 },
 "nbformat": 4,
 "nbformat_minor": 2
}
