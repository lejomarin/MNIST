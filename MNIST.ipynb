{
 "cells": [
  {
   "cell_type": "markdown",
   "metadata": {},
   "source": [
    "1. Run MNIST\n",
    "- Add a text cell and comment on network training and test accuracy\n",
    "- Train for 20 epochs and evaluate. Comment on your findings\n",
    "- The first layer transforms the 784-element image vector to a 512 dimensional intermediate representation Experiment with different intermediate dimensions. Make a markdown table of network performance on the test set for varying intermediate dimension. Comment on your results\n",
    "- Replace network compilation with \n",
    "```\n",
    "from tensorflow.keras import optimizers\n",
    "network.compile(optimizer=optimizers.RMSprop(lr=0.001, momentum=0.0),\n",
    "                loss='categorical_crossentropy', \n",
    "                metrics=['accuracy'])\n",
    "```\n",
    "The code is exactly equivalent, but we are now able to adjust learning rate and momentum. `lr=0.001` is the default value: experiment with different learning rates. Tabulate your results and interpret\n",
    "- Experiment with different momentums. Tabulate and interpret"
   ]
  },
  {
   "cell_type": "code",
   "execution_count": 1,
   "metadata": {},
   "outputs": [
    {
     "name": "stdout",
     "output_type": "stream",
     "text": [
      "Downloading data from https://storage.googleapis.com/tensorflow/tf-keras-datasets/mnist.npz\n",
      "11493376/11490434 [==============================] - 0s 0us/step\n",
      "Epoch 1/20\n",
      "469/469 [==============================] - 35s 75ms/step - loss: 0.2580 - accuracy: 0.9251\n",
      "Epoch 2/20\n",
      "469/469 [==============================] - 40s 85ms/step - loss: 0.1034 - accuracy: 0.9699\n",
      "Epoch 3/20\n",
      "469/469 [==============================] - 36s 78ms/step - loss: 0.0682 - accuracy: 0.9791\n",
      "Epoch 4/20\n",
      "469/469 [==============================] - 34s 73ms/step - loss: 0.0502 - accuracy: 0.9847\n",
      "Epoch 5/20\n",
      "469/469 [==============================] - 43s 91ms/step - loss: 0.0378 - accuracy: 0.9882\n",
      "Epoch 6/20\n",
      "469/469 [==============================] - 36s 76ms/step - loss: 0.0290 - accuracy: 0.9910\n",
      "Epoch 7/20\n",
      "469/469 [==============================] - 33s 71ms/step - loss: 0.0219 - accuracy: 0.9935\n",
      "Epoch 8/20\n",
      "469/469 [==============================] - 40s 86ms/step - loss: 0.0172 - accuracy: 0.9950\n",
      "Epoch 9/20\n",
      "469/469 [==============================] - 38s 81ms/step - loss: 0.0132 - accuracy: 0.9962\n",
      "Epoch 10/20\n",
      "469/469 [==============================] - 34s 73ms/step - loss: 0.0103 - accuracy: 0.9970\n",
      "Epoch 11/20\n",
      "469/469 [==============================] - 34s 72ms/step - loss: 0.0079 - accuracy: 0.9978\n",
      "Epoch 12/20\n",
      "469/469 [==============================] - 34s 71ms/step - loss: 0.0061 - accuracy: 0.9983\n",
      "Epoch 13/20\n",
      "469/469 [==============================] - 35s 74ms/step - loss: 0.0051 - accuracy: 0.9986\n",
      "Epoch 14/20\n",
      "469/469 [==============================] - 34s 72ms/step - loss: 0.0039 - accuracy: 0.9991\n",
      "Epoch 15/20\n",
      "469/469 [==============================] - 33s 71ms/step - loss: 0.0030 - accuracy: 0.9992\n",
      "Epoch 16/20\n",
      "469/469 [==============================] - 33s 70ms/step - loss: 0.0024 - accuracy: 0.9992\n",
      "Epoch 17/20\n",
      "469/469 [==============================] - 34s 74ms/step - loss: 0.0018 - accuracy: 0.9995\n",
      "Epoch 18/20\n",
      "469/469 [==============================] - 34s 73ms/step - loss: 0.0016 - accuracy: 0.9997\n",
      "Epoch 19/20\n",
      "469/469 [==============================] - 35s 75ms/step - loss: 0.0012 - accuracy: 0.9997\n",
      "Epoch 20/20\n",
      "469/469 [==============================] - 34s 73ms/step - loss: 8.6075e-04 - accuracy: 0.9997\n"
     ]
    },
    {
     "data": {
      "text/plain": [
       "<tensorflow.python.keras.callbacks.History at 0x7fa546a76990>"
      ]
     },
     "execution_count": 1,
     "metadata": {},
     "output_type": "execute_result"
    }
   ],
   "source": [
    "# MNIST\n",
    "\n",
    "# load\n",
    "from tensorflow.keras.datasets import mnist\n",
    "(train_images, train_labels), (test_images, test_labels) = mnist.load_data()\n",
    "\n",
    "# preprocess\n",
    "train_images = train_images.reshape((60000, 28 * 28))\n",
    "train_images = train_images.astype('float32') / 255\n",
    "test_images = test_images.reshape((10000, 28 * 28))\n",
    "test_images = test_images.astype('float32') / 255\n",
    "\n",
    "from tensorflow.keras.utils import to_categorical\n",
    "train_labels = to_categorical(train_labels)\n",
    "test_labels = to_categorical(test_labels)\n",
    "\n",
    "# build\n",
    "from tensorflow.keras import models, layers\n",
    "network = models.Sequential()\n",
    "network.add(layers.Dense(512, activation='relu', input_shape=(28 * 28, )))\n",
    "network.add(layers.Dense(10, activation='softmax'))\n",
    "\n",
    "\n",
    "from tensorflow.keras import optimizers\n",
    "network.compile(optimizer=optimizers.RMSprop(lr=0.001, momentum=0.0),\n",
    "              loss='categorical_crossentropy', \n",
    "              metrics=['accuracy'])\n",
    "# train\n",
    "network.fit(train_images, train_labels, epochs=20, batch_size=128)"
   ]
  },
  {
   "cell_type": "code",
   "execution_count": 2,
   "metadata": {},
   "outputs": [
    {
     "name": "stdout",
     "output_type": "stream",
     "text": [
      "313/313 [==============================] - 1s 4ms/step - loss: 0.0952 - accuracy: 0.9817\n"
     ]
    }
   ],
   "source": [
    "# evaluate on the test set\n",
    "test_loss, test_acc = network.evaluate(test_images, test_labels)"
   ]
  },
  {
   "cell_type": "code",
   "execution_count": 5,
   "metadata": {},
   "outputs": [
    {
     "ename": "NameError",
     "evalue": "name 'history' is not defined",
     "output_type": "error",
     "traceback": [
      "\u001b[0;31m---------------------------------------------------------------------------\u001b[0m",
      "\u001b[0;31mNameError\u001b[0m                                 Traceback (most recent call last)",
      "\u001b[0;32m<ipython-input-5-3ca9dac3c18c>\u001b[0m in \u001b[0;36m<module>\u001b[0;34m\u001b[0m\n\u001b[1;32m      1\u001b[0m \u001b[0;32mimport\u001b[0m \u001b[0mmatplotlib\u001b[0m\u001b[0;34m.\u001b[0m\u001b[0mpyplot\u001b[0m \u001b[0;32mas\u001b[0m \u001b[0mplt\u001b[0m\u001b[0;34m\u001b[0m\u001b[0;34m\u001b[0m\u001b[0m\n\u001b[1;32m      2\u001b[0m \u001b[0;34m\u001b[0m\u001b[0m\n\u001b[0;32m----> 3\u001b[0;31m \u001b[0mloss\u001b[0m \u001b[0;34m=\u001b[0m \u001b[0mhistory\u001b[0m\u001b[0;34m.\u001b[0m\u001b[0mhistory\u001b[0m\u001b[0;34m[\u001b[0m\u001b[0;34m'loss'\u001b[0m\u001b[0;34m]\u001b[0m\u001b[0;34m\u001b[0m\u001b[0;34m\u001b[0m\u001b[0m\n\u001b[0m\u001b[1;32m      4\u001b[0m \u001b[0mval_loss\u001b[0m \u001b[0;34m=\u001b[0m \u001b[0mhistory\u001b[0m\u001b[0;34m.\u001b[0m\u001b[0mhistory\u001b[0m\u001b[0;34m[\u001b[0m\u001b[0;34m'val_loss'\u001b[0m\u001b[0;34m]\u001b[0m\u001b[0;34m\u001b[0m\u001b[0;34m\u001b[0m\u001b[0m\n\u001b[1;32m      5\u001b[0m \u001b[0;34m\u001b[0m\u001b[0m\n",
      "\u001b[0;31mNameError\u001b[0m: name 'history' is not defined"
     ]
    }
   ],
   "source": [
    "import matplotlib.pyplot as plt\n",
    "\n",
    "loss = history.history['loss']\n",
    "val_loss = history.history['val_loss']\n",
    "\n",
    "epochs = range(1, len(loss) + 1)\n",
    "\n",
    "plt.plot(epochs, loss, 'bo', label='Training loss')\n",
    "plt.plot(epochs, val_loss, 'b', label='Validation loss')\n",
    "plt.title('Training and validation loss')\n",
    "plt.xlabel('Epochs')\n",
    "plt.ylabel('Loss')\n",
    "plt.legend()\n",
    "\n",
    "plt.show()"
   ]
  },
  {
   "cell_type": "code",
   "execution_count": null,
   "metadata": {},
   "outputs": [],
   "source": []
  }
 ],
 "metadata": {
  "kernelspec": {
   "display_name": "Python 3",
   "language": "python",
   "name": "python3"
  },
  "language_info": {
   "codemirror_mode": {
    "name": "ipython",
    "version": 3
   },
   "file_extension": ".py",
   "mimetype": "text/x-python",
   "name": "python",
   "nbconvert_exporter": "python",
   "pygments_lexer": "ipython3",
   "version": "3.7.6"
  }
 },
 "nbformat": 4,
 "nbformat_minor": 2
}
