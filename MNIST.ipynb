{
 "cells": [
  {
   "cell_type": "markdown",
   "metadata": {},
   "source": [
    "# MNIST\n",
    "### handwritten digit prediction using neural networks"
   ]
  },
  {
   "cell_type": "markdown",
   "metadata": {},
   "source": [
    "The MNIST database of handwritten digits consists of float32 Numpy tensors of shapes:\n",
    "\n",
    "- (60000,784) for training <br>\n",
    "- (10000,784) for testing\n",
    "\n",
    "The goal of the neural network is to accurately classify handwritten digits by minimizing the discrepancy between the predicted labels and the true labels. Mini-batch Stochastic Gradient Descent (SGD) is a commonly used optimization method for this purpose.\n",
    "\n",
    "I'll test different parameters and publish the results using Weights and Biases' \"Sweeps\""
   ]
  },
  {
   "cell_type": "markdown",
   "metadata": {},
   "source": [
    "## Definitions\n",
    "\n",
    "**Intermediate Dimensions:** A higher number of dimensions usually allows the network to learn more complex representations, but it can also lead to overfitting and longer training times. A smaller number might not capture the complexity of the data.\n",
    "\n",
    "**Learning Rates:** A larger learning rate can lead to faster convergence but might overshoot the minimum, while a smaller learning rate converges more slowly and might get stuck in local minima.\n",
    "\n",
    "**Momentum:** A higher momentum can help to converge faster and escape local minima but might lead to instability in the training process if it's too high."
   ]
  },
  {
   "cell_type": "markdown",
   "metadata": {},
   "source": [
    "By importing and using an optimizer we can tweak the learning rate and momentum parameters\n",
    "\n",
    "```\n",
    "from tensorflow.keras import optimizers\n",
    "network.compile(optimizer=optimizers.RMSprop(lr=0.001, momentum=0.0),\n",
    "                loss='categorical_crossentropy', \n",
    "                metrics=['accuracy'])\n",
    "```\n",
    "\n",
    "The first layer shown below transforms the 784-element image vector to a 512 dimensional intermediate representation. We'll iterate using different intermediate dimensions.\n",
    "\n",
    "We'll also experiment with different learning rates and momentums."
   ]
  },
  {
   "cell_type": "markdown",
   "metadata": {},
   "source": [
    "## Build the network\n",
    "\n",
    "The network is a chain of two dense layers that apply tensor transformations. The last one \"softmax,\" providing the classification structure for our output, i.e., a number between 0 and 9 for each digit\n",
    "\n",
    "````\n",
    "network = models.Sequential()\n",
    "network.add(layers.Dense(512, activation='relu', input_shape=(28 * 28, )))\n",
    "network.add(layers.Dense(10, activation='softmax'))\n",
    "\n",
    "````\n"
   ]
  },
  {
   "cell_type": "code",
   "execution_count": 21,
   "metadata": {},
   "outputs": [],
   "source": [
    "import os\n",
    "import wandb\n",
    "\n",
    "# Retrieve the W&B entity from the environment variable\n",
    "wandb_entity = os.getenv('WANDB_ENTITY')\n",
    "\n",
    "#wandb.init(project=\"MNIST_experiments\", entity=wandb_entity)"
   ]
  },
  {
   "cell_type": "code",
   "execution_count": 3,
   "metadata": {},
   "outputs": [
    {
     "name": "stderr",
     "output_type": "stream",
     "text": [
      "2024-02-04 19:45:44.173763: I tensorflow/core/platform/cpu_feature_guard.cc:182] This TensorFlow binary is optimized to use available CPU instructions in performance-critical operations.\n",
      "To enable the following instructions: AVX2 FMA, in other operations, rebuild TensorFlow with the appropriate compiler flags.\n"
     ]
    },
    {
     "name": "stdout",
     "output_type": "stream",
     "text": [
      "Create sweep with ID: yeagcad6\n",
      "Sweep URL: http://localhost:8080/lejomarin/MNIST_experiments/sweeps/yeagcad6\n"
     ]
    },
    {
     "name": "stderr",
     "output_type": "stream",
     "text": [
      "\u001b[34m\u001b[1mwandb\u001b[0m: Agent Starting Run: n3aswuib with config:\n",
      "\u001b[34m\u001b[1mwandb\u001b[0m: \tbatch_size: 128\n",
      "\u001b[34m\u001b[1mwandb\u001b[0m: \tepochs: 5\n",
      "\u001b[34m\u001b[1mwandb\u001b[0m: \tintermediate_dimension: 256\n",
      "\u001b[34m\u001b[1mwandb\u001b[0m: \tlearning_rate: 0.001\n",
      "\u001b[34m\u001b[1mwandb\u001b[0m: \tmomentum: 0\n",
      "\u001b[34m\u001b[1mwandb\u001b[0m: Currently logged in as: \u001b[33mlejomarin\u001b[0m. Use \u001b[1m`wandb login --relogin`\u001b[0m to force relogin\n"
     ]
    },
    {
     "data": {
      "text/html": [
       "Tracking run with wandb version 0.16.2"
      ],
      "text/plain": [
       "<IPython.core.display.HTML object>"
      ]
     },
     "metadata": {},
     "output_type": "display_data"
    },
    {
     "data": {
      "text/html": [
       "Run data is saved locally in <code>/Users/alejandromarinjimenez/Documents/Computer_Science/git/MNIST_Jan_2024/wandb/run-20240204_194550-n3aswuib</code>"
      ],
      "text/plain": [
       "<IPython.core.display.HTML object>"
      ]
     },
     "metadata": {},
     "output_type": "display_data"
    },
    {
     "data": {
      "text/html": [
       "Syncing run <strong><a href='http://localhost:8080/lejomarin/MNIST_experiments/runs/n3aswuib' target=\"_blank\">effortless-sweep-1</a></strong> to <a href='http://localhost:8080/lejomarin/MNIST_experiments' target=\"_blank\">Weights & Biases</a> (<a href='https://wandb.me/run' target=\"_blank\">docs</a>)<br/>Sweep page: <a href='http://localhost:8080/lejomarin/MNIST_experiments/sweeps/yeagcad6' target=\"_blank\">http://localhost:8080/lejomarin/MNIST_experiments/sweeps/yeagcad6</a>"
      ],
      "text/plain": [
       "<IPython.core.display.HTML object>"
      ]
     },
     "metadata": {},
     "output_type": "display_data"
    },
    {
     "data": {
      "text/html": [
       " View project at <a href='http://localhost:8080/lejomarin/MNIST_experiments' target=\"_blank\">http://localhost:8080/lejomarin/MNIST_experiments</a>"
      ],
      "text/plain": [
       "<IPython.core.display.HTML object>"
      ]
     },
     "metadata": {},
     "output_type": "display_data"
    },
    {
     "data": {
      "text/html": [
       " View sweep at <a href='http://localhost:8080/lejomarin/MNIST_experiments/sweeps/yeagcad6' target=\"_blank\">http://localhost:8080/lejomarin/MNIST_experiments/sweeps/yeagcad6</a>"
      ],
      "text/plain": [
       "<IPython.core.display.HTML object>"
      ]
     },
     "metadata": {},
     "output_type": "display_data"
    },
    {
     "data": {
      "text/html": [
       " View run at <a href='http://localhost:8080/lejomarin/MNIST_experiments/runs/n3aswuib' target=\"_blank\">http://localhost:8080/lejomarin/MNIST_experiments/runs/n3aswuib</a>"
      ],
      "text/plain": [
       "<IPython.core.display.HTML object>"
      ]
     },
     "metadata": {},
     "output_type": "display_data"
    },
    {
     "name": "stderr",
     "output_type": "stream",
     "text": [
      "WARNING:absl:`lr` is deprecated in Keras optimizer, please use `learning_rate` or use the legacy optimizer, e.g.,tf.keras.optimizers.legacy.RMSprop.\n",
      "\u001b[34m\u001b[1mwandb\u001b[0m: \u001b[33mWARNING\u001b[0m The save_model argument by default saves the model in the HDF5 format that cannot save custom objects like subclassed models and custom layers. This behavior will be deprecated in a future release in favor of the SavedModel format. Meanwhile, the HDF5 model is saved as W&B files and the SavedModel as W&B Artifacts.\n"
     ]
    },
    {
     "name": "stdout",
     "output_type": "stream",
     "text": [
      "Epoch 1/5\n",
      "453/469 [===========================>..] - ETA: 0s - loss: 0.2965 - accuracy: 0.9172"
     ]
    },
    {
     "name": "stderr",
     "output_type": "stream",
     "text": [
      "/Users/alejandromarinjimenez/anaconda3/lib/python3.11/site-packages/keras/src/engine/training.py:3103: UserWarning: You are saving your model as an HDF5 file via `model.save()`. This file format is considered legacy. We recommend using instead the native Keras format, e.g. `model.save('my_model.keras')`.\n",
      "  saving_api.save_model(\n"
     ]
    },
    {
     "name": "stdout",
     "output_type": "stream",
     "text": [
      "INFO:tensorflow:Assets written to: /Users/alejandromarinjimenez/Documents/Computer_Science/git/MNIST_Jan_2024/wandb/run-20240204_194550-n3aswuib/files/model-best/assets\n"
     ]
    },
    {
     "name": "stderr",
     "output_type": "stream",
     "text": [
      "INFO:tensorflow:Assets written to: /Users/alejandromarinjimenez/Documents/Computer_Science/git/MNIST_Jan_2024/wandb/run-20240204_194550-n3aswuib/files/model-best/assets\n",
      "\u001b[34m\u001b[1mwandb\u001b[0m: Adding directory to artifact (/Users/alejandromarinjimenez/Documents/Computer_Science/git/MNIST_Jan_2024/wandb/run-20240204_194550-n3aswuib/files/model-best)... Done. 0.1s\n"
     ]
    },
    {
     "name": "stdout",
     "output_type": "stream",
     "text": [
      "469/469 [==============================] - 2s 4ms/step - loss: 0.2924 - accuracy: 0.9184 - val_loss: 0.1504 - val_accuracy: 0.9561\n",
      "Epoch 2/5\n",
      "464/469 [============================>.] - ETA: 0s - loss: 0.1304 - accuracy: 0.9628"
     ]
    },
    {
     "name": "stderr",
     "output_type": "stream",
     "text": [
      "/Users/alejandromarinjimenez/anaconda3/lib/python3.11/site-packages/keras/src/engine/training.py:3103: UserWarning: You are saving your model as an HDF5 file via `model.save()`. This file format is considered legacy. We recommend using instead the native Keras format, e.g. `model.save('my_model.keras')`.\n",
      "  saving_api.save_model(\n"
     ]
    },
    {
     "name": "stdout",
     "output_type": "stream",
     "text": [
      "INFO:tensorflow:Assets written to: /Users/alejandromarinjimenez/Documents/Computer_Science/git/MNIST_Jan_2024/wandb/run-20240204_194550-n3aswuib/files/model-best/assets\n"
     ]
    },
    {
     "name": "stderr",
     "output_type": "stream",
     "text": [
      "INFO:tensorflow:Assets written to: /Users/alejandromarinjimenez/Documents/Computer_Science/git/MNIST_Jan_2024/wandb/run-20240204_194550-n3aswuib/files/model-best/assets\n",
      "\u001b[34m\u001b[1mwandb\u001b[0m: Adding directory to artifact (/Users/alejandromarinjimenez/Documents/Computer_Science/git/MNIST_Jan_2024/wandb/run-20240204_194550-n3aswuib/files/model-best)... Done. 0.0s\n"
     ]
    },
    {
     "name": "stdout",
     "output_type": "stream",
     "text": [
      "469/469 [==============================] - 2s 4ms/step - loss: 0.1298 - accuracy: 0.9629 - val_loss: 0.1055 - val_accuracy: 0.9678\n",
      "Epoch 3/5\n",
      "449/469 [===========================>..] - ETA: 0s - loss: 0.0881 - accuracy: 0.9741"
     ]
    },
    {
     "name": "stderr",
     "output_type": "stream",
     "text": [
      "/Users/alejandromarinjimenez/anaconda3/lib/python3.11/site-packages/keras/src/engine/training.py:3103: UserWarning: You are saving your model as an HDF5 file via `model.save()`. This file format is considered legacy. We recommend using instead the native Keras format, e.g. `model.save('my_model.keras')`.\n",
      "  saving_api.save_model(\n"
     ]
    },
    {
     "name": "stdout",
     "output_type": "stream",
     "text": [
      "INFO:tensorflow:Assets written to: /Users/alejandromarinjimenez/Documents/Computer_Science/git/MNIST_Jan_2024/wandb/run-20240204_194550-n3aswuib/files/model-best/assets\n"
     ]
    },
    {
     "name": "stderr",
     "output_type": "stream",
     "text": [
      "INFO:tensorflow:Assets written to: /Users/alejandromarinjimenez/Documents/Computer_Science/git/MNIST_Jan_2024/wandb/run-20240204_194550-n3aswuib/files/model-best/assets\n",
      "\u001b[34m\u001b[1mwandb\u001b[0m: Adding directory to artifact (/Users/alejandromarinjimenez/Documents/Computer_Science/git/MNIST_Jan_2024/wandb/run-20240204_194550-n3aswuib/files/model-best)... Done. 0.0s\n"
     ]
    },
    {
     "name": "stdout",
     "output_type": "stream",
     "text": [
      "469/469 [==============================] - 2s 4ms/step - loss: 0.0879 - accuracy: 0.9740 - val_loss: 0.0828 - val_accuracy: 0.9739\n",
      "Epoch 4/5\n",
      "469/469 [==============================] - 2s 5ms/step - loss: 0.0661 - accuracy: 0.9805 - val_loss: 0.0873 - val_accuracy: 0.9735\n",
      "Epoch 5/5\n",
      "454/469 [============================>.] - ETA: 0s - loss: 0.0521 - accuracy: 0.9847"
     ]
    },
    {
     "name": "stderr",
     "output_type": "stream",
     "text": [
      "/Users/alejandromarinjimenez/anaconda3/lib/python3.11/site-packages/keras/src/engine/training.py:3103: UserWarning: You are saving your model as an HDF5 file via `model.save()`. This file format is considered legacy. We recommend using instead the native Keras format, e.g. `model.save('my_model.keras')`.\n",
      "  saving_api.save_model(\n"
     ]
    },
    {
     "name": "stdout",
     "output_type": "stream",
     "text": [
      "INFO:tensorflow:Assets written to: /Users/alejandromarinjimenez/Documents/Computer_Science/git/MNIST_Jan_2024/wandb/run-20240204_194550-n3aswuib/files/model-best/assets\n"
     ]
    },
    {
     "name": "stderr",
     "output_type": "stream",
     "text": [
      "INFO:tensorflow:Assets written to: /Users/alejandromarinjimenez/Documents/Computer_Science/git/MNIST_Jan_2024/wandb/run-20240204_194550-n3aswuib/files/model-best/assets\n",
      "\u001b[34m\u001b[1mwandb\u001b[0m: Adding directory to artifact (/Users/alejandromarinjimenez/Documents/Computer_Science/git/MNIST_Jan_2024/wandb/run-20240204_194550-n3aswuib/files/model-best)... Done. 0.0s\n"
     ]
    },
    {
     "name": "stdout",
     "output_type": "stream",
     "text": [
      "469/469 [==============================] - 2s 5ms/step - loss: 0.0520 - accuracy: 0.9847 - val_loss: 0.0720 - val_accuracy: 0.9782\n",
      "313/313 [==============================] - 0s 1ms/step - loss: 0.0720 - accuracy: 0.9782\n"
     ]
    },
    {
     "data": {
      "application/vnd.jupyter.widget-view+json": {
       "model_id": "",
       "version_major": 2,
       "version_minor": 0
      },
      "text/plain": [
       "VBox(children=(Label(value='8.379 MB of 8.379 MB uploaded (0.020 MB deduped)\\r'), FloatProgress(value=1.0, max…"
      ]
     },
     "metadata": {},
     "output_type": "display_data"
    },
    {
     "data": {
      "text/html": [
       "<style>\n",
       "    table.wandb td:nth-child(1) { padding: 0 10px; text-align: left ; width: auto;} td:nth-child(2) {text-align: left ; width: 100%}\n",
       "    .wandb-row { display: flex; flex-direction: row; flex-wrap: wrap; justify-content: flex-start; width: 100% }\n",
       "    .wandb-col { display: flex; flex-direction: column; flex-basis: 100%; flex: 1; padding: 10px; }\n",
       "    </style>\n",
       "<div class=\"wandb-row\"><div class=\"wandb-col\"><h3>Run history:</h3><br/><table class=\"wandb\"><tr><td>accuracy</td><td>▁▆▇██</td></tr><tr><td>epoch</td><td>▁▃▅▆█</td></tr><tr><td>loss</td><td>█▃▂▁▁</td></tr><tr><td>test_accuracy</td><td>▁</td></tr><tr><td>test_loss</td><td>▁</td></tr><tr><td>val_accuracy</td><td>▁▅▇▇█</td></tr><tr><td>val_loss</td><td>█▄▂▂▁</td></tr></table><br/></div><div class=\"wandb-col\"><h3>Run summary:</h3><br/><table class=\"wandb\"><tr><td>accuracy</td><td>0.98473</td></tr><tr><td>best_epoch</td><td>4</td></tr><tr><td>best_val_loss</td><td>0.07196</td></tr><tr><td>epoch</td><td>4</td></tr><tr><td>loss</td><td>0.05203</td></tr><tr><td>test_accuracy</td><td>0.9782</td></tr><tr><td>test_loss</td><td>0.07196</td></tr><tr><td>val_accuracy</td><td>0.9782</td></tr><tr><td>val_loss</td><td>0.07196</td></tr></table><br/></div></div>"
      ],
      "text/plain": [
       "<IPython.core.display.HTML object>"
      ]
     },
     "metadata": {},
     "output_type": "display_data"
    },
    {
     "data": {
      "text/html": [
       " View run <strong style=\"color:#cdcd00\">effortless-sweep-1</strong> at: <a href='http://localhost:8080/lejomarin/MNIST_experiments/runs/n3aswuib' target=\"_blank\">http://localhost:8080/lejomarin/MNIST_experiments/runs/n3aswuib</a><br/>Synced 7 W&B file(s), 1 media file(s), 20 artifact file(s) and 2 other file(s)"
      ],
      "text/plain": [
       "<IPython.core.display.HTML object>"
      ]
     },
     "metadata": {},
     "output_type": "display_data"
    },
    {
     "data": {
      "text/html": [
       "Find logs at: <code>./wandb/run-20240204_194550-n3aswuib/logs</code>"
      ],
      "text/plain": [
       "<IPython.core.display.HTML object>"
      ]
     },
     "metadata": {},
     "output_type": "display_data"
    },
    {
     "name": "stderr",
     "output_type": "stream",
     "text": [
      "\u001b[34m\u001b[1mwandb\u001b[0m: Agent Starting Run: pyf32tgl with config:\n",
      "\u001b[34m\u001b[1mwandb\u001b[0m: \tbatch_size: 128\n",
      "\u001b[34m\u001b[1mwandb\u001b[0m: \tepochs: 5\n",
      "\u001b[34m\u001b[1mwandb\u001b[0m: \tintermediate_dimension: 256\n",
      "\u001b[34m\u001b[1mwandb\u001b[0m: \tlearning_rate: 0.001\n",
      "\u001b[34m\u001b[1mwandb\u001b[0m: \tmomentum: 0.25\n"
     ]
    },
    {
     "data": {
      "text/html": [
       "Tracking run with wandb version 0.16.2"
      ],
      "text/plain": [
       "<IPython.core.display.HTML object>"
      ]
     },
     "metadata": {},
     "output_type": "display_data"
    },
    {
     "data": {
      "text/html": [
       "Run data is saved locally in <code>/Users/alejandromarinjimenez/Documents/Computer_Science/git/MNIST_Jan_2024/wandb/run-20240204_194617-pyf32tgl</code>"
      ],
      "text/plain": [
       "<IPython.core.display.HTML object>"
      ]
     },
     "metadata": {},
     "output_type": "display_data"
    },
    {
     "data": {
      "text/html": [
       "Syncing run <strong><a href='http://localhost:8080/lejomarin/MNIST_experiments/runs/pyf32tgl' target=\"_blank\">curious-sweep-2</a></strong> to <a href='http://localhost:8080/lejomarin/MNIST_experiments' target=\"_blank\">Weights & Biases</a> (<a href='https://wandb.me/run' target=\"_blank\">docs</a>)<br/>Sweep page: <a href='http://localhost:8080/lejomarin/MNIST_experiments/sweeps/yeagcad6' target=\"_blank\">http://localhost:8080/lejomarin/MNIST_experiments/sweeps/yeagcad6</a>"
      ],
      "text/plain": [
       "<IPython.core.display.HTML object>"
      ]
     },
     "metadata": {},
     "output_type": "display_data"
    },
    {
     "data": {
      "text/html": [
       " View project at <a href='http://localhost:8080/lejomarin/MNIST_experiments' target=\"_blank\">http://localhost:8080/lejomarin/MNIST_experiments</a>"
      ],
      "text/plain": [
       "<IPython.core.display.HTML object>"
      ]
     },
     "metadata": {},
     "output_type": "display_data"
    },
    {
     "data": {
      "text/html": [
       " View sweep at <a href='http://localhost:8080/lejomarin/MNIST_experiments/sweeps/yeagcad6' target=\"_blank\">http://localhost:8080/lejomarin/MNIST_experiments/sweeps/yeagcad6</a>"
      ],
      "text/plain": [
       "<IPython.core.display.HTML object>"
      ]
     },
     "metadata": {},
     "output_type": "display_data"
    },
    {
     "data": {
      "text/html": [
       " View run at <a href='http://localhost:8080/lejomarin/MNIST_experiments/runs/pyf32tgl' target=\"_blank\">http://localhost:8080/lejomarin/MNIST_experiments/runs/pyf32tgl</a>"
      ],
      "text/plain": [
       "<IPython.core.display.HTML object>"
      ]
     },
     "metadata": {},
     "output_type": "display_data"
    },
    {
     "name": "stderr",
     "output_type": "stream",
     "text": [
      "WARNING:absl:`lr` is deprecated in Keras optimizer, please use `learning_rate` or use the legacy optimizer, e.g.,tf.keras.optimizers.legacy.RMSprop.\n"
     ]
    },
    {
     "name": "stdout",
     "output_type": "stream",
     "text": [
      "Epoch 1/5\n",
      "461/469 [============================>.] - ETA: 0s - loss: 0.2694 - accuracy: 0.9230"
     ]
    },
    {
     "name": "stderr",
     "output_type": "stream",
     "text": [
      "/Users/alejandromarinjimenez/anaconda3/lib/python3.11/site-packages/keras/src/engine/training.py:3103: UserWarning: You are saving your model as an HDF5 file via `model.save()`. This file format is considered legacy. We recommend using instead the native Keras format, e.g. `model.save('my_model.keras')`.\n",
      "  saving_api.save_model(\n"
     ]
    },
    {
     "name": "stdout",
     "output_type": "stream",
     "text": [
      "INFO:tensorflow:Assets written to: /Users/alejandromarinjimenez/Documents/Computer_Science/git/MNIST_Jan_2024/wandb/run-20240204_194617-pyf32tgl/files/model-best/assets\n"
     ]
    },
    {
     "name": "stderr",
     "output_type": "stream",
     "text": [
      "INFO:tensorflow:Assets written to: /Users/alejandromarinjimenez/Documents/Computer_Science/git/MNIST_Jan_2024/wandb/run-20240204_194617-pyf32tgl/files/model-best/assets\n",
      "\u001b[34m\u001b[1mwandb\u001b[0m: Adding directory to artifact (/Users/alejandromarinjimenez/Documents/Computer_Science/git/MNIST_Jan_2024/wandb/run-20240204_194617-pyf32tgl/files/model-best)... Done. 0.0s\n"
     ]
    },
    {
     "name": "stdout",
     "output_type": "stream",
     "text": [
      "469/469 [==============================] - 2s 4ms/step - loss: 0.2679 - accuracy: 0.9234 - val_loss: 0.1439 - val_accuracy: 0.9554\n",
      "Epoch 2/5\n",
      "464/469 [============================>.] - ETA: 0s - loss: 0.1149 - accuracy: 0.9665"
     ]
    },
    {
     "name": "stderr",
     "output_type": "stream",
     "text": [
      "/Users/alejandromarinjimenez/anaconda3/lib/python3.11/site-packages/keras/src/engine/training.py:3103: UserWarning: You are saving your model as an HDF5 file via `model.save()`. This file format is considered legacy. We recommend using instead the native Keras format, e.g. `model.save('my_model.keras')`.\n",
      "  saving_api.save_model(\n"
     ]
    },
    {
     "name": "stdout",
     "output_type": "stream",
     "text": [
      "INFO:tensorflow:Assets written to: /Users/alejandromarinjimenez/Documents/Computer_Science/git/MNIST_Jan_2024/wandb/run-20240204_194617-pyf32tgl/files/model-best/assets\n"
     ]
    },
    {
     "name": "stderr",
     "output_type": "stream",
     "text": [
      "INFO:tensorflow:Assets written to: /Users/alejandromarinjimenez/Documents/Computer_Science/git/MNIST_Jan_2024/wandb/run-20240204_194617-pyf32tgl/files/model-best/assets\n",
      "\u001b[34m\u001b[1mwandb\u001b[0m: Adding directory to artifact (/Users/alejandromarinjimenez/Documents/Computer_Science/git/MNIST_Jan_2024/wandb/run-20240204_194617-pyf32tgl/files/model-best)... Done. 0.0s\n"
     ]
    },
    {
     "name": "stdout",
     "output_type": "stream",
     "text": [
      "469/469 [==============================] - 2s 5ms/step - loss: 0.1149 - accuracy: 0.9665 - val_loss: 0.0910 - val_accuracy: 0.9734\n",
      "Epoch 3/5\n",
      "460/469 [============================>.] - ETA: 0s - loss: 0.0766 - accuracy: 0.9770"
     ]
    },
    {
     "name": "stderr",
     "output_type": "stream",
     "text": [
      "/Users/alejandromarinjimenez/anaconda3/lib/python3.11/site-packages/keras/src/engine/training.py:3103: UserWarning: You are saving your model as an HDF5 file via `model.save()`. This file format is considered legacy. We recommend using instead the native Keras format, e.g. `model.save('my_model.keras')`.\n",
      "  saving_api.save_model(\n"
     ]
    },
    {
     "name": "stdout",
     "output_type": "stream",
     "text": [
      "INFO:tensorflow:Assets written to: /Users/alejandromarinjimenez/Documents/Computer_Science/git/MNIST_Jan_2024/wandb/run-20240204_194617-pyf32tgl/files/model-best/assets\n"
     ]
    },
    {
     "name": "stderr",
     "output_type": "stream",
     "text": [
      "INFO:tensorflow:Assets written to: /Users/alejandromarinjimenez/Documents/Computer_Science/git/MNIST_Jan_2024/wandb/run-20240204_194617-pyf32tgl/files/model-best/assets\n",
      "\u001b[34m\u001b[1mwandb\u001b[0m: Adding directory to artifact (/Users/alejandromarinjimenez/Documents/Computer_Science/git/MNIST_Jan_2024/wandb/run-20240204_194617-pyf32tgl/files/model-best)... Done. 0.0s\n"
     ]
    },
    {
     "name": "stdout",
     "output_type": "stream",
     "text": [
      "469/469 [==============================] - 2s 5ms/step - loss: 0.0765 - accuracy: 0.9770 - val_loss: 0.0834 - val_accuracy: 0.9753\n",
      "Epoch 4/5\n",
      "469/469 [==============================] - ETA: 0s - loss: 0.0569 - accuracy: 0.9830"
     ]
    },
    {
     "name": "stderr",
     "output_type": "stream",
     "text": [
      "/Users/alejandromarinjimenez/anaconda3/lib/python3.11/site-packages/keras/src/engine/training.py:3103: UserWarning: You are saving your model as an HDF5 file via `model.save()`. This file format is considered legacy. We recommend using instead the native Keras format, e.g. `model.save('my_model.keras')`.\n",
      "  saving_api.save_model(\n"
     ]
    },
    {
     "name": "stdout",
     "output_type": "stream",
     "text": [
      "INFO:tensorflow:Assets written to: /Users/alejandromarinjimenez/Documents/Computer_Science/git/MNIST_Jan_2024/wandb/run-20240204_194617-pyf32tgl/files/model-best/assets\n"
     ]
    },
    {
     "name": "stderr",
     "output_type": "stream",
     "text": [
      "INFO:tensorflow:Assets written to: /Users/alejandromarinjimenez/Documents/Computer_Science/git/MNIST_Jan_2024/wandb/run-20240204_194617-pyf32tgl/files/model-best/assets\n",
      "\u001b[34m\u001b[1mwandb\u001b[0m: Adding directory to artifact (/Users/alejandromarinjimenez/Documents/Computer_Science/git/MNIST_Jan_2024/wandb/run-20240204_194617-pyf32tgl/files/model-best)... Done. 0.0s\n"
     ]
    },
    {
     "name": "stdout",
     "output_type": "stream",
     "text": [
      "469/469 [==============================] - 2s 4ms/step - loss: 0.0569 - accuracy: 0.9830 - val_loss: 0.0783 - val_accuracy: 0.9755\n",
      "Epoch 5/5\n",
      "466/469 [============================>.] - ETA: 0s - loss: 0.0439 - accuracy: 0.9870"
     ]
    },
    {
     "name": "stderr",
     "output_type": "stream",
     "text": [
      "/Users/alejandromarinjimenez/anaconda3/lib/python3.11/site-packages/keras/src/engine/training.py:3103: UserWarning: You are saving your model as an HDF5 file via `model.save()`. This file format is considered legacy. We recommend using instead the native Keras format, e.g. `model.save('my_model.keras')`.\n",
      "  saving_api.save_model(\n"
     ]
    },
    {
     "name": "stdout",
     "output_type": "stream",
     "text": [
      "INFO:tensorflow:Assets written to: /Users/alejandromarinjimenez/Documents/Computer_Science/git/MNIST_Jan_2024/wandb/run-20240204_194617-pyf32tgl/files/model-best/assets\n"
     ]
    },
    {
     "name": "stderr",
     "output_type": "stream",
     "text": [
      "INFO:tensorflow:Assets written to: /Users/alejandromarinjimenez/Documents/Computer_Science/git/MNIST_Jan_2024/wandb/run-20240204_194617-pyf32tgl/files/model-best/assets\n",
      "\u001b[34m\u001b[1mwandb\u001b[0m: Adding directory to artifact (/Users/alejandromarinjimenez/Documents/Computer_Science/git/MNIST_Jan_2024/wandb/run-20240204_194617-pyf32tgl/files/model-best)... Done. 0.0s\n"
     ]
    },
    {
     "name": "stdout",
     "output_type": "stream",
     "text": [
      "469/469 [==============================] - 2s 4ms/step - loss: 0.0439 - accuracy: 0.9870 - val_loss: 0.0660 - val_accuracy: 0.9790\n",
      "313/313 [==============================] - 0s 989us/step - loss: 0.0660 - accuracy: 0.9790\n"
     ]
    },
    {
     "data": {
      "application/vnd.jupyter.widget-view+json": {
       "model_id": "",
       "version_major": 2,
       "version_minor": 0
      },
      "text/plain": [
       "VBox(children=(Label(value='14.485 MB of 14.485 MB uploaded (0.026 MB deduped)\\r'), FloatProgress(value=1.0, m…"
      ]
     },
     "metadata": {},
     "output_type": "display_data"
    },
    {
     "data": {
      "text/html": [
       "<style>\n",
       "    table.wandb td:nth-child(1) { padding: 0 10px; text-align: left ; width: auto;} td:nth-child(2) {text-align: left ; width: 100%}\n",
       "    .wandb-row { display: flex; flex-direction: row; flex-wrap: wrap; justify-content: flex-start; width: 100% }\n",
       "    .wandb-col { display: flex; flex-direction: column; flex-basis: 100%; flex: 1; padding: 10px; }\n",
       "    </style>\n",
       "<div class=\"wandb-row\"><div class=\"wandb-col\"><h3>Run history:</h3><br/><table class=\"wandb\"><tr><td>accuracy</td><td>▁▆▇██</td></tr><tr><td>epoch</td><td>▁▃▅▆█</td></tr><tr><td>loss</td><td>█▃▂▁▁</td></tr><tr><td>test_accuracy</td><td>▁</td></tr><tr><td>test_loss</td><td>▁</td></tr><tr><td>val_accuracy</td><td>▁▆▇▇█</td></tr><tr><td>val_loss</td><td>█▃▃▂▁</td></tr></table><br/></div><div class=\"wandb-col\"><h3>Run summary:</h3><br/><table class=\"wandb\"><tr><td>accuracy</td><td>0.98702</td></tr><tr><td>best_epoch</td><td>4</td></tr><tr><td>best_val_loss</td><td>0.06597</td></tr><tr><td>epoch</td><td>4</td></tr><tr><td>loss</td><td>0.04392</td></tr><tr><td>test_accuracy</td><td>0.979</td></tr><tr><td>test_loss</td><td>0.06597</td></tr><tr><td>val_accuracy</td><td>0.979</td></tr><tr><td>val_loss</td><td>0.06597</td></tr></table><br/></div></div>"
      ],
      "text/plain": [
       "<IPython.core.display.HTML object>"
      ]
     },
     "metadata": {},
     "output_type": "display_data"
    },
    {
     "data": {
      "text/html": [
       " View run <strong style=\"color:#cdcd00\">curious-sweep-2</strong> at: <a href='http://localhost:8080/lejomarin/MNIST_experiments/runs/pyf32tgl' target=\"_blank\">http://localhost:8080/lejomarin/MNIST_experiments/runs/pyf32tgl</a><br/>Synced 7 W&B file(s), 1 media file(s), 25 artifact file(s) and 2 other file(s)"
      ],
      "text/plain": [
       "<IPython.core.display.HTML object>"
      ]
     },
     "metadata": {},
     "output_type": "display_data"
    },
    {
     "data": {
      "text/html": [
       "Find logs at: <code>./wandb/run-20240204_194617-pyf32tgl/logs</code>"
      ],
      "text/plain": [
       "<IPython.core.display.HTML object>"
      ]
     },
     "metadata": {},
     "output_type": "display_data"
    },
    {
     "name": "stderr",
     "output_type": "stream",
     "text": [
      "\u001b[34m\u001b[1mwandb\u001b[0m: Agent Starting Run: ql66h5qc with config:\n",
      "\u001b[34m\u001b[1mwandb\u001b[0m: \tbatch_size: 128\n",
      "\u001b[34m\u001b[1mwandb\u001b[0m: \tepochs: 5\n",
      "\u001b[34m\u001b[1mwandb\u001b[0m: \tintermediate_dimension: 256\n",
      "\u001b[34m\u001b[1mwandb\u001b[0m: \tlearning_rate: 0.005\n",
      "\u001b[34m\u001b[1mwandb\u001b[0m: \tmomentum: 0\n"
     ]
    },
    {
     "data": {
      "text/html": [
       "Tracking run with wandb version 0.16.2"
      ],
      "text/plain": [
       "<IPython.core.display.HTML object>"
      ]
     },
     "metadata": {},
     "output_type": "display_data"
    },
    {
     "data": {
      "text/html": [
       "Run data is saved locally in <code>/Users/alejandromarinjimenez/Documents/Computer_Science/git/MNIST_Jan_2024/wandb/run-20240204_194647-ql66h5qc</code>"
      ],
      "text/plain": [
       "<IPython.core.display.HTML object>"
      ]
     },
     "metadata": {},
     "output_type": "display_data"
    },
    {
     "data": {
      "text/html": [
       "Syncing run <strong><a href='http://localhost:8080/lejomarin/MNIST_experiments/runs/ql66h5qc' target=\"_blank\">whole-sweep-3</a></strong> to <a href='http://localhost:8080/lejomarin/MNIST_experiments' target=\"_blank\">Weights & Biases</a> (<a href='https://wandb.me/run' target=\"_blank\">docs</a>)<br/>Sweep page: <a href='http://localhost:8080/lejomarin/MNIST_experiments/sweeps/yeagcad6' target=\"_blank\">http://localhost:8080/lejomarin/MNIST_experiments/sweeps/yeagcad6</a>"
      ],
      "text/plain": [
       "<IPython.core.display.HTML object>"
      ]
     },
     "metadata": {},
     "output_type": "display_data"
    },
    {
     "data": {
      "text/html": [
       " View project at <a href='http://localhost:8080/lejomarin/MNIST_experiments' target=\"_blank\">http://localhost:8080/lejomarin/MNIST_experiments</a>"
      ],
      "text/plain": [
       "<IPython.core.display.HTML object>"
      ]
     },
     "metadata": {},
     "output_type": "display_data"
    },
    {
     "data": {
      "text/html": [
       " View sweep at <a href='http://localhost:8080/lejomarin/MNIST_experiments/sweeps/yeagcad6' target=\"_blank\">http://localhost:8080/lejomarin/MNIST_experiments/sweeps/yeagcad6</a>"
      ],
      "text/plain": [
       "<IPython.core.display.HTML object>"
      ]
     },
     "metadata": {},
     "output_type": "display_data"
    },
    {
     "data": {
      "text/html": [
       " View run at <a href='http://localhost:8080/lejomarin/MNIST_experiments/runs/ql66h5qc' target=\"_blank\">http://localhost:8080/lejomarin/MNIST_experiments/runs/ql66h5qc</a>"
      ],
      "text/plain": [
       "<IPython.core.display.HTML object>"
      ]
     },
     "metadata": {},
     "output_type": "display_data"
    },
    {
     "name": "stderr",
     "output_type": "stream",
     "text": [
      "WARNING:absl:`lr` is deprecated in Keras optimizer, please use `learning_rate` or use the legacy optimizer, e.g.,tf.keras.optimizers.legacy.RMSprop.\n"
     ]
    },
    {
     "name": "stdout",
     "output_type": "stream",
     "text": [
      "Epoch 1/5\n",
      "461/469 [============================>.] - ETA: 0s - loss: 0.3056 - accuracy: 0.9145"
     ]
    },
    {
     "name": "stderr",
     "output_type": "stream",
     "text": [
      "/Users/alejandromarinjimenez/anaconda3/lib/python3.11/site-packages/keras/src/engine/training.py:3103: UserWarning: You are saving your model as an HDF5 file via `model.save()`. This file format is considered legacy. We recommend using instead the native Keras format, e.g. `model.save('my_model.keras')`.\n",
      "  saving_api.save_model(\n"
     ]
    },
    {
     "name": "stdout",
     "output_type": "stream",
     "text": [
      "INFO:tensorflow:Assets written to: /Users/alejandromarinjimenez/Documents/Computer_Science/git/MNIST_Jan_2024/wandb/run-20240204_194647-ql66h5qc/files/model-best/assets\n"
     ]
    },
    {
     "name": "stderr",
     "output_type": "stream",
     "text": [
      "INFO:tensorflow:Assets written to: /Users/alejandromarinjimenez/Documents/Computer_Science/git/MNIST_Jan_2024/wandb/run-20240204_194647-ql66h5qc/files/model-best/assets\n",
      "\u001b[34m\u001b[1mwandb\u001b[0m: Adding directory to artifact (/Users/alejandromarinjimenez/Documents/Computer_Science/git/MNIST_Jan_2024/wandb/run-20240204_194647-ql66h5qc/files/model-best)... Done. 0.0s\n"
     ]
    },
    {
     "name": "stdout",
     "output_type": "stream",
     "text": [
      "469/469 [==============================] - 2s 4ms/step - loss: 0.3029 - accuracy: 0.9152 - val_loss: 0.1651 - val_accuracy: 0.9527\n",
      "Epoch 2/5\n",
      "460/469 [============================>.] - ETA: 0s - loss: 0.1359 - accuracy: 0.9613"
     ]
    },
    {
     "name": "stderr",
     "output_type": "stream",
     "text": [
      "/Users/alejandromarinjimenez/anaconda3/lib/python3.11/site-packages/keras/src/engine/training.py:3103: UserWarning: You are saving your model as an HDF5 file via `model.save()`. This file format is considered legacy. We recommend using instead the native Keras format, e.g. `model.save('my_model.keras')`.\n",
      "  saving_api.save_model(\n"
     ]
    },
    {
     "name": "stdout",
     "output_type": "stream",
     "text": [
      "INFO:tensorflow:Assets written to: /Users/alejandromarinjimenez/Documents/Computer_Science/git/MNIST_Jan_2024/wandb/run-20240204_194647-ql66h5qc/files/model-best/assets\n"
     ]
    },
    {
     "name": "stderr",
     "output_type": "stream",
     "text": [
      "INFO:tensorflow:Assets written to: /Users/alejandromarinjimenez/Documents/Computer_Science/git/MNIST_Jan_2024/wandb/run-20240204_194647-ql66h5qc/files/model-best/assets\n",
      "\u001b[34m\u001b[1mwandb\u001b[0m: Adding directory to artifact (/Users/alejandromarinjimenez/Documents/Computer_Science/git/MNIST_Jan_2024/wandb/run-20240204_194647-ql66h5qc/files/model-best)... Done. 0.0s\n"
     ]
    },
    {
     "name": "stdout",
     "output_type": "stream",
     "text": [
      "469/469 [==============================] - 2s 4ms/step - loss: 0.1361 - accuracy: 0.9611 - val_loss: 0.1142 - val_accuracy: 0.9657\n",
      "Epoch 3/5\n",
      "458/469 [============================>.] - ETA: 0s - loss: 0.0936 - accuracy: 0.9726"
     ]
    },
    {
     "name": "stderr",
     "output_type": "stream",
     "text": [
      "/Users/alejandromarinjimenez/anaconda3/lib/python3.11/site-packages/keras/src/engine/training.py:3103: UserWarning: You are saving your model as an HDF5 file via `model.save()`. This file format is considered legacy. We recommend using instead the native Keras format, e.g. `model.save('my_model.keras')`.\n",
      "  saving_api.save_model(\n"
     ]
    },
    {
     "name": "stdout",
     "output_type": "stream",
     "text": [
      "INFO:tensorflow:Assets written to: /Users/alejandromarinjimenez/Documents/Computer_Science/git/MNIST_Jan_2024/wandb/run-20240204_194647-ql66h5qc/files/model-best/assets\n"
     ]
    },
    {
     "name": "stderr",
     "output_type": "stream",
     "text": [
      "INFO:tensorflow:Assets written to: /Users/alejandromarinjimenez/Documents/Computer_Science/git/MNIST_Jan_2024/wandb/run-20240204_194647-ql66h5qc/files/model-best/assets\n",
      "\u001b[34m\u001b[1mwandb\u001b[0m: Adding directory to artifact (/Users/alejandromarinjimenez/Documents/Computer_Science/git/MNIST_Jan_2024/wandb/run-20240204_194647-ql66h5qc/files/model-best)... Done. 0.0s\n"
     ]
    },
    {
     "name": "stdout",
     "output_type": "stream",
     "text": [
      "469/469 [==============================] - 2s 4ms/step - loss: 0.0934 - accuracy: 0.9728 - val_loss: 0.0998 - val_accuracy: 0.9692\n",
      "Epoch 4/5\n",
      "462/469 [============================>.] - ETA: 0s - loss: 0.0700 - accuracy: 0.9793"
     ]
    },
    {
     "name": "stderr",
     "output_type": "stream",
     "text": [
      "/Users/alejandromarinjimenez/anaconda3/lib/python3.11/site-packages/keras/src/engine/training.py:3103: UserWarning: You are saving your model as an HDF5 file via `model.save()`. This file format is considered legacy. We recommend using instead the native Keras format, e.g. `model.save('my_model.keras')`.\n",
      "  saving_api.save_model(\n"
     ]
    },
    {
     "name": "stdout",
     "output_type": "stream",
     "text": [
      "INFO:tensorflow:Assets written to: /Users/alejandromarinjimenez/Documents/Computer_Science/git/MNIST_Jan_2024/wandb/run-20240204_194647-ql66h5qc/files/model-best/assets\n"
     ]
    },
    {
     "name": "stderr",
     "output_type": "stream",
     "text": [
      "INFO:tensorflow:Assets written to: /Users/alejandromarinjimenez/Documents/Computer_Science/git/MNIST_Jan_2024/wandb/run-20240204_194647-ql66h5qc/files/model-best/assets\n",
      "\u001b[34m\u001b[1mwandb\u001b[0m: Adding directory to artifact (/Users/alejandromarinjimenez/Documents/Computer_Science/git/MNIST_Jan_2024/wandb/run-20240204_194647-ql66h5qc/files/model-best)... Done. 0.0s\n"
     ]
    },
    {
     "name": "stdout",
     "output_type": "stream",
     "text": [
      "469/469 [==============================] - 2s 3ms/step - loss: 0.0699 - accuracy: 0.9793 - val_loss: 0.0871 - val_accuracy: 0.9737\n",
      "Epoch 5/5\n",
      "443/469 [===========================>..] - ETA: 0s - loss: 0.0554 - accuracy: 0.9839"
     ]
    },
    {
     "name": "stderr",
     "output_type": "stream",
     "text": [
      "/Users/alejandromarinjimenez/anaconda3/lib/python3.11/site-packages/keras/src/engine/training.py:3103: UserWarning: You are saving your model as an HDF5 file via `model.save()`. This file format is considered legacy. We recommend using instead the native Keras format, e.g. `model.save('my_model.keras')`.\n",
      "  saving_api.save_model(\n"
     ]
    },
    {
     "name": "stdout",
     "output_type": "stream",
     "text": [
      "INFO:tensorflow:Assets written to: /Users/alejandromarinjimenez/Documents/Computer_Science/git/MNIST_Jan_2024/wandb/run-20240204_194647-ql66h5qc/files/model-best/assets\n"
     ]
    },
    {
     "name": "stderr",
     "output_type": "stream",
     "text": [
      "INFO:tensorflow:Assets written to: /Users/alejandromarinjimenez/Documents/Computer_Science/git/MNIST_Jan_2024/wandb/run-20240204_194647-ql66h5qc/files/model-best/assets\n",
      "\u001b[34m\u001b[1mwandb\u001b[0m: Adding directory to artifact (/Users/alejandromarinjimenez/Documents/Computer_Science/git/MNIST_Jan_2024/wandb/run-20240204_194647-ql66h5qc/files/model-best)... Done. 0.0s\n"
     ]
    },
    {
     "name": "stdout",
     "output_type": "stream",
     "text": [
      "469/469 [==============================] - 2s 3ms/step - loss: 0.0549 - accuracy: 0.9840 - val_loss: 0.0756 - val_accuracy: 0.9760\n",
      "313/313 [==============================] - 0s 910us/step - loss: 0.0756 - accuracy: 0.9760\n"
     ]
    },
    {
     "data": {
      "application/vnd.jupyter.widget-view+json": {
       "model_id": "",
       "version_major": 2,
       "version_minor": 0
      },
      "text/plain": [
       "VBox(children=(Label(value='9.814 MB of 9.814 MB uploaded (0.026 MB deduped)\\r'), FloatProgress(value=1.0, max…"
      ]
     },
     "metadata": {},
     "output_type": "display_data"
    },
    {
     "data": {
      "text/html": [
       "<style>\n",
       "    table.wandb td:nth-child(1) { padding: 0 10px; text-align: left ; width: auto;} td:nth-child(2) {text-align: left ; width: 100%}\n",
       "    .wandb-row { display: flex; flex-direction: row; flex-wrap: wrap; justify-content: flex-start; width: 100% }\n",
       "    .wandb-col { display: flex; flex-direction: column; flex-basis: 100%; flex: 1; padding: 10px; }\n",
       "    </style>\n",
       "<div class=\"wandb-row\"><div class=\"wandb-col\"><h3>Run history:</h3><br/><table class=\"wandb\"><tr><td>accuracy</td><td>▁▆▇██</td></tr><tr><td>epoch</td><td>▁▃▅▆█</td></tr><tr><td>loss</td><td>█▃▂▁▁</td></tr><tr><td>test_accuracy</td><td>▁</td></tr><tr><td>test_loss</td><td>▁</td></tr><tr><td>val_accuracy</td><td>▁▅▆▇█</td></tr><tr><td>val_loss</td><td>█▄▃▂▁</td></tr></table><br/></div><div class=\"wandb-col\"><h3>Run summary:</h3><br/><table class=\"wandb\"><tr><td>accuracy</td><td>0.98403</td></tr><tr><td>best_epoch</td><td>4</td></tr><tr><td>best_val_loss</td><td>0.07557</td></tr><tr><td>epoch</td><td>4</td></tr><tr><td>loss</td><td>0.05494</td></tr><tr><td>test_accuracy</td><td>0.976</td></tr><tr><td>test_loss</td><td>0.07557</td></tr><tr><td>val_accuracy</td><td>0.976</td></tr><tr><td>val_loss</td><td>0.07557</td></tr></table><br/></div></div>"
      ],
      "text/plain": [
       "<IPython.core.display.HTML object>"
      ]
     },
     "metadata": {},
     "output_type": "display_data"
    },
    {
     "data": {
      "text/html": [
       " View run <strong style=\"color:#cdcd00\">whole-sweep-3</strong> at: <a href='http://localhost:8080/lejomarin/MNIST_experiments/runs/ql66h5qc' target=\"_blank\">http://localhost:8080/lejomarin/MNIST_experiments/runs/ql66h5qc</a><br/>Synced 7 W&B file(s), 1 media file(s), 25 artifact file(s) and 2 other file(s)"
      ],
      "text/plain": [
       "<IPython.core.display.HTML object>"
      ]
     },
     "metadata": {},
     "output_type": "display_data"
    },
    {
     "data": {
      "text/html": [
       "Find logs at: <code>./wandb/run-20240204_194647-ql66h5qc/logs</code>"
      ],
      "text/plain": [
       "<IPython.core.display.HTML object>"
      ]
     },
     "metadata": {},
     "output_type": "display_data"
    },
    {
     "name": "stderr",
     "output_type": "stream",
     "text": [
      "\u001b[34m\u001b[1mwandb\u001b[0m: Agent Starting Run: k9r60dks with config:\n",
      "\u001b[34m\u001b[1mwandb\u001b[0m: \tbatch_size: 128\n",
      "\u001b[34m\u001b[1mwandb\u001b[0m: \tepochs: 5\n",
      "\u001b[34m\u001b[1mwandb\u001b[0m: \tintermediate_dimension: 256\n",
      "\u001b[34m\u001b[1mwandb\u001b[0m: \tlearning_rate: 0.005\n",
      "\u001b[34m\u001b[1mwandb\u001b[0m: \tmomentum: 0.25\n"
     ]
    },
    {
     "data": {
      "text/html": [
       "Tracking run with wandb version 0.16.2"
      ],
      "text/plain": [
       "<IPython.core.display.HTML object>"
      ]
     },
     "metadata": {},
     "output_type": "display_data"
    },
    {
     "data": {
      "text/html": [
       "Run data is saved locally in <code>/Users/alejandromarinjimenez/Documents/Computer_Science/git/MNIST_Jan_2024/wandb/run-20240204_194712-k9r60dks</code>"
      ],
      "text/plain": [
       "<IPython.core.display.HTML object>"
      ]
     },
     "metadata": {},
     "output_type": "display_data"
    },
    {
     "data": {
      "text/html": [
       "Syncing run <strong><a href='http://localhost:8080/lejomarin/MNIST_experiments/runs/k9r60dks' target=\"_blank\">serene-sweep-4</a></strong> to <a href='http://localhost:8080/lejomarin/MNIST_experiments' target=\"_blank\">Weights & Biases</a> (<a href='https://wandb.me/run' target=\"_blank\">docs</a>)<br/>Sweep page: <a href='http://localhost:8080/lejomarin/MNIST_experiments/sweeps/yeagcad6' target=\"_blank\">http://localhost:8080/lejomarin/MNIST_experiments/sweeps/yeagcad6</a>"
      ],
      "text/plain": [
       "<IPython.core.display.HTML object>"
      ]
     },
     "metadata": {},
     "output_type": "display_data"
    },
    {
     "data": {
      "text/html": [
       " View project at <a href='http://localhost:8080/lejomarin/MNIST_experiments' target=\"_blank\">http://localhost:8080/lejomarin/MNIST_experiments</a>"
      ],
      "text/plain": [
       "<IPython.core.display.HTML object>"
      ]
     },
     "metadata": {},
     "output_type": "display_data"
    },
    {
     "data": {
      "text/html": [
       " View sweep at <a href='http://localhost:8080/lejomarin/MNIST_experiments/sweeps/yeagcad6' target=\"_blank\">http://localhost:8080/lejomarin/MNIST_experiments/sweeps/yeagcad6</a>"
      ],
      "text/plain": [
       "<IPython.core.display.HTML object>"
      ]
     },
     "metadata": {},
     "output_type": "display_data"
    },
    {
     "data": {
      "text/html": [
       " View run at <a href='http://localhost:8080/lejomarin/MNIST_experiments/runs/k9r60dks' target=\"_blank\">http://localhost:8080/lejomarin/MNIST_experiments/runs/k9r60dks</a>"
      ],
      "text/plain": [
       "<IPython.core.display.HTML object>"
      ]
     },
     "metadata": {},
     "output_type": "display_data"
    },
    {
     "name": "stderr",
     "output_type": "stream",
     "text": [
      "WARNING:absl:`lr` is deprecated in Keras optimizer, please use `learning_rate` or use the legacy optimizer, e.g.,tf.keras.optimizers.legacy.RMSprop.\n"
     ]
    },
    {
     "name": "stdout",
     "output_type": "stream",
     "text": [
      "Epoch 1/5\n",
      "451/469 [===========================>..] - ETA: 0s - loss: 0.2696 - accuracy: 0.9230"
     ]
    },
    {
     "name": "stderr",
     "output_type": "stream",
     "text": [
      "/Users/alejandromarinjimenez/anaconda3/lib/python3.11/site-packages/keras/src/engine/training.py:3103: UserWarning: You are saving your model as an HDF5 file via `model.save()`. This file format is considered legacy. We recommend using instead the native Keras format, e.g. `model.save('my_model.keras')`.\n",
      "  saving_api.save_model(\n"
     ]
    },
    {
     "name": "stdout",
     "output_type": "stream",
     "text": [
      "INFO:tensorflow:Assets written to: /Users/alejandromarinjimenez/Documents/Computer_Science/git/MNIST_Jan_2024/wandb/run-20240204_194712-k9r60dks/files/model-best/assets\n"
     ]
    },
    {
     "name": "stderr",
     "output_type": "stream",
     "text": [
      "INFO:tensorflow:Assets written to: /Users/alejandromarinjimenez/Documents/Computer_Science/git/MNIST_Jan_2024/wandb/run-20240204_194712-k9r60dks/files/model-best/assets\n",
      "\u001b[34m\u001b[1mwandb\u001b[0m: Adding directory to artifact (/Users/alejandromarinjimenez/Documents/Computer_Science/git/MNIST_Jan_2024/wandb/run-20240204_194712-k9r60dks/files/model-best)... Done. 0.0s\n"
     ]
    },
    {
     "name": "stdout",
     "output_type": "stream",
     "text": [
      "469/469 [==============================] - 2s 4ms/step - loss: 0.2659 - accuracy: 0.9240 - val_loss: 0.1472 - val_accuracy: 0.9551\n",
      "Epoch 2/5\n",
      "461/469 [============================>.] - ETA: 0s - loss: 0.1139 - accuracy: 0.9667"
     ]
    },
    {
     "name": "stderr",
     "output_type": "stream",
     "text": [
      "/Users/alejandromarinjimenez/anaconda3/lib/python3.11/site-packages/keras/src/engine/training.py:3103: UserWarning: You are saving your model as an HDF5 file via `model.save()`. This file format is considered legacy. We recommend using instead the native Keras format, e.g. `model.save('my_model.keras')`.\n",
      "  saving_api.save_model(\n"
     ]
    },
    {
     "name": "stdout",
     "output_type": "stream",
     "text": [
      "INFO:tensorflow:Assets written to: /Users/alejandromarinjimenez/Documents/Computer_Science/git/MNIST_Jan_2024/wandb/run-20240204_194712-k9r60dks/files/model-best/assets\n"
     ]
    },
    {
     "name": "stderr",
     "output_type": "stream",
     "text": [
      "INFO:tensorflow:Assets written to: /Users/alejandromarinjimenez/Documents/Computer_Science/git/MNIST_Jan_2024/wandb/run-20240204_194712-k9r60dks/files/model-best/assets\n",
      "\u001b[34m\u001b[1mwandb\u001b[0m: Adding directory to artifact (/Users/alejandromarinjimenez/Documents/Computer_Science/git/MNIST_Jan_2024/wandb/run-20240204_194712-k9r60dks/files/model-best)... Done. 0.0s\n"
     ]
    },
    {
     "name": "stdout",
     "output_type": "stream",
     "text": [
      "469/469 [==============================] - 2s 5ms/step - loss: 0.1135 - accuracy: 0.9668 - val_loss: 0.0927 - val_accuracy: 0.9713\n",
      "Epoch 3/5\n",
      "454/469 [============================>.] - ETA: 0s - loss: 0.0765 - accuracy: 0.9774"
     ]
    },
    {
     "name": "stderr",
     "output_type": "stream",
     "text": [
      "/Users/alejandromarinjimenez/anaconda3/lib/python3.11/site-packages/keras/src/engine/training.py:3103: UserWarning: You are saving your model as an HDF5 file via `model.save()`. This file format is considered legacy. We recommend using instead the native Keras format, e.g. `model.save('my_model.keras')`.\n",
      "  saving_api.save_model(\n"
     ]
    },
    {
     "name": "stdout",
     "output_type": "stream",
     "text": [
      "INFO:tensorflow:Assets written to: /Users/alejandromarinjimenez/Documents/Computer_Science/git/MNIST_Jan_2024/wandb/run-20240204_194712-k9r60dks/files/model-best/assets\n"
     ]
    },
    {
     "name": "stderr",
     "output_type": "stream",
     "text": [
      "INFO:tensorflow:Assets written to: /Users/alejandromarinjimenez/Documents/Computer_Science/git/MNIST_Jan_2024/wandb/run-20240204_194712-k9r60dks/files/model-best/assets\n",
      "\u001b[34m\u001b[1mwandb\u001b[0m: Adding directory to artifact (/Users/alejandromarinjimenez/Documents/Computer_Science/git/MNIST_Jan_2024/wandb/run-20240204_194712-k9r60dks/files/model-best)... Done. 0.0s\n"
     ]
    },
    {
     "name": "stdout",
     "output_type": "stream",
     "text": [
      "469/469 [==============================] - 2s 5ms/step - loss: 0.0761 - accuracy: 0.9775 - val_loss: 0.0823 - val_accuracy: 0.9736\n",
      "Epoch 4/5\n",
      "458/469 [============================>.] - ETA: 0s - loss: 0.0562 - accuracy: 0.9831"
     ]
    },
    {
     "name": "stderr",
     "output_type": "stream",
     "text": [
      "/Users/alejandromarinjimenez/anaconda3/lib/python3.11/site-packages/keras/src/engine/training.py:3103: UserWarning: You are saving your model as an HDF5 file via `model.save()`. This file format is considered legacy. We recommend using instead the native Keras format, e.g. `model.save('my_model.keras')`.\n",
      "  saving_api.save_model(\n"
     ]
    },
    {
     "name": "stdout",
     "output_type": "stream",
     "text": [
      "INFO:tensorflow:Assets written to: /Users/alejandromarinjimenez/Documents/Computer_Science/git/MNIST_Jan_2024/wandb/run-20240204_194712-k9r60dks/files/model-best/assets\n"
     ]
    },
    {
     "name": "stderr",
     "output_type": "stream",
     "text": [
      "INFO:tensorflow:Assets written to: /Users/alejandromarinjimenez/Documents/Computer_Science/git/MNIST_Jan_2024/wandb/run-20240204_194712-k9r60dks/files/model-best/assets\n",
      "\u001b[34m\u001b[1mwandb\u001b[0m: Adding directory to artifact (/Users/alejandromarinjimenez/Documents/Computer_Science/git/MNIST_Jan_2024/wandb/run-20240204_194712-k9r60dks/files/model-best)... Done. 0.0s\n"
     ]
    },
    {
     "name": "stdout",
     "output_type": "stream",
     "text": [
      "469/469 [==============================] - 2s 4ms/step - loss: 0.0566 - accuracy: 0.9830 - val_loss: 0.0668 - val_accuracy: 0.9789\n",
      "Epoch 5/5\n",
      "469/469 [==============================] - ETA: 0s - loss: 0.0418 - accuracy: 0.9876"
     ]
    },
    {
     "name": "stderr",
     "output_type": "stream",
     "text": [
      "/Users/alejandromarinjimenez/anaconda3/lib/python3.11/site-packages/keras/src/engine/training.py:3103: UserWarning: You are saving your model as an HDF5 file via `model.save()`. This file format is considered legacy. We recommend using instead the native Keras format, e.g. `model.save('my_model.keras')`.\n",
      "  saving_api.save_model(\n"
     ]
    },
    {
     "name": "stdout",
     "output_type": "stream",
     "text": [
      "INFO:tensorflow:Assets written to: /Users/alejandromarinjimenez/Documents/Computer_Science/git/MNIST_Jan_2024/wandb/run-20240204_194712-k9r60dks/files/model-best/assets\n"
     ]
    },
    {
     "name": "stderr",
     "output_type": "stream",
     "text": [
      "INFO:tensorflow:Assets written to: /Users/alejandromarinjimenez/Documents/Computer_Science/git/MNIST_Jan_2024/wandb/run-20240204_194712-k9r60dks/files/model-best/assets\n",
      "\u001b[34m\u001b[1mwandb\u001b[0m: Adding directory to artifact (/Users/alejandromarinjimenez/Documents/Computer_Science/git/MNIST_Jan_2024/wandb/run-20240204_194712-k9r60dks/files/model-best)... Done. 0.0s\n"
     ]
    },
    {
     "name": "stdout",
     "output_type": "stream",
     "text": [
      "469/469 [==============================] - 2s 3ms/step - loss: 0.0418 - accuracy: 0.9876 - val_loss: 0.0659 - val_accuracy: 0.9779\n",
      "313/313 [==============================] - 0s 920us/step - loss: 0.0659 - accuracy: 0.9779\n"
     ]
    },
    {
     "data": {
      "application/vnd.jupyter.widget-view+json": {
       "model_id": "",
       "version_major": 2,
       "version_minor": 0
      },
      "text/plain": [
       "VBox(children=(Label(value='14.485 MB of 14.485 MB uploaded (0.026 MB deduped)\\r'), FloatProgress(value=1.0, m…"
      ]
     },
     "metadata": {},
     "output_type": "display_data"
    },
    {
     "data": {
      "text/html": [
       "<style>\n",
       "    table.wandb td:nth-child(1) { padding: 0 10px; text-align: left ; width: auto;} td:nth-child(2) {text-align: left ; width: 100%}\n",
       "    .wandb-row { display: flex; flex-direction: row; flex-wrap: wrap; justify-content: flex-start; width: 100% }\n",
       "    .wandb-col { display: flex; flex-direction: column; flex-basis: 100%; flex: 1; padding: 10px; }\n",
       "    </style>\n",
       "<div class=\"wandb-row\"><div class=\"wandb-col\"><h3>Run history:</h3><br/><table class=\"wandb\"><tr><td>accuracy</td><td>▁▆▇▇█</td></tr><tr><td>epoch</td><td>▁▃▅▆█</td></tr><tr><td>loss</td><td>█▃▂▁▁</td></tr><tr><td>test_accuracy</td><td>▁</td></tr><tr><td>test_loss</td><td>▁</td></tr><tr><td>val_accuracy</td><td>▁▆▆██</td></tr><tr><td>val_loss</td><td>█▃▂▁▁</td></tr></table><br/></div><div class=\"wandb-col\"><h3>Run summary:</h3><br/><table class=\"wandb\"><tr><td>accuracy</td><td>0.98765</td></tr><tr><td>best_epoch</td><td>4</td></tr><tr><td>best_val_loss</td><td>0.06595</td></tr><tr><td>epoch</td><td>4</td></tr><tr><td>loss</td><td>0.04183</td></tr><tr><td>test_accuracy</td><td>0.9779</td></tr><tr><td>test_loss</td><td>0.06595</td></tr><tr><td>val_accuracy</td><td>0.9779</td></tr><tr><td>val_loss</td><td>0.06595</td></tr></table><br/></div></div>"
      ],
      "text/plain": [
       "<IPython.core.display.HTML object>"
      ]
     },
     "metadata": {},
     "output_type": "display_data"
    },
    {
     "data": {
      "text/html": [
       " View run <strong style=\"color:#cdcd00\">serene-sweep-4</strong> at: <a href='http://localhost:8080/lejomarin/MNIST_experiments/runs/k9r60dks' target=\"_blank\">http://localhost:8080/lejomarin/MNIST_experiments/runs/k9r60dks</a><br/>Synced 7 W&B file(s), 1 media file(s), 25 artifact file(s) and 2 other file(s)"
      ],
      "text/plain": [
       "<IPython.core.display.HTML object>"
      ]
     },
     "metadata": {},
     "output_type": "display_data"
    },
    {
     "data": {
      "text/html": [
       "Find logs at: <code>./wandb/run-20240204_194712-k9r60dks/logs</code>"
      ],
      "text/plain": [
       "<IPython.core.display.HTML object>"
      ]
     },
     "metadata": {},
     "output_type": "display_data"
    },
    {
     "name": "stderr",
     "output_type": "stream",
     "text": [
      "\u001b[34m\u001b[1mwandb\u001b[0m: Agent Starting Run: feqh878d with config:\n",
      "\u001b[34m\u001b[1mwandb\u001b[0m: \tbatch_size: 128\n",
      "\u001b[34m\u001b[1mwandb\u001b[0m: \tepochs: 5\n",
      "\u001b[34m\u001b[1mwandb\u001b[0m: \tintermediate_dimension: 512\n",
      "\u001b[34m\u001b[1mwandb\u001b[0m: \tlearning_rate: 0.001\n",
      "\u001b[34m\u001b[1mwandb\u001b[0m: \tmomentum: 0\n"
     ]
    },
    {
     "data": {
      "text/html": [
       "Tracking run with wandb version 0.16.2"
      ],
      "text/plain": [
       "<IPython.core.display.HTML object>"
      ]
     },
     "metadata": {},
     "output_type": "display_data"
    },
    {
     "data": {
      "text/html": [
       "Run data is saved locally in <code>/Users/alejandromarinjimenez/Documents/Computer_Science/git/MNIST_Jan_2024/wandb/run-20240204_194737-feqh878d</code>"
      ],
      "text/plain": [
       "<IPython.core.display.HTML object>"
      ]
     },
     "metadata": {},
     "output_type": "display_data"
    },
    {
     "data": {
      "text/html": [
       "Syncing run <strong><a href='http://localhost:8080/lejomarin/MNIST_experiments/runs/feqh878d' target=\"_blank\">clear-sweep-5</a></strong> to <a href='http://localhost:8080/lejomarin/MNIST_experiments' target=\"_blank\">Weights & Biases</a> (<a href='https://wandb.me/run' target=\"_blank\">docs</a>)<br/>Sweep page: <a href='http://localhost:8080/lejomarin/MNIST_experiments/sweeps/yeagcad6' target=\"_blank\">http://localhost:8080/lejomarin/MNIST_experiments/sweeps/yeagcad6</a>"
      ],
      "text/plain": [
       "<IPython.core.display.HTML object>"
      ]
     },
     "metadata": {},
     "output_type": "display_data"
    },
    {
     "data": {
      "text/html": [
       " View project at <a href='http://localhost:8080/lejomarin/MNIST_experiments' target=\"_blank\">http://localhost:8080/lejomarin/MNIST_experiments</a>"
      ],
      "text/plain": [
       "<IPython.core.display.HTML object>"
      ]
     },
     "metadata": {},
     "output_type": "display_data"
    },
    {
     "data": {
      "text/html": [
       " View sweep at <a href='http://localhost:8080/lejomarin/MNIST_experiments/sweeps/yeagcad6' target=\"_blank\">http://localhost:8080/lejomarin/MNIST_experiments/sweeps/yeagcad6</a>"
      ],
      "text/plain": [
       "<IPython.core.display.HTML object>"
      ]
     },
     "metadata": {},
     "output_type": "display_data"
    },
    {
     "data": {
      "text/html": [
       " View run at <a href='http://localhost:8080/lejomarin/MNIST_experiments/runs/feqh878d' target=\"_blank\">http://localhost:8080/lejomarin/MNIST_experiments/runs/feqh878d</a>"
      ],
      "text/plain": [
       "<IPython.core.display.HTML object>"
      ]
     },
     "metadata": {},
     "output_type": "display_data"
    },
    {
     "name": "stderr",
     "output_type": "stream",
     "text": [
      "WARNING:absl:`lr` is deprecated in Keras optimizer, please use `learning_rate` or use the legacy optimizer, e.g.,tf.keras.optimizers.legacy.RMSprop.\n"
     ]
    },
    {
     "name": "stdout",
     "output_type": "stream",
     "text": [
      "Epoch 1/5\n",
      "453/469 [===========================>..] - ETA: 0s - loss: 0.2700 - accuracy: 0.9225"
     ]
    },
    {
     "name": "stderr",
     "output_type": "stream",
     "text": [
      "/Users/alejandromarinjimenez/anaconda3/lib/python3.11/site-packages/keras/src/engine/training.py:3103: UserWarning: You are saving your model as an HDF5 file via `model.save()`. This file format is considered legacy. We recommend using instead the native Keras format, e.g. `model.save('my_model.keras')`.\n",
      "  saving_api.save_model(\n"
     ]
    },
    {
     "name": "stdout",
     "output_type": "stream",
     "text": [
      "INFO:tensorflow:Assets written to: /Users/alejandromarinjimenez/Documents/Computer_Science/git/MNIST_Jan_2024/wandb/run-20240204_194737-feqh878d/files/model-best/assets\n"
     ]
    },
    {
     "name": "stderr",
     "output_type": "stream",
     "text": [
      "INFO:tensorflow:Assets written to: /Users/alejandromarinjimenez/Documents/Computer_Science/git/MNIST_Jan_2024/wandb/run-20240204_194737-feqh878d/files/model-best/assets\n",
      "\u001b[34m\u001b[1mwandb\u001b[0m: Adding directory to artifact (/Users/alejandromarinjimenez/Documents/Computer_Science/git/MNIST_Jan_2024/wandb/run-20240204_194737-feqh878d/files/model-best)... Done. 0.0s\n"
     ]
    },
    {
     "name": "stdout",
     "output_type": "stream",
     "text": [
      "469/469 [==============================] - 2s 5ms/step - loss: 0.2656 - accuracy: 0.9237 - val_loss: 0.1338 - val_accuracy: 0.9602\n",
      "Epoch 2/5\n",
      "455/469 [============================>.] - ETA: 0s - loss: 0.1094 - accuracy: 0.9680"
     ]
    },
    {
     "name": "stderr",
     "output_type": "stream",
     "text": [
      "/Users/alejandromarinjimenez/anaconda3/lib/python3.11/site-packages/keras/src/engine/training.py:3103: UserWarning: You are saving your model as an HDF5 file via `model.save()`. This file format is considered legacy. We recommend using instead the native Keras format, e.g. `model.save('my_model.keras')`.\n",
      "  saving_api.save_model(\n"
     ]
    },
    {
     "name": "stdout",
     "output_type": "stream",
     "text": [
      "INFO:tensorflow:Assets written to: /Users/alejandromarinjimenez/Documents/Computer_Science/git/MNIST_Jan_2024/wandb/run-20240204_194737-feqh878d/files/model-best/assets\n"
     ]
    },
    {
     "name": "stderr",
     "output_type": "stream",
     "text": [
      "INFO:tensorflow:Assets written to: /Users/alejandromarinjimenez/Documents/Computer_Science/git/MNIST_Jan_2024/wandb/run-20240204_194737-feqh878d/files/model-best/assets\n",
      "\u001b[34m\u001b[1mwandb\u001b[0m: Adding directory to artifact (/Users/alejandromarinjimenez/Documents/Computer_Science/git/MNIST_Jan_2024/wandb/run-20240204_194737-feqh878d/files/model-best)... Done. 0.0s\n"
     ]
    },
    {
     "name": "stdout",
     "output_type": "stream",
     "text": [
      "469/469 [==============================] - 2s 5ms/step - loss: 0.1086 - accuracy: 0.9683 - val_loss: 0.0935 - val_accuracy: 0.9716\n",
      "Epoch 3/5\n",
      "467/469 [============================>.] - ETA: 0s - loss: 0.0708 - accuracy: 0.9788"
     ]
    },
    {
     "name": "stderr",
     "output_type": "stream",
     "text": [
      "/Users/alejandromarinjimenez/anaconda3/lib/python3.11/site-packages/keras/src/engine/training.py:3103: UserWarning: You are saving your model as an HDF5 file via `model.save()`. This file format is considered legacy. We recommend using instead the native Keras format, e.g. `model.save('my_model.keras')`.\n",
      "  saving_api.save_model(\n"
     ]
    },
    {
     "name": "stdout",
     "output_type": "stream",
     "text": [
      "INFO:tensorflow:Assets written to: /Users/alejandromarinjimenez/Documents/Computer_Science/git/MNIST_Jan_2024/wandb/run-20240204_194737-feqh878d/files/model-best/assets\n"
     ]
    },
    {
     "name": "stderr",
     "output_type": "stream",
     "text": [
      "INFO:tensorflow:Assets written to: /Users/alejandromarinjimenez/Documents/Computer_Science/git/MNIST_Jan_2024/wandb/run-20240204_194737-feqh878d/files/model-best/assets\n",
      "\u001b[34m\u001b[1mwandb\u001b[0m: Adding directory to artifact (/Users/alejandromarinjimenez/Documents/Computer_Science/git/MNIST_Jan_2024/wandb/run-20240204_194737-feqh878d/files/model-best)... Done. 0.0s\n"
     ]
    },
    {
     "name": "stdout",
     "output_type": "stream",
     "text": [
      "469/469 [==============================] - 2s 4ms/step - loss: 0.0708 - accuracy: 0.9788 - val_loss: 0.0780 - val_accuracy: 0.9749\n",
      "Epoch 4/5\n",
      "469/469 [==============================] - ETA: 0s - loss: 0.0513 - accuracy: 0.9849"
     ]
    },
    {
     "name": "stderr",
     "output_type": "stream",
     "text": [
      "/Users/alejandromarinjimenez/anaconda3/lib/python3.11/site-packages/keras/src/engine/training.py:3103: UserWarning: You are saving your model as an HDF5 file via `model.save()`. This file format is considered legacy. We recommend using instead the native Keras format, e.g. `model.save('my_model.keras')`.\n",
      "  saving_api.save_model(\n"
     ]
    },
    {
     "name": "stdout",
     "output_type": "stream",
     "text": [
      "INFO:tensorflow:Assets written to: /Users/alejandromarinjimenez/Documents/Computer_Science/git/MNIST_Jan_2024/wandb/run-20240204_194737-feqh878d/files/model-best/assets\n"
     ]
    },
    {
     "name": "stderr",
     "output_type": "stream",
     "text": [
      "INFO:tensorflow:Assets written to: /Users/alejandromarinjimenez/Documents/Computer_Science/git/MNIST_Jan_2024/wandb/run-20240204_194737-feqh878d/files/model-best/assets\n",
      "\u001b[34m\u001b[1mwandb\u001b[0m: Adding directory to artifact (/Users/alejandromarinjimenez/Documents/Computer_Science/git/MNIST_Jan_2024/wandb/run-20240204_194737-feqh878d/files/model-best)... Done. 0.0s\n"
     ]
    },
    {
     "name": "stdout",
     "output_type": "stream",
     "text": [
      "469/469 [==============================] - 2s 4ms/step - loss: 0.0513 - accuracy: 0.9849 - val_loss: 0.0696 - val_accuracy: 0.9783\n",
      "Epoch 5/5\n",
      "469/469 [==============================] - 1s 3ms/step - loss: 0.0385 - accuracy: 0.9884 - val_loss: 0.0712 - val_accuracy: 0.9783\n",
      "313/313 [==============================] - 0s 912us/step - loss: 0.0712 - accuracy: 0.9783\n"
     ]
    },
    {
     "data": {
      "application/vnd.jupyter.widget-view+json": {
       "model_id": "",
       "version_major": 2,
       "version_minor": 0
      },
      "text/plain": [
       "VBox(children=(Label(value='15.919 MB of 15.919 MB uploaded (0.020 MB deduped)\\r'), FloatProgress(value=1.0, m…"
      ]
     },
     "metadata": {},
     "output_type": "display_data"
    },
    {
     "data": {
      "text/html": [
       "<style>\n",
       "    table.wandb td:nth-child(1) { padding: 0 10px; text-align: left ; width: auto;} td:nth-child(2) {text-align: left ; width: 100%}\n",
       "    .wandb-row { display: flex; flex-direction: row; flex-wrap: wrap; justify-content: flex-start; width: 100% }\n",
       "    .wandb-col { display: flex; flex-direction: column; flex-basis: 100%; flex: 1; padding: 10px; }\n",
       "    </style>\n",
       "<div class=\"wandb-row\"><div class=\"wandb-col\"><h3>Run history:</h3><br/><table class=\"wandb\"><tr><td>accuracy</td><td>▁▆▇██</td></tr><tr><td>epoch</td><td>▁▃▅▆█</td></tr><tr><td>loss</td><td>█▃▂▁▁</td></tr><tr><td>test_accuracy</td><td>▁</td></tr><tr><td>test_loss</td><td>▁</td></tr><tr><td>val_accuracy</td><td>▁▅▇██</td></tr><tr><td>val_loss</td><td>█▄▂▁▁</td></tr></table><br/></div><div class=\"wandb-col\"><h3>Run summary:</h3><br/><table class=\"wandb\"><tr><td>accuracy</td><td>0.98845</td></tr><tr><td>best_epoch</td><td>3</td></tr><tr><td>best_val_loss</td><td>0.06964</td></tr><tr><td>epoch</td><td>4</td></tr><tr><td>loss</td><td>0.03847</td></tr><tr><td>test_accuracy</td><td>0.9783</td></tr><tr><td>test_loss</td><td>0.07125</td></tr><tr><td>val_accuracy</td><td>0.9783</td></tr><tr><td>val_loss</td><td>0.07125</td></tr></table><br/></div></div>"
      ],
      "text/plain": [
       "<IPython.core.display.HTML object>"
      ]
     },
     "metadata": {},
     "output_type": "display_data"
    },
    {
     "data": {
      "text/html": [
       " View run <strong style=\"color:#cdcd00\">clear-sweep-5</strong> at: <a href='http://localhost:8080/lejomarin/MNIST_experiments/runs/feqh878d' target=\"_blank\">http://localhost:8080/lejomarin/MNIST_experiments/runs/feqh878d</a><br/>Synced 7 W&B file(s), 1 media file(s), 20 artifact file(s) and 2 other file(s)"
      ],
      "text/plain": [
       "<IPython.core.display.HTML object>"
      ]
     },
     "metadata": {},
     "output_type": "display_data"
    },
    {
     "data": {
      "text/html": [
       "Find logs at: <code>./wandb/run-20240204_194737-feqh878d/logs</code>"
      ],
      "text/plain": [
       "<IPython.core.display.HTML object>"
      ]
     },
     "metadata": {},
     "output_type": "display_data"
    },
    {
     "name": "stderr",
     "output_type": "stream",
     "text": [
      "\u001b[34m\u001b[1mwandb\u001b[0m: Agent Starting Run: 0shyh4jo with config:\n",
      "\u001b[34m\u001b[1mwandb\u001b[0m: \tbatch_size: 128\n",
      "\u001b[34m\u001b[1mwandb\u001b[0m: \tepochs: 5\n",
      "\u001b[34m\u001b[1mwandb\u001b[0m: \tintermediate_dimension: 512\n",
      "\u001b[34m\u001b[1mwandb\u001b[0m: \tlearning_rate: 0.001\n",
      "\u001b[34m\u001b[1mwandb\u001b[0m: \tmomentum: 0.25\n"
     ]
    },
    {
     "data": {
      "text/html": [
       "Tracking run with wandb version 0.16.2"
      ],
      "text/plain": [
       "<IPython.core.display.HTML object>"
      ]
     },
     "metadata": {},
     "output_type": "display_data"
    },
    {
     "data": {
      "text/html": [
       "Run data is saved locally in <code>/Users/alejandromarinjimenez/Documents/Computer_Science/git/MNIST_Jan_2024/wandb/run-20240204_194803-0shyh4jo</code>"
      ],
      "text/plain": [
       "<IPython.core.display.HTML object>"
      ]
     },
     "metadata": {},
     "output_type": "display_data"
    },
    {
     "data": {
      "text/html": [
       "Syncing run <strong><a href='http://localhost:8080/lejomarin/MNIST_experiments/runs/0shyh4jo' target=\"_blank\">magic-sweep-6</a></strong> to <a href='http://localhost:8080/lejomarin/MNIST_experiments' target=\"_blank\">Weights & Biases</a> (<a href='https://wandb.me/run' target=\"_blank\">docs</a>)<br/>Sweep page: <a href='http://localhost:8080/lejomarin/MNIST_experiments/sweeps/yeagcad6' target=\"_blank\">http://localhost:8080/lejomarin/MNIST_experiments/sweeps/yeagcad6</a>"
      ],
      "text/plain": [
       "<IPython.core.display.HTML object>"
      ]
     },
     "metadata": {},
     "output_type": "display_data"
    },
    {
     "data": {
      "text/html": [
       " View project at <a href='http://localhost:8080/lejomarin/MNIST_experiments' target=\"_blank\">http://localhost:8080/lejomarin/MNIST_experiments</a>"
      ],
      "text/plain": [
       "<IPython.core.display.HTML object>"
      ]
     },
     "metadata": {},
     "output_type": "display_data"
    },
    {
     "data": {
      "text/html": [
       " View sweep at <a href='http://localhost:8080/lejomarin/MNIST_experiments/sweeps/yeagcad6' target=\"_blank\">http://localhost:8080/lejomarin/MNIST_experiments/sweeps/yeagcad6</a>"
      ],
      "text/plain": [
       "<IPython.core.display.HTML object>"
      ]
     },
     "metadata": {},
     "output_type": "display_data"
    },
    {
     "data": {
      "text/html": [
       " View run at <a href='http://localhost:8080/lejomarin/MNIST_experiments/runs/0shyh4jo' target=\"_blank\">http://localhost:8080/lejomarin/MNIST_experiments/runs/0shyh4jo</a>"
      ],
      "text/plain": [
       "<IPython.core.display.HTML object>"
      ]
     },
     "metadata": {},
     "output_type": "display_data"
    },
    {
     "name": "stderr",
     "output_type": "stream",
     "text": [
      "WARNING:absl:`lr` is deprecated in Keras optimizer, please use `learning_rate` or use the legacy optimizer, e.g.,tf.keras.optimizers.legacy.RMSprop.\n"
     ]
    },
    {
     "name": "stdout",
     "output_type": "stream",
     "text": [
      "Epoch 1/5\n",
      "468/469 [============================>.] - ETA: 0s - loss: 0.2373 - accuracy: 0.9304"
     ]
    },
    {
     "name": "stderr",
     "output_type": "stream",
     "text": [
      "/Users/alejandromarinjimenez/anaconda3/lib/python3.11/site-packages/keras/src/engine/training.py:3103: UserWarning: You are saving your model as an HDF5 file via `model.save()`. This file format is considered legacy. We recommend using instead the native Keras format, e.g. `model.save('my_model.keras')`.\n",
      "  saving_api.save_model(\n"
     ]
    },
    {
     "name": "stdout",
     "output_type": "stream",
     "text": [
      "INFO:tensorflow:Assets written to: /Users/alejandromarinjimenez/Documents/Computer_Science/git/MNIST_Jan_2024/wandb/run-20240204_194803-0shyh4jo/files/model-best/assets\n"
     ]
    },
    {
     "name": "stderr",
     "output_type": "stream",
     "text": [
      "INFO:tensorflow:Assets written to: /Users/alejandromarinjimenez/Documents/Computer_Science/git/MNIST_Jan_2024/wandb/run-20240204_194803-0shyh4jo/files/model-best/assets\n",
      "\u001b[34m\u001b[1mwandb\u001b[0m: Adding directory to artifact (/Users/alejandromarinjimenez/Documents/Computer_Science/git/MNIST_Jan_2024/wandb/run-20240204_194803-0shyh4jo/files/model-best)... Done. 0.0s\n"
     ]
    },
    {
     "name": "stdout",
     "output_type": "stream",
     "text": [
      "469/469 [==============================] - 3s 6ms/step - loss: 0.2371 - accuracy: 0.9305 - val_loss: 0.1146 - val_accuracy: 0.9650\n",
      "Epoch 2/5\n",
      "469/469 [==============================] - ETA: 0s - loss: 0.0948 - accuracy: 0.9711"
     ]
    },
    {
     "name": "stderr",
     "output_type": "stream",
     "text": [
      "/Users/alejandromarinjimenez/anaconda3/lib/python3.11/site-packages/keras/src/engine/training.py:3103: UserWarning: You are saving your model as an HDF5 file via `model.save()`. This file format is considered legacy. We recommend using instead the native Keras format, e.g. `model.save('my_model.keras')`.\n",
      "  saving_api.save_model(\n"
     ]
    },
    {
     "name": "stdout",
     "output_type": "stream",
     "text": [
      "INFO:tensorflow:Assets written to: /Users/alejandromarinjimenez/Documents/Computer_Science/git/MNIST_Jan_2024/wandb/run-20240204_194803-0shyh4jo/files/model-best/assets\n"
     ]
    },
    {
     "name": "stderr",
     "output_type": "stream",
     "text": [
      "INFO:tensorflow:Assets written to: /Users/alejandromarinjimenez/Documents/Computer_Science/git/MNIST_Jan_2024/wandb/run-20240204_194803-0shyh4jo/files/model-best/assets\n",
      "\u001b[34m\u001b[1mwandb\u001b[0m: Adding directory to artifact (/Users/alejandromarinjimenez/Documents/Computer_Science/git/MNIST_Jan_2024/wandb/run-20240204_194803-0shyh4jo/files/model-best)... Done. 0.0s\n"
     ]
    },
    {
     "name": "stdout",
     "output_type": "stream",
     "text": [
      "469/469 [==============================] - 2s 5ms/step - loss: 0.0948 - accuracy: 0.9711 - val_loss: 0.0809 - val_accuracy: 0.9753\n",
      "Epoch 3/5\n",
      "463/469 [============================>.] - ETA: 0s - loss: 0.0612 - accuracy: 0.9818"
     ]
    },
    {
     "name": "stderr",
     "output_type": "stream",
     "text": [
      "/Users/alejandromarinjimenez/anaconda3/lib/python3.11/site-packages/keras/src/engine/training.py:3103: UserWarning: You are saving your model as an HDF5 file via `model.save()`. This file format is considered legacy. We recommend using instead the native Keras format, e.g. `model.save('my_model.keras')`.\n",
      "  saving_api.save_model(\n"
     ]
    },
    {
     "name": "stdout",
     "output_type": "stream",
     "text": [
      "INFO:tensorflow:Assets written to: /Users/alejandromarinjimenez/Documents/Computer_Science/git/MNIST_Jan_2024/wandb/run-20240204_194803-0shyh4jo/files/model-best/assets\n"
     ]
    },
    {
     "name": "stderr",
     "output_type": "stream",
     "text": [
      "INFO:tensorflow:Assets written to: /Users/alejandromarinjimenez/Documents/Computer_Science/git/MNIST_Jan_2024/wandb/run-20240204_194803-0shyh4jo/files/model-best/assets\n",
      "\u001b[34m\u001b[1mwandb\u001b[0m: Adding directory to artifact (/Users/alejandromarinjimenez/Documents/Computer_Science/git/MNIST_Jan_2024/wandb/run-20240204_194803-0shyh4jo/files/model-best)... Done. 0.0s\n"
     ]
    },
    {
     "name": "stdout",
     "output_type": "stream",
     "text": [
      "469/469 [==============================] - 2s 5ms/step - loss: 0.0613 - accuracy: 0.9817 - val_loss: 0.0746 - val_accuracy: 0.9766\n",
      "Epoch 4/5\n",
      "464/469 [============================>.] - ETA: 0s - loss: 0.0438 - accuracy: 0.9867"
     ]
    },
    {
     "name": "stderr",
     "output_type": "stream",
     "text": [
      "/Users/alejandromarinjimenez/anaconda3/lib/python3.11/site-packages/keras/src/engine/training.py:3103: UserWarning: You are saving your model as an HDF5 file via `model.save()`. This file format is considered legacy. We recommend using instead the native Keras format, e.g. `model.save('my_model.keras')`.\n",
      "  saving_api.save_model(\n"
     ]
    },
    {
     "name": "stdout",
     "output_type": "stream",
     "text": [
      "INFO:tensorflow:Assets written to: /Users/alejandromarinjimenez/Documents/Computer_Science/git/MNIST_Jan_2024/wandb/run-20240204_194803-0shyh4jo/files/model-best/assets\n"
     ]
    },
    {
     "name": "stderr",
     "output_type": "stream",
     "text": [
      "INFO:tensorflow:Assets written to: /Users/alejandromarinjimenez/Documents/Computer_Science/git/MNIST_Jan_2024/wandb/run-20240204_194803-0shyh4jo/files/model-best/assets\n",
      "\u001b[34m\u001b[1mwandb\u001b[0m: Adding directory to artifact (/Users/alejandromarinjimenez/Documents/Computer_Science/git/MNIST_Jan_2024/wandb/run-20240204_194803-0shyh4jo/files/model-best)... Done. 0.0s\n"
     ]
    },
    {
     "name": "stdout",
     "output_type": "stream",
     "text": [
      "469/469 [==============================] - 2s 5ms/step - loss: 0.0437 - accuracy: 0.9867 - val_loss: 0.0648 - val_accuracy: 0.9808\n",
      "Epoch 5/5\n",
      "469/469 [==============================] - 2s 4ms/step - loss: 0.0326 - accuracy: 0.9898 - val_loss: 0.0699 - val_accuracy: 0.9776\n",
      "313/313 [==============================] - 0s 986us/step - loss: 0.0699 - accuracy: 0.9776\n"
     ]
    },
    {
     "data": {
      "application/vnd.jupyter.widget-view+json": {
       "model_id": "",
       "version_major": 2,
       "version_minor": 0
      },
      "text/plain": [
       "VBox(children=(Label(value='23.723 MB of 23.723 MB uploaded (0.020 MB deduped)\\r'), FloatProgress(value=1.0, m…"
      ]
     },
     "metadata": {},
     "output_type": "display_data"
    },
    {
     "data": {
      "text/html": [
       "<style>\n",
       "    table.wandb td:nth-child(1) { padding: 0 10px; text-align: left ; width: auto;} td:nth-child(2) {text-align: left ; width: 100%}\n",
       "    .wandb-row { display: flex; flex-direction: row; flex-wrap: wrap; justify-content: flex-start; width: 100% }\n",
       "    .wandb-col { display: flex; flex-direction: column; flex-basis: 100%; flex: 1; padding: 10px; }\n",
       "    </style>\n",
       "<div class=\"wandb-row\"><div class=\"wandb-col\"><h3>Run history:</h3><br/><table class=\"wandb\"><tr><td>accuracy</td><td>▁▆▇██</td></tr><tr><td>epoch</td><td>▁▃▅▆█</td></tr><tr><td>loss</td><td>█▃▂▁▁</td></tr><tr><td>test_accuracy</td><td>▁</td></tr><tr><td>test_loss</td><td>▁</td></tr><tr><td>val_accuracy</td><td>▁▆▆█▇</td></tr><tr><td>val_loss</td><td>█▃▂▁▂</td></tr></table><br/></div><div class=\"wandb-col\"><h3>Run summary:</h3><br/><table class=\"wandb\"><tr><td>accuracy</td><td>0.98983</td></tr><tr><td>best_epoch</td><td>3</td></tr><tr><td>best_val_loss</td><td>0.06481</td></tr><tr><td>epoch</td><td>4</td></tr><tr><td>loss</td><td>0.03258</td></tr><tr><td>test_accuracy</td><td>0.9776</td></tr><tr><td>test_loss</td><td>0.06994</td></tr><tr><td>val_accuracy</td><td>0.9776</td></tr><tr><td>val_loss</td><td>0.06994</td></tr></table><br/></div></div>"
      ],
      "text/plain": [
       "<IPython.core.display.HTML object>"
      ]
     },
     "metadata": {},
     "output_type": "display_data"
    },
    {
     "data": {
      "text/html": [
       " View run <strong style=\"color:#cdcd00\">magic-sweep-6</strong> at: <a href='http://localhost:8080/lejomarin/MNIST_experiments/runs/0shyh4jo' target=\"_blank\">http://localhost:8080/lejomarin/MNIST_experiments/runs/0shyh4jo</a><br/>Synced 7 W&B file(s), 1 media file(s), 20 artifact file(s) and 2 other file(s)"
      ],
      "text/plain": [
       "<IPython.core.display.HTML object>"
      ]
     },
     "metadata": {},
     "output_type": "display_data"
    },
    {
     "data": {
      "text/html": [
       "Find logs at: <code>./wandb/run-20240204_194803-0shyh4jo/logs</code>"
      ],
      "text/plain": [
       "<IPython.core.display.HTML object>"
      ]
     },
     "metadata": {},
     "output_type": "display_data"
    },
    {
     "name": "stderr",
     "output_type": "stream",
     "text": [
      "\u001b[34m\u001b[1mwandb\u001b[0m: Agent Starting Run: 7qzcs54l with config:\n",
      "\u001b[34m\u001b[1mwandb\u001b[0m: \tbatch_size: 128\n",
      "\u001b[34m\u001b[1mwandb\u001b[0m: \tepochs: 5\n",
      "\u001b[34m\u001b[1mwandb\u001b[0m: \tintermediate_dimension: 512\n",
      "\u001b[34m\u001b[1mwandb\u001b[0m: \tlearning_rate: 0.005\n",
      "\u001b[34m\u001b[1mwandb\u001b[0m: \tmomentum: 0\n"
     ]
    },
    {
     "data": {
      "text/html": [
       "Tracking run with wandb version 0.16.2"
      ],
      "text/plain": [
       "<IPython.core.display.HTML object>"
      ]
     },
     "metadata": {},
     "output_type": "display_data"
    },
    {
     "data": {
      "text/html": [
       "Run data is saved locally in <code>/Users/alejandromarinjimenez/Documents/Computer_Science/git/MNIST_Jan_2024/wandb/run-20240204_194832-7qzcs54l</code>"
      ],
      "text/plain": [
       "<IPython.core.display.HTML object>"
      ]
     },
     "metadata": {},
     "output_type": "display_data"
    },
    {
     "data": {
      "text/html": [
       "Syncing run <strong><a href='http://localhost:8080/lejomarin/MNIST_experiments/runs/7qzcs54l' target=\"_blank\">comic-sweep-7</a></strong> to <a href='http://localhost:8080/lejomarin/MNIST_experiments' target=\"_blank\">Weights & Biases</a> (<a href='https://wandb.me/run' target=\"_blank\">docs</a>)<br/>Sweep page: <a href='http://localhost:8080/lejomarin/MNIST_experiments/sweeps/yeagcad6' target=\"_blank\">http://localhost:8080/lejomarin/MNIST_experiments/sweeps/yeagcad6</a>"
      ],
      "text/plain": [
       "<IPython.core.display.HTML object>"
      ]
     },
     "metadata": {},
     "output_type": "display_data"
    },
    {
     "data": {
      "text/html": [
       " View project at <a href='http://localhost:8080/lejomarin/MNIST_experiments' target=\"_blank\">http://localhost:8080/lejomarin/MNIST_experiments</a>"
      ],
      "text/plain": [
       "<IPython.core.display.HTML object>"
      ]
     },
     "metadata": {},
     "output_type": "display_data"
    },
    {
     "data": {
      "text/html": [
       " View sweep at <a href='http://localhost:8080/lejomarin/MNIST_experiments/sweeps/yeagcad6' target=\"_blank\">http://localhost:8080/lejomarin/MNIST_experiments/sweeps/yeagcad6</a>"
      ],
      "text/plain": [
       "<IPython.core.display.HTML object>"
      ]
     },
     "metadata": {},
     "output_type": "display_data"
    },
    {
     "data": {
      "text/html": [
       " View run at <a href='http://localhost:8080/lejomarin/MNIST_experiments/runs/7qzcs54l' target=\"_blank\">http://localhost:8080/lejomarin/MNIST_experiments/runs/7qzcs54l</a>"
      ],
      "text/plain": [
       "<IPython.core.display.HTML object>"
      ]
     },
     "metadata": {},
     "output_type": "display_data"
    },
    {
     "name": "stderr",
     "output_type": "stream",
     "text": [
      "WARNING:absl:`lr` is deprecated in Keras optimizer, please use `learning_rate` or use the legacy optimizer, e.g.,tf.keras.optimizers.legacy.RMSprop.\n"
     ]
    },
    {
     "name": "stdout",
     "output_type": "stream",
     "text": [
      "Epoch 1/5\n",
      "461/469 [============================>.] - ETA: 0s - loss: 0.2663 - accuracy: 0.9242"
     ]
    },
    {
     "name": "stderr",
     "output_type": "stream",
     "text": [
      "/Users/alejandromarinjimenez/anaconda3/lib/python3.11/site-packages/keras/src/engine/training.py:3103: UserWarning: You are saving your model as an HDF5 file via `model.save()`. This file format is considered legacy. We recommend using instead the native Keras format, e.g. `model.save('my_model.keras')`.\n",
      "  saving_api.save_model(\n"
     ]
    },
    {
     "name": "stdout",
     "output_type": "stream",
     "text": [
      "INFO:tensorflow:Assets written to: /Users/alejandromarinjimenez/Documents/Computer_Science/git/MNIST_Jan_2024/wandb/run-20240204_194832-7qzcs54l/files/model-best/assets\n"
     ]
    },
    {
     "name": "stderr",
     "output_type": "stream",
     "text": [
      "INFO:tensorflow:Assets written to: /Users/alejandromarinjimenez/Documents/Computer_Science/git/MNIST_Jan_2024/wandb/run-20240204_194832-7qzcs54l/files/model-best/assets\n",
      "\u001b[34m\u001b[1mwandb\u001b[0m: Adding directory to artifact (/Users/alejandromarinjimenez/Documents/Computer_Science/git/MNIST_Jan_2024/wandb/run-20240204_194832-7qzcs54l/files/model-best)... Done. 0.0s\n"
     ]
    },
    {
     "name": "stdout",
     "output_type": "stream",
     "text": [
      "469/469 [==============================] - 2s 4ms/step - loss: 0.2644 - accuracy: 0.9247 - val_loss: 0.1383 - val_accuracy: 0.9591\n",
      "Epoch 2/5\n",
      "457/469 [============================>.] - ETA: 0s - loss: 0.1088 - accuracy: 0.9674"
     ]
    },
    {
     "name": "stderr",
     "output_type": "stream",
     "text": [
      "/Users/alejandromarinjimenez/anaconda3/lib/python3.11/site-packages/keras/src/engine/training.py:3103: UserWarning: You are saving your model as an HDF5 file via `model.save()`. This file format is considered legacy. We recommend using instead the native Keras format, e.g. `model.save('my_model.keras')`.\n",
      "  saving_api.save_model(\n"
     ]
    },
    {
     "name": "stdout",
     "output_type": "stream",
     "text": [
      "INFO:tensorflow:Assets written to: /Users/alejandromarinjimenez/Documents/Computer_Science/git/MNIST_Jan_2024/wandb/run-20240204_194832-7qzcs54l/files/model-best/assets\n"
     ]
    },
    {
     "name": "stderr",
     "output_type": "stream",
     "text": [
      "INFO:tensorflow:Assets written to: /Users/alejandromarinjimenez/Documents/Computer_Science/git/MNIST_Jan_2024/wandb/run-20240204_194832-7qzcs54l/files/model-best/assets\n",
      "\u001b[34m\u001b[1mwandb\u001b[0m: Adding directory to artifact (/Users/alejandromarinjimenez/Documents/Computer_Science/git/MNIST_Jan_2024/wandb/run-20240204_194832-7qzcs54l/files/model-best)... Done. 0.0s\n"
     ]
    },
    {
     "name": "stdout",
     "output_type": "stream",
     "text": [
      "469/469 [==============================] - 2s 4ms/step - loss: 0.1079 - accuracy: 0.9676 - val_loss: 0.0965 - val_accuracy: 0.9706\n",
      "Epoch 3/5\n",
      "461/469 [============================>.] - ETA: 0s - loss: 0.0702 - accuracy: 0.9790"
     ]
    },
    {
     "name": "stderr",
     "output_type": "stream",
     "text": [
      "/Users/alejandromarinjimenez/anaconda3/lib/python3.11/site-packages/keras/src/engine/training.py:3103: UserWarning: You are saving your model as an HDF5 file via `model.save()`. This file format is considered legacy. We recommend using instead the native Keras format, e.g. `model.save('my_model.keras')`.\n",
      "  saving_api.save_model(\n"
     ]
    },
    {
     "name": "stdout",
     "output_type": "stream",
     "text": [
      "INFO:tensorflow:Assets written to: /Users/alejandromarinjimenez/Documents/Computer_Science/git/MNIST_Jan_2024/wandb/run-20240204_194832-7qzcs54l/files/model-best/assets\n"
     ]
    },
    {
     "name": "stderr",
     "output_type": "stream",
     "text": [
      "INFO:tensorflow:Assets written to: /Users/alejandromarinjimenez/Documents/Computer_Science/git/MNIST_Jan_2024/wandb/run-20240204_194832-7qzcs54l/files/model-best/assets\n",
      "\u001b[34m\u001b[1mwandb\u001b[0m: Adding directory to artifact (/Users/alejandromarinjimenez/Documents/Computer_Science/git/MNIST_Jan_2024/wandb/run-20240204_194832-7qzcs54l/files/model-best)... Done. 0.0s\n"
     ]
    },
    {
     "name": "stdout",
     "output_type": "stream",
     "text": [
      "469/469 [==============================] - 2s 5ms/step - loss: 0.0702 - accuracy: 0.9790 - val_loss: 0.0782 - val_accuracy: 0.9753\n",
      "Epoch 4/5\n",
      "460/469 [============================>.] - ETA: 0s - loss: 0.0513 - accuracy: 0.9846"
     ]
    },
    {
     "name": "stderr",
     "output_type": "stream",
     "text": [
      "/Users/alejandromarinjimenez/anaconda3/lib/python3.11/site-packages/keras/src/engine/training.py:3103: UserWarning: You are saving your model as an HDF5 file via `model.save()`. This file format is considered legacy. We recommend using instead the native Keras format, e.g. `model.save('my_model.keras')`.\n",
      "  saving_api.save_model(\n"
     ]
    },
    {
     "name": "stdout",
     "output_type": "stream",
     "text": [
      "INFO:tensorflow:Assets written to: /Users/alejandromarinjimenez/Documents/Computer_Science/git/MNIST_Jan_2024/wandb/run-20240204_194832-7qzcs54l/files/model-best/assets\n"
     ]
    },
    {
     "name": "stderr",
     "output_type": "stream",
     "text": [
      "INFO:tensorflow:Assets written to: /Users/alejandromarinjimenez/Documents/Computer_Science/git/MNIST_Jan_2024/wandb/run-20240204_194832-7qzcs54l/files/model-best/assets\n",
      "\u001b[34m\u001b[1mwandb\u001b[0m: Adding directory to artifact (/Users/alejandromarinjimenez/Documents/Computer_Science/git/MNIST_Jan_2024/wandb/run-20240204_194832-7qzcs54l/files/model-best)... Done. 0.1s\n"
     ]
    },
    {
     "name": "stdout",
     "output_type": "stream",
     "text": [
      "469/469 [==============================] - 2s 5ms/step - loss: 0.0511 - accuracy: 0.9847 - val_loss: 0.0688 - val_accuracy: 0.9797\n",
      "Epoch 5/5\n",
      "462/469 [============================>.] - ETA: 0s - loss: 0.0376 - accuracy: 0.9889"
     ]
    },
    {
     "name": "stderr",
     "output_type": "stream",
     "text": [
      "/Users/alejandromarinjimenez/anaconda3/lib/python3.11/site-packages/keras/src/engine/training.py:3103: UserWarning: You are saving your model as an HDF5 file via `model.save()`. This file format is considered legacy. We recommend using instead the native Keras format, e.g. `model.save('my_model.keras')`.\n",
      "  saving_api.save_model(\n"
     ]
    },
    {
     "name": "stdout",
     "output_type": "stream",
     "text": [
      "INFO:tensorflow:Assets written to: /Users/alejandromarinjimenez/Documents/Computer_Science/git/MNIST_Jan_2024/wandb/run-20240204_194832-7qzcs54l/files/model-best/assets\n"
     ]
    },
    {
     "name": "stderr",
     "output_type": "stream",
     "text": [
      "INFO:tensorflow:Assets written to: /Users/alejandromarinjimenez/Documents/Computer_Science/git/MNIST_Jan_2024/wandb/run-20240204_194832-7qzcs54l/files/model-best/assets\n",
      "\u001b[34m\u001b[1mwandb\u001b[0m: Adding directory to artifact (/Users/alejandromarinjimenez/Documents/Computer_Science/git/MNIST_Jan_2024/wandb/run-20240204_194832-7qzcs54l/files/model-best)... Done. 0.1s\n"
     ]
    },
    {
     "name": "stdout",
     "output_type": "stream",
     "text": [
      "469/469 [==============================] - 2s 4ms/step - loss: 0.0377 - accuracy: 0.9888 - val_loss: 0.0619 - val_accuracy: 0.9802\n",
      "313/313 [==============================] - 0s 1ms/step - loss: 0.0619 - accuracy: 0.9802\n"
     ]
    },
    {
     "data": {
      "application/vnd.jupyter.widget-view+json": {
       "model_id": "",
       "version_major": 2,
       "version_minor": 0
      },
      "text/plain": [
       "VBox(children=(Label(value='19.190 MB of 19.190 MB uploaded (0.026 MB deduped)\\r'), FloatProgress(value=1.0, m…"
      ]
     },
     "metadata": {},
     "output_type": "display_data"
    },
    {
     "data": {
      "text/html": [
       "<style>\n",
       "    table.wandb td:nth-child(1) { padding: 0 10px; text-align: left ; width: auto;} td:nth-child(2) {text-align: left ; width: 100%}\n",
       "    .wandb-row { display: flex; flex-direction: row; flex-wrap: wrap; justify-content: flex-start; width: 100% }\n",
       "    .wandb-col { display: flex; flex-direction: column; flex-basis: 100%; flex: 1; padding: 10px; }\n",
       "    </style>\n",
       "<div class=\"wandb-row\"><div class=\"wandb-col\"><h3>Run history:</h3><br/><table class=\"wandb\"><tr><td>accuracy</td><td>▁▆▇██</td></tr><tr><td>epoch</td><td>▁▃▅▆█</td></tr><tr><td>loss</td><td>█▃▂▁▁</td></tr><tr><td>test_accuracy</td><td>▁</td></tr><tr><td>test_loss</td><td>▁</td></tr><tr><td>val_accuracy</td><td>▁▅▆██</td></tr><tr><td>val_loss</td><td>█▄▂▂▁</td></tr></table><br/></div><div class=\"wandb-col\"><h3>Run summary:</h3><br/><table class=\"wandb\"><tr><td>accuracy</td><td>0.9888</td></tr><tr><td>best_epoch</td><td>4</td></tr><tr><td>best_val_loss</td><td>0.06195</td></tr><tr><td>epoch</td><td>4</td></tr><tr><td>loss</td><td>0.03768</td></tr><tr><td>test_accuracy</td><td>0.9802</td></tr><tr><td>test_loss</td><td>0.06194</td></tr><tr><td>val_accuracy</td><td>0.9802</td></tr><tr><td>val_loss</td><td>0.06195</td></tr></table><br/></div></div>"
      ],
      "text/plain": [
       "<IPython.core.display.HTML object>"
      ]
     },
     "metadata": {},
     "output_type": "display_data"
    },
    {
     "data": {
      "text/html": [
       " View run <strong style=\"color:#cdcd00\">comic-sweep-7</strong> at: <a href='http://localhost:8080/lejomarin/MNIST_experiments/runs/7qzcs54l' target=\"_blank\">http://localhost:8080/lejomarin/MNIST_experiments/runs/7qzcs54l</a><br/>Synced 7 W&B file(s), 1 media file(s), 25 artifact file(s) and 2 other file(s)"
      ],
      "text/plain": [
       "<IPython.core.display.HTML object>"
      ]
     },
     "metadata": {},
     "output_type": "display_data"
    },
    {
     "data": {
      "text/html": [
       "Find logs at: <code>./wandb/run-20240204_194832-7qzcs54l/logs</code>"
      ],
      "text/plain": [
       "<IPython.core.display.HTML object>"
      ]
     },
     "metadata": {},
     "output_type": "display_data"
    },
    {
     "name": "stderr",
     "output_type": "stream",
     "text": [
      "\u001b[34m\u001b[1mwandb\u001b[0m: Agent Starting Run: re13letf with config:\n",
      "\u001b[34m\u001b[1mwandb\u001b[0m: \tbatch_size: 128\n",
      "\u001b[34m\u001b[1mwandb\u001b[0m: \tepochs: 5\n",
      "\u001b[34m\u001b[1mwandb\u001b[0m: \tintermediate_dimension: 512\n",
      "\u001b[34m\u001b[1mwandb\u001b[0m: \tlearning_rate: 0.005\n",
      "\u001b[34m\u001b[1mwandb\u001b[0m: \tmomentum: 0.25\n"
     ]
    },
    {
     "data": {
      "text/html": [
       "Tracking run with wandb version 0.16.2"
      ],
      "text/plain": [
       "<IPython.core.display.HTML object>"
      ]
     },
     "metadata": {},
     "output_type": "display_data"
    },
    {
     "data": {
      "text/html": [
       "Run data is saved locally in <code>/Users/alejandromarinjimenez/Documents/Computer_Science/git/MNIST_Jan_2024/wandb/run-20240204_194858-re13letf</code>"
      ],
      "text/plain": [
       "<IPython.core.display.HTML object>"
      ]
     },
     "metadata": {},
     "output_type": "display_data"
    },
    {
     "data": {
      "text/html": [
       "Syncing run <strong><a href='http://localhost:8080/lejomarin/MNIST_experiments/runs/re13letf' target=\"_blank\">balmy-sweep-8</a></strong> to <a href='http://localhost:8080/lejomarin/MNIST_experiments' target=\"_blank\">Weights & Biases</a> (<a href='https://wandb.me/run' target=\"_blank\">docs</a>)<br/>Sweep page: <a href='http://localhost:8080/lejomarin/MNIST_experiments/sweeps/yeagcad6' target=\"_blank\">http://localhost:8080/lejomarin/MNIST_experiments/sweeps/yeagcad6</a>"
      ],
      "text/plain": [
       "<IPython.core.display.HTML object>"
      ]
     },
     "metadata": {},
     "output_type": "display_data"
    },
    {
     "data": {
      "text/html": [
       " View project at <a href='http://localhost:8080/lejomarin/MNIST_experiments' target=\"_blank\">http://localhost:8080/lejomarin/MNIST_experiments</a>"
      ],
      "text/plain": [
       "<IPython.core.display.HTML object>"
      ]
     },
     "metadata": {},
     "output_type": "display_data"
    },
    {
     "data": {
      "text/html": [
       " View sweep at <a href='http://localhost:8080/lejomarin/MNIST_experiments/sweeps/yeagcad6' target=\"_blank\">http://localhost:8080/lejomarin/MNIST_experiments/sweeps/yeagcad6</a>"
      ],
      "text/plain": [
       "<IPython.core.display.HTML object>"
      ]
     },
     "metadata": {},
     "output_type": "display_data"
    },
    {
     "data": {
      "text/html": [
       " View run at <a href='http://localhost:8080/lejomarin/MNIST_experiments/runs/re13letf' target=\"_blank\">http://localhost:8080/lejomarin/MNIST_experiments/runs/re13letf</a>"
      ],
      "text/plain": [
       "<IPython.core.display.HTML object>"
      ]
     },
     "metadata": {},
     "output_type": "display_data"
    },
    {
     "name": "stderr",
     "output_type": "stream",
     "text": [
      "WARNING:absl:`lr` is deprecated in Keras optimizer, please use `learning_rate` or use the legacy optimizer, e.g.,tf.keras.optimizers.legacy.RMSprop.\n"
     ]
    },
    {
     "name": "stdout",
     "output_type": "stream",
     "text": [
      "Epoch 1/5\n",
      "467/469 [============================>.] - ETA: 0s - loss: 0.2389 - accuracy: 0.9310"
     ]
    },
    {
     "name": "stderr",
     "output_type": "stream",
     "text": [
      "/Users/alejandromarinjimenez/anaconda3/lib/python3.11/site-packages/keras/src/engine/training.py:3103: UserWarning: You are saving your model as an HDF5 file via `model.save()`. This file format is considered legacy. We recommend using instead the native Keras format, e.g. `model.save('my_model.keras')`.\n",
      "  saving_api.save_model(\n"
     ]
    },
    {
     "name": "stdout",
     "output_type": "stream",
     "text": [
      "INFO:tensorflow:Assets written to: /Users/alejandromarinjimenez/Documents/Computer_Science/git/MNIST_Jan_2024/wandb/run-20240204_194858-re13letf/files/model-best/assets\n"
     ]
    },
    {
     "name": "stderr",
     "output_type": "stream",
     "text": [
      "INFO:tensorflow:Assets written to: /Users/alejandromarinjimenez/Documents/Computer_Science/git/MNIST_Jan_2024/wandb/run-20240204_194858-re13letf/files/model-best/assets\n",
      "\u001b[34m\u001b[1mwandb\u001b[0m: Adding directory to artifact (/Users/alejandromarinjimenez/Documents/Computer_Science/git/MNIST_Jan_2024/wandb/run-20240204_194858-re13letf/files/model-best)... Done. 0.0s\n"
     ]
    },
    {
     "name": "stdout",
     "output_type": "stream",
     "text": [
      "469/469 [==============================] - 3s 5ms/step - loss: 0.2386 - accuracy: 0.9312 - val_loss: 0.1200 - val_accuracy: 0.9639\n",
      "Epoch 2/5\n",
      "469/469 [==============================] - ETA: 0s - loss: 0.0944 - accuracy: 0.9720"
     ]
    },
    {
     "name": "stderr",
     "output_type": "stream",
     "text": [
      "/Users/alejandromarinjimenez/anaconda3/lib/python3.11/site-packages/keras/src/engine/training.py:3103: UserWarning: You are saving your model as an HDF5 file via `model.save()`. This file format is considered legacy. We recommend using instead the native Keras format, e.g. `model.save('my_model.keras')`.\n",
      "  saving_api.save_model(\n"
     ]
    },
    {
     "name": "stdout",
     "output_type": "stream",
     "text": [
      "INFO:tensorflow:Assets written to: /Users/alejandromarinjimenez/Documents/Computer_Science/git/MNIST_Jan_2024/wandb/run-20240204_194858-re13letf/files/model-best/assets\n"
     ]
    },
    {
     "name": "stderr",
     "output_type": "stream",
     "text": [
      "INFO:tensorflow:Assets written to: /Users/alejandromarinjimenez/Documents/Computer_Science/git/MNIST_Jan_2024/wandb/run-20240204_194858-re13letf/files/model-best/assets\n",
      "\u001b[34m\u001b[1mwandb\u001b[0m: Adding directory to artifact (/Users/alejandromarinjimenez/Documents/Computer_Science/git/MNIST_Jan_2024/wandb/run-20240204_194858-re13letf/files/model-best)... Done. 0.0s\n"
     ]
    },
    {
     "name": "stdout",
     "output_type": "stream",
     "text": [
      "469/469 [==============================] - 2s 5ms/step - loss: 0.0944 - accuracy: 0.9720 - val_loss: 0.0847 - val_accuracy: 0.9752\n",
      "Epoch 3/5\n",
      "467/469 [============================>.] - ETA: 0s - loss: 0.0617 - accuracy: 0.9818"
     ]
    },
    {
     "name": "stderr",
     "output_type": "stream",
     "text": [
      "/Users/alejandromarinjimenez/anaconda3/lib/python3.11/site-packages/keras/src/engine/training.py:3103: UserWarning: You are saving your model as an HDF5 file via `model.save()`. This file format is considered legacy. We recommend using instead the native Keras format, e.g. `model.save('my_model.keras')`.\n",
      "  saving_api.save_model(\n"
     ]
    },
    {
     "name": "stdout",
     "output_type": "stream",
     "text": [
      "INFO:tensorflow:Assets written to: /Users/alejandromarinjimenez/Documents/Computer_Science/git/MNIST_Jan_2024/wandb/run-20240204_194858-re13letf/files/model-best/assets\n"
     ]
    },
    {
     "name": "stderr",
     "output_type": "stream",
     "text": [
      "INFO:tensorflow:Assets written to: /Users/alejandromarinjimenez/Documents/Computer_Science/git/MNIST_Jan_2024/wandb/run-20240204_194858-re13letf/files/model-best/assets\n",
      "\u001b[34m\u001b[1mwandb\u001b[0m: Adding directory to artifact (/Users/alejandromarinjimenez/Documents/Computer_Science/git/MNIST_Jan_2024/wandb/run-20240204_194858-re13letf/files/model-best)... Done. 0.0s\n"
     ]
    },
    {
     "name": "stdout",
     "output_type": "stream",
     "text": [
      "469/469 [==============================] - 2s 5ms/step - loss: 0.0616 - accuracy: 0.9819 - val_loss: 0.0719 - val_accuracy: 0.9765\n",
      "Epoch 4/5\n",
      "459/469 [============================>.] - ETA: 0s - loss: 0.0434 - accuracy: 0.9868"
     ]
    },
    {
     "name": "stderr",
     "output_type": "stream",
     "text": [
      "/Users/alejandromarinjimenez/anaconda3/lib/python3.11/site-packages/keras/src/engine/training.py:3103: UserWarning: You are saving your model as an HDF5 file via `model.save()`. This file format is considered legacy. We recommend using instead the native Keras format, e.g. `model.save('my_model.keras')`.\n",
      "  saving_api.save_model(\n"
     ]
    },
    {
     "name": "stdout",
     "output_type": "stream",
     "text": [
      "INFO:tensorflow:Assets written to: /Users/alejandromarinjimenez/Documents/Computer_Science/git/MNIST_Jan_2024/wandb/run-20240204_194858-re13letf/files/model-best/assets\n"
     ]
    },
    {
     "name": "stderr",
     "output_type": "stream",
     "text": [
      "INFO:tensorflow:Assets written to: /Users/alejandromarinjimenez/Documents/Computer_Science/git/MNIST_Jan_2024/wandb/run-20240204_194858-re13letf/files/model-best/assets\n",
      "\u001b[34m\u001b[1mwandb\u001b[0m: Adding directory to artifact (/Users/alejandromarinjimenez/Documents/Computer_Science/git/MNIST_Jan_2024/wandb/run-20240204_194858-re13letf/files/model-best)... Done. 0.0s\n"
     ]
    },
    {
     "name": "stdout",
     "output_type": "stream",
     "text": [
      "469/469 [==============================] - 2s 5ms/step - loss: 0.0439 - accuracy: 0.9867 - val_loss: 0.0653 - val_accuracy: 0.9793\n",
      "Epoch 5/5\n",
      "469/469 [==============================] - 2s 5ms/step - loss: 0.0325 - accuracy: 0.9901 - val_loss: 0.0664 - val_accuracy: 0.9803\n",
      "313/313 [==============================] - 0s 1ms/step - loss: 0.0664 - accuracy: 0.9803\n"
     ]
    },
    {
     "data": {
      "application/vnd.jupyter.widget-view+json": {
       "model_id": "",
       "version_major": 2,
       "version_minor": 0
      },
      "text/plain": [
       "VBox(children=(Label(value='23.781 MB of 23.781 MB uploaded (0.020 MB deduped)\\r'), FloatProgress(value=1.0, m…"
      ]
     },
     "metadata": {},
     "output_type": "display_data"
    },
    {
     "data": {
      "text/html": [
       "<style>\n",
       "    table.wandb td:nth-child(1) { padding: 0 10px; text-align: left ; width: auto;} td:nth-child(2) {text-align: left ; width: 100%}\n",
       "    .wandb-row { display: flex; flex-direction: row; flex-wrap: wrap; justify-content: flex-start; width: 100% }\n",
       "    .wandb-col { display: flex; flex-direction: column; flex-basis: 100%; flex: 1; padding: 10px; }\n",
       "    </style>\n",
       "<div class=\"wandb-row\"><div class=\"wandb-col\"><h3>Run history:</h3><br/><table class=\"wandb\"><tr><td>accuracy</td><td>▁▆▇██</td></tr><tr><td>epoch</td><td>▁▃▅▆█</td></tr><tr><td>loss</td><td>█▃▂▁▁</td></tr><tr><td>test_accuracy</td><td>▁</td></tr><tr><td>test_loss</td><td>▁</td></tr><tr><td>val_accuracy</td><td>▁▆▆██</td></tr><tr><td>val_loss</td><td>█▃▂▁▁</td></tr></table><br/></div><div class=\"wandb-col\"><h3>Run summary:</h3><br/><table class=\"wandb\"><tr><td>accuracy</td><td>0.99008</td></tr><tr><td>best_epoch</td><td>3</td></tr><tr><td>best_val_loss</td><td>0.06526</td></tr><tr><td>epoch</td><td>4</td></tr><tr><td>loss</td><td>0.03248</td></tr><tr><td>test_accuracy</td><td>0.9803</td></tr><tr><td>test_loss</td><td>0.06636</td></tr><tr><td>val_accuracy</td><td>0.9803</td></tr><tr><td>val_loss</td><td>0.06636</td></tr></table><br/></div></div>"
      ],
      "text/plain": [
       "<IPython.core.display.HTML object>"
      ]
     },
     "metadata": {},
     "output_type": "display_data"
    },
    {
     "data": {
      "text/html": [
       " View run <strong style=\"color:#cdcd00\">balmy-sweep-8</strong> at: <a href='http://localhost:8080/lejomarin/MNIST_experiments/runs/re13letf' target=\"_blank\">http://localhost:8080/lejomarin/MNIST_experiments/runs/re13letf</a><br/>Synced 7 W&B file(s), 1 media file(s), 20 artifact file(s) and 2 other file(s)"
      ],
      "text/plain": [
       "<IPython.core.display.HTML object>"
      ]
     },
     "metadata": {},
     "output_type": "display_data"
    },
    {
     "data": {
      "text/html": [
       "Find logs at: <code>./wandb/run-20240204_194858-re13letf/logs</code>"
      ],
      "text/plain": [
       "<IPython.core.display.HTML object>"
      ]
     },
     "metadata": {},
     "output_type": "display_data"
    },
    {
     "name": "stderr",
     "output_type": "stream",
     "text": [
      "\u001b[34m\u001b[1mwandb\u001b[0m: Agent Starting Run: qy9es6ji with config:\n",
      "\u001b[34m\u001b[1mwandb\u001b[0m: \tbatch_size: 128\n",
      "\u001b[34m\u001b[1mwandb\u001b[0m: \tepochs: 5\n",
      "\u001b[34m\u001b[1mwandb\u001b[0m: \tintermediate_dimension: 768\n",
      "\u001b[34m\u001b[1mwandb\u001b[0m: \tlearning_rate: 0.001\n",
      "\u001b[34m\u001b[1mwandb\u001b[0m: \tmomentum: 0\n"
     ]
    },
    {
     "data": {
      "text/html": [
       "Tracking run with wandb version 0.16.2"
      ],
      "text/plain": [
       "<IPython.core.display.HTML object>"
      ]
     },
     "metadata": {},
     "output_type": "display_data"
    },
    {
     "data": {
      "text/html": [
       "Run data is saved locally in <code>/Users/alejandromarinjimenez/Documents/Computer_Science/git/MNIST_Jan_2024/wandb/run-20240204_194927-qy9es6ji</code>"
      ],
      "text/plain": [
       "<IPython.core.display.HTML object>"
      ]
     },
     "metadata": {},
     "output_type": "display_data"
    },
    {
     "data": {
      "text/html": [
       "Syncing run <strong><a href='http://localhost:8080/lejomarin/MNIST_experiments/runs/qy9es6ji' target=\"_blank\">divine-sweep-9</a></strong> to <a href='http://localhost:8080/lejomarin/MNIST_experiments' target=\"_blank\">Weights & Biases</a> (<a href='https://wandb.me/run' target=\"_blank\">docs</a>)<br/>Sweep page: <a href='http://localhost:8080/lejomarin/MNIST_experiments/sweeps/yeagcad6' target=\"_blank\">http://localhost:8080/lejomarin/MNIST_experiments/sweeps/yeagcad6</a>"
      ],
      "text/plain": [
       "<IPython.core.display.HTML object>"
      ]
     },
     "metadata": {},
     "output_type": "display_data"
    },
    {
     "data": {
      "text/html": [
       " View project at <a href='http://localhost:8080/lejomarin/MNIST_experiments' target=\"_blank\">http://localhost:8080/lejomarin/MNIST_experiments</a>"
      ],
      "text/plain": [
       "<IPython.core.display.HTML object>"
      ]
     },
     "metadata": {},
     "output_type": "display_data"
    },
    {
     "data": {
      "text/html": [
       " View sweep at <a href='http://localhost:8080/lejomarin/MNIST_experiments/sweeps/yeagcad6' target=\"_blank\">http://localhost:8080/lejomarin/MNIST_experiments/sweeps/yeagcad6</a>"
      ],
      "text/plain": [
       "<IPython.core.display.HTML object>"
      ]
     },
     "metadata": {},
     "output_type": "display_data"
    },
    {
     "data": {
      "text/html": [
       " View run at <a href='http://localhost:8080/lejomarin/MNIST_experiments/runs/qy9es6ji' target=\"_blank\">http://localhost:8080/lejomarin/MNIST_experiments/runs/qy9es6ji</a>"
      ],
      "text/plain": [
       "<IPython.core.display.HTML object>"
      ]
     },
     "metadata": {},
     "output_type": "display_data"
    },
    {
     "name": "stderr",
     "output_type": "stream",
     "text": [
      "WARNING:absl:`lr` is deprecated in Keras optimizer, please use `learning_rate` or use the legacy optimizer, e.g.,tf.keras.optimizers.legacy.RMSprop.\n"
     ]
    },
    {
     "name": "stdout",
     "output_type": "stream",
     "text": [
      "Epoch 1/5\n",
      "466/469 [============================>.] - ETA: 0s - loss: 0.2521 - accuracy: 0.9258"
     ]
    },
    {
     "name": "stderr",
     "output_type": "stream",
     "text": [
      "/Users/alejandromarinjimenez/anaconda3/lib/python3.11/site-packages/keras/src/engine/training.py:3103: UserWarning: You are saving your model as an HDF5 file via `model.save()`. This file format is considered legacy. We recommend using instead the native Keras format, e.g. `model.save('my_model.keras')`.\n",
      "  saving_api.save_model(\n"
     ]
    },
    {
     "name": "stdout",
     "output_type": "stream",
     "text": [
      "INFO:tensorflow:Assets written to: /Users/alejandromarinjimenez/Documents/Computer_Science/git/MNIST_Jan_2024/wandb/run-20240204_194927-qy9es6ji/files/model-best/assets\n"
     ]
    },
    {
     "name": "stderr",
     "output_type": "stream",
     "text": [
      "INFO:tensorflow:Assets written to: /Users/alejandromarinjimenez/Documents/Computer_Science/git/MNIST_Jan_2024/wandb/run-20240204_194927-qy9es6ji/files/model-best/assets\n",
      "\u001b[34m\u001b[1mwandb\u001b[0m: Adding directory to artifact (/Users/alejandromarinjimenez/Documents/Computer_Science/git/MNIST_Jan_2024/wandb/run-20240204_194927-qy9es6ji/files/model-best)... Done. 0.0s\n"
     ]
    },
    {
     "name": "stdout",
     "output_type": "stream",
     "text": [
      "469/469 [==============================] - 3s 6ms/step - loss: 0.2512 - accuracy: 0.9261 - val_loss: 0.1140 - val_accuracy: 0.9656\n",
      "Epoch 2/5\n",
      "466/469 [============================>.] - ETA: 0s - loss: 0.0983 - accuracy: 0.9707"
     ]
    },
    {
     "name": "stderr",
     "output_type": "stream",
     "text": [
      "/Users/alejandromarinjimenez/anaconda3/lib/python3.11/site-packages/keras/src/engine/training.py:3103: UserWarning: You are saving your model as an HDF5 file via `model.save()`. This file format is considered legacy. We recommend using instead the native Keras format, e.g. `model.save('my_model.keras')`.\n",
      "  saving_api.save_model(\n"
     ]
    },
    {
     "name": "stdout",
     "output_type": "stream",
     "text": [
      "INFO:tensorflow:Assets written to: /Users/alejandromarinjimenez/Documents/Computer_Science/git/MNIST_Jan_2024/wandb/run-20240204_194927-qy9es6ji/files/model-best/assets\n"
     ]
    },
    {
     "name": "stderr",
     "output_type": "stream",
     "text": [
      "INFO:tensorflow:Assets written to: /Users/alejandromarinjimenez/Documents/Computer_Science/git/MNIST_Jan_2024/wandb/run-20240204_194927-qy9es6ji/files/model-best/assets\n",
      "\u001b[34m\u001b[1mwandb\u001b[0m: Adding directory to artifact (/Users/alejandromarinjimenez/Documents/Computer_Science/git/MNIST_Jan_2024/wandb/run-20240204_194927-qy9es6ji/files/model-best)... Done. 0.0s\n"
     ]
    },
    {
     "name": "stdout",
     "output_type": "stream",
     "text": [
      "469/469 [==============================] - 3s 6ms/step - loss: 0.0981 - accuracy: 0.9707 - val_loss: 0.0817 - val_accuracy: 0.9745\n",
      "Epoch 3/5\n",
      "460/469 [============================>.] - ETA: 0s - loss: 0.0638 - accuracy: 0.9811"
     ]
    },
    {
     "name": "stderr",
     "output_type": "stream",
     "text": [
      "/Users/alejandromarinjimenez/anaconda3/lib/python3.11/site-packages/keras/src/engine/training.py:3103: UserWarning: You are saving your model as an HDF5 file via `model.save()`. This file format is considered legacy. We recommend using instead the native Keras format, e.g. `model.save('my_model.keras')`.\n",
      "  saving_api.save_model(\n"
     ]
    },
    {
     "name": "stdout",
     "output_type": "stream",
     "text": [
      "INFO:tensorflow:Assets written to: /Users/alejandromarinjimenez/Documents/Computer_Science/git/MNIST_Jan_2024/wandb/run-20240204_194927-qy9es6ji/files/model-best/assets\n"
     ]
    },
    {
     "name": "stderr",
     "output_type": "stream",
     "text": [
      "INFO:tensorflow:Assets written to: /Users/alejandromarinjimenez/Documents/Computer_Science/git/MNIST_Jan_2024/wandb/run-20240204_194927-qy9es6ji/files/model-best/assets\n",
      "\u001b[34m\u001b[1mwandb\u001b[0m: Adding directory to artifact (/Users/alejandromarinjimenez/Documents/Computer_Science/git/MNIST_Jan_2024/wandb/run-20240204_194927-qy9es6ji/files/model-best)... Done. 0.0s\n"
     ]
    },
    {
     "name": "stdout",
     "output_type": "stream",
     "text": [
      "469/469 [==============================] - 2s 5ms/step - loss: 0.0636 - accuracy: 0.9811 - val_loss: 0.0701 - val_accuracy: 0.9782\n",
      "Epoch 4/5\n",
      "457/469 [============================>.] - ETA: 0s - loss: 0.0450 - accuracy: 0.9863"
     ]
    },
    {
     "name": "stderr",
     "output_type": "stream",
     "text": [
      "/Users/alejandromarinjimenez/anaconda3/lib/python3.11/site-packages/keras/src/engine/training.py:3103: UserWarning: You are saving your model as an HDF5 file via `model.save()`. This file format is considered legacy. We recommend using instead the native Keras format, e.g. `model.save('my_model.keras')`.\n",
      "  saving_api.save_model(\n"
     ]
    },
    {
     "name": "stdout",
     "output_type": "stream",
     "text": [
      "INFO:tensorflow:Assets written to: /Users/alejandromarinjimenez/Documents/Computer_Science/git/MNIST_Jan_2024/wandb/run-20240204_194927-qy9es6ji/files/model-best/assets\n"
     ]
    },
    {
     "name": "stderr",
     "output_type": "stream",
     "text": [
      "INFO:tensorflow:Assets written to: /Users/alejandromarinjimenez/Documents/Computer_Science/git/MNIST_Jan_2024/wandb/run-20240204_194927-qy9es6ji/files/model-best/assets\n",
      "\u001b[34m\u001b[1mwandb\u001b[0m: Adding directory to artifact (/Users/alejandromarinjimenez/Documents/Computer_Science/git/MNIST_Jan_2024/wandb/run-20240204_194927-qy9es6ji/files/model-best)... Done. 0.1s\n"
     ]
    },
    {
     "name": "stdout",
     "output_type": "stream",
     "text": [
      "469/469 [==============================] - 3s 6ms/step - loss: 0.0448 - accuracy: 0.9864 - val_loss: 0.0658 - val_accuracy: 0.9787\n",
      "Epoch 5/5\n",
      "469/469 [==============================] - 2s 5ms/step - loss: 0.0328 - accuracy: 0.9899 - val_loss: 0.0702 - val_accuracy: 0.9782\n",
      "313/313 [==============================] - 0s 1ms/step - loss: 0.0702 - accuracy: 0.9782\n"
     ]
    },
    {
     "data": {
      "application/vnd.jupyter.widget-view+json": {
       "model_id": "",
       "version_major": 2,
       "version_minor": 0
      },
      "text/plain": [
       "VBox(children=(Label(value='23.741 MB of 23.770 MB uploaded (0.020 MB deduped)\\r'), FloatProgress(value=0.9987…"
      ]
     },
     "metadata": {},
     "output_type": "display_data"
    },
    {
     "data": {
      "text/html": [
       "<style>\n",
       "    table.wandb td:nth-child(1) { padding: 0 10px; text-align: left ; width: auto;} td:nth-child(2) {text-align: left ; width: 100%}\n",
       "    .wandb-row { display: flex; flex-direction: row; flex-wrap: wrap; justify-content: flex-start; width: 100% }\n",
       "    .wandb-col { display: flex; flex-direction: column; flex-basis: 100%; flex: 1; padding: 10px; }\n",
       "    </style>\n",
       "<div class=\"wandb-row\"><div class=\"wandb-col\"><h3>Run history:</h3><br/><table class=\"wandb\"><tr><td>accuracy</td><td>▁▆▇██</td></tr><tr><td>epoch</td><td>▁▃▅▆█</td></tr><tr><td>loss</td><td>█▃▂▁▁</td></tr><tr><td>test_accuracy</td><td>▁</td></tr><tr><td>test_loss</td><td>▁</td></tr><tr><td>val_accuracy</td><td>▁▆███</td></tr><tr><td>val_loss</td><td>█▃▂▁▂</td></tr></table><br/></div><div class=\"wandb-col\"><h3>Run summary:</h3><br/><table class=\"wandb\"><tr><td>accuracy</td><td>0.98992</td></tr><tr><td>best_epoch</td><td>3</td></tr><tr><td>best_val_loss</td><td>0.06584</td></tr><tr><td>epoch</td><td>4</td></tr><tr><td>loss</td><td>0.03281</td></tr><tr><td>test_accuracy</td><td>0.9782</td></tr><tr><td>test_loss</td><td>0.07025</td></tr><tr><td>val_accuracy</td><td>0.9782</td></tr><tr><td>val_loss</td><td>0.07025</td></tr></table><br/></div></div>"
      ],
      "text/plain": [
       "<IPython.core.display.HTML object>"
      ]
     },
     "metadata": {},
     "output_type": "display_data"
    },
    {
     "data": {
      "text/html": [
       " View run <strong style=\"color:#cdcd00\">divine-sweep-9</strong> at: <a href='http://localhost:8080/lejomarin/MNIST_experiments/runs/qy9es6ji' target=\"_blank\">http://localhost:8080/lejomarin/MNIST_experiments/runs/qy9es6ji</a><br/>Synced 7 W&B file(s), 1 media file(s), 20 artifact file(s) and 2 other file(s)"
      ],
      "text/plain": [
       "<IPython.core.display.HTML object>"
      ]
     },
     "metadata": {},
     "output_type": "display_data"
    },
    {
     "data": {
      "text/html": [
       "Find logs at: <code>./wandb/run-20240204_194927-qy9es6ji/logs</code>"
      ],
      "text/plain": [
       "<IPython.core.display.HTML object>"
      ]
     },
     "metadata": {},
     "output_type": "display_data"
    },
    {
     "name": "stderr",
     "output_type": "stream",
     "text": [
      "\u001b[34m\u001b[1mwandb\u001b[0m: Agent Starting Run: lm2tmx1s with config:\n",
      "\u001b[34m\u001b[1mwandb\u001b[0m: \tbatch_size: 128\n",
      "\u001b[34m\u001b[1mwandb\u001b[0m: \tepochs: 5\n",
      "\u001b[34m\u001b[1mwandb\u001b[0m: \tintermediate_dimension: 768\n",
      "\u001b[34m\u001b[1mwandb\u001b[0m: \tlearning_rate: 0.001\n",
      "\u001b[34m\u001b[1mwandb\u001b[0m: \tmomentum: 0.25\n"
     ]
    },
    {
     "data": {
      "text/html": [
       "Tracking run with wandb version 0.16.2"
      ],
      "text/plain": [
       "<IPython.core.display.HTML object>"
      ]
     },
     "metadata": {},
     "output_type": "display_data"
    },
    {
     "data": {
      "text/html": [
       "Run data is saved locally in <code>/Users/alejandromarinjimenez/Documents/Computer_Science/git/MNIST_Jan_2024/wandb/run-20240204_194958-lm2tmx1s</code>"
      ],
      "text/plain": [
       "<IPython.core.display.HTML object>"
      ]
     },
     "metadata": {},
     "output_type": "display_data"
    },
    {
     "data": {
      "text/html": [
       "Syncing run <strong><a href='http://localhost:8080/lejomarin/MNIST_experiments/runs/lm2tmx1s' target=\"_blank\">dutiful-sweep-10</a></strong> to <a href='http://localhost:8080/lejomarin/MNIST_experiments' target=\"_blank\">Weights & Biases</a> (<a href='https://wandb.me/run' target=\"_blank\">docs</a>)<br/>Sweep page: <a href='http://localhost:8080/lejomarin/MNIST_experiments/sweeps/yeagcad6' target=\"_blank\">http://localhost:8080/lejomarin/MNIST_experiments/sweeps/yeagcad6</a>"
      ],
      "text/plain": [
       "<IPython.core.display.HTML object>"
      ]
     },
     "metadata": {},
     "output_type": "display_data"
    },
    {
     "data": {
      "text/html": [
       " View project at <a href='http://localhost:8080/lejomarin/MNIST_experiments' target=\"_blank\">http://localhost:8080/lejomarin/MNIST_experiments</a>"
      ],
      "text/plain": [
       "<IPython.core.display.HTML object>"
      ]
     },
     "metadata": {},
     "output_type": "display_data"
    },
    {
     "data": {
      "text/html": [
       " View sweep at <a href='http://localhost:8080/lejomarin/MNIST_experiments/sweeps/yeagcad6' target=\"_blank\">http://localhost:8080/lejomarin/MNIST_experiments/sweeps/yeagcad6</a>"
      ],
      "text/plain": [
       "<IPython.core.display.HTML object>"
      ]
     },
     "metadata": {},
     "output_type": "display_data"
    },
    {
     "data": {
      "text/html": [
       " View run at <a href='http://localhost:8080/lejomarin/MNIST_experiments/runs/lm2tmx1s' target=\"_blank\">http://localhost:8080/lejomarin/MNIST_experiments/runs/lm2tmx1s</a>"
      ],
      "text/plain": [
       "<IPython.core.display.HTML object>"
      ]
     },
     "metadata": {},
     "output_type": "display_data"
    },
    {
     "name": "stderr",
     "output_type": "stream",
     "text": [
      "WARNING:absl:`lr` is deprecated in Keras optimizer, please use `learning_rate` or use the legacy optimizer, e.g.,tf.keras.optimizers.legacy.RMSprop.\n"
     ]
    },
    {
     "name": "stdout",
     "output_type": "stream",
     "text": [
      "Epoch 1/5\n",
      "466/469 [============================>.] - ETA: 0s - loss: 0.2240 - accuracy: 0.9341"
     ]
    },
    {
     "name": "stderr",
     "output_type": "stream",
     "text": [
      "/Users/alejandromarinjimenez/anaconda3/lib/python3.11/site-packages/keras/src/engine/training.py:3103: UserWarning: You are saving your model as an HDF5 file via `model.save()`. This file format is considered legacy. We recommend using instead the native Keras format, e.g. `model.save('my_model.keras')`.\n",
      "  saving_api.save_model(\n"
     ]
    },
    {
     "name": "stdout",
     "output_type": "stream",
     "text": [
      "INFO:tensorflow:Assets written to: /Users/alejandromarinjimenez/Documents/Computer_Science/git/MNIST_Jan_2024/wandb/run-20240204_194958-lm2tmx1s/files/model-best/assets\n"
     ]
    },
    {
     "name": "stderr",
     "output_type": "stream",
     "text": [
      "INFO:tensorflow:Assets written to: /Users/alejandromarinjimenez/Documents/Computer_Science/git/MNIST_Jan_2024/wandb/run-20240204_194958-lm2tmx1s/files/model-best/assets\n",
      "\u001b[34m\u001b[1mwandb\u001b[0m: Adding directory to artifact (/Users/alejandromarinjimenez/Documents/Computer_Science/git/MNIST_Jan_2024/wandb/run-20240204_194958-lm2tmx1s/files/model-best)... Done. 0.0s\n"
     ]
    },
    {
     "name": "stdout",
     "output_type": "stream",
     "text": [
      "469/469 [==============================] - 4s 7ms/step - loss: 0.2237 - accuracy: 0.9343 - val_loss: 0.1111 - val_accuracy: 0.9674\n",
      "Epoch 2/5\n",
      "467/469 [============================>.] - ETA: 0s - loss: 0.0859 - accuracy: 0.9739"
     ]
    },
    {
     "name": "stderr",
     "output_type": "stream",
     "text": [
      "/Users/alejandromarinjimenez/anaconda3/lib/python3.11/site-packages/keras/src/engine/training.py:3103: UserWarning: You are saving your model as an HDF5 file via `model.save()`. This file format is considered legacy. We recommend using instead the native Keras format, e.g. `model.save('my_model.keras')`.\n",
      "  saving_api.save_model(\n"
     ]
    },
    {
     "name": "stdout",
     "output_type": "stream",
     "text": [
      "INFO:tensorflow:Assets written to: /Users/alejandromarinjimenez/Documents/Computer_Science/git/MNIST_Jan_2024/wandb/run-20240204_194958-lm2tmx1s/files/model-best/assets\n"
     ]
    },
    {
     "name": "stderr",
     "output_type": "stream",
     "text": [
      "INFO:tensorflow:Assets written to: /Users/alejandromarinjimenez/Documents/Computer_Science/git/MNIST_Jan_2024/wandb/run-20240204_194958-lm2tmx1s/files/model-best/assets\n",
      "\u001b[34m\u001b[1mwandb\u001b[0m: Adding directory to artifact (/Users/alejandromarinjimenez/Documents/Computer_Science/git/MNIST_Jan_2024/wandb/run-20240204_194958-lm2tmx1s/files/model-best)... Done. 0.0s\n"
     ]
    },
    {
     "name": "stdout",
     "output_type": "stream",
     "text": [
      "469/469 [==============================] - 3s 6ms/step - loss: 0.0858 - accuracy: 0.9740 - val_loss: 0.0753 - val_accuracy: 0.9770\n",
      "Epoch 3/5\n",
      "459/469 [============================>.] - ETA: 0s - loss: 0.0557 - accuracy: 0.9828"
     ]
    },
    {
     "name": "stderr",
     "output_type": "stream",
     "text": [
      "/Users/alejandromarinjimenez/anaconda3/lib/python3.11/site-packages/keras/src/engine/training.py:3103: UserWarning: You are saving your model as an HDF5 file via `model.save()`. This file format is considered legacy. We recommend using instead the native Keras format, e.g. `model.save('my_model.keras')`.\n",
      "  saving_api.save_model(\n"
     ]
    },
    {
     "name": "stdout",
     "output_type": "stream",
     "text": [
      "INFO:tensorflow:Assets written to: /Users/alejandromarinjimenez/Documents/Computer_Science/git/MNIST_Jan_2024/wandb/run-20240204_194958-lm2tmx1s/files/model-best/assets\n"
     ]
    },
    {
     "name": "stderr",
     "output_type": "stream",
     "text": [
      "INFO:tensorflow:Assets written to: /Users/alejandromarinjimenez/Documents/Computer_Science/git/MNIST_Jan_2024/wandb/run-20240204_194958-lm2tmx1s/files/model-best/assets\n",
      "\u001b[34m\u001b[1mwandb\u001b[0m: Adding directory to artifact (/Users/alejandromarinjimenez/Documents/Computer_Science/git/MNIST_Jan_2024/wandb/run-20240204_194958-lm2tmx1s/files/model-best)... Done. 0.1s\n"
     ]
    },
    {
     "name": "stdout",
     "output_type": "stream",
     "text": [
      "469/469 [==============================] - 3s 6ms/step - loss: 0.0561 - accuracy: 0.9826 - val_loss: 0.0704 - val_accuracy: 0.9789\n",
      "Epoch 4/5\n",
      "466/469 [============================>.] - ETA: 0s - loss: 0.0394 - accuracy: 0.9882"
     ]
    },
    {
     "name": "stderr",
     "output_type": "stream",
     "text": [
      "/Users/alejandromarinjimenez/anaconda3/lib/python3.11/site-packages/keras/src/engine/training.py:3103: UserWarning: You are saving your model as an HDF5 file via `model.save()`. This file format is considered legacy. We recommend using instead the native Keras format, e.g. `model.save('my_model.keras')`.\n",
      "  saving_api.save_model(\n"
     ]
    },
    {
     "name": "stdout",
     "output_type": "stream",
     "text": [
      "INFO:tensorflow:Assets written to: /Users/alejandromarinjimenez/Documents/Computer_Science/git/MNIST_Jan_2024/wandb/run-20240204_194958-lm2tmx1s/files/model-best/assets\n"
     ]
    },
    {
     "name": "stderr",
     "output_type": "stream",
     "text": [
      "INFO:tensorflow:Assets written to: /Users/alejandromarinjimenez/Documents/Computer_Science/git/MNIST_Jan_2024/wandb/run-20240204_194958-lm2tmx1s/files/model-best/assets\n",
      "\u001b[34m\u001b[1mwandb\u001b[0m: Adding directory to artifact (/Users/alejandromarinjimenez/Documents/Computer_Science/git/MNIST_Jan_2024/wandb/run-20240204_194958-lm2tmx1s/files/model-best)... Done. 0.0s\n"
     ]
    },
    {
     "name": "stdout",
     "output_type": "stream",
     "text": [
      "469/469 [==============================] - 3s 6ms/step - loss: 0.0395 - accuracy: 0.9881 - val_loss: 0.0675 - val_accuracy: 0.9805\n",
      "Epoch 5/5\n",
      "469/469 [==============================] - 3s 5ms/step - loss: 0.0281 - accuracy: 0.9913 - val_loss: 0.0792 - val_accuracy: 0.9779\n",
      "313/313 [==============================] - 0s 1ms/step - loss: 0.0792 - accuracy: 0.9779\n"
     ]
    },
    {
     "data": {
      "application/vnd.jupyter.widget-view+json": {
       "model_id": "",
       "version_major": 2,
       "version_minor": 0
      },
      "text/plain": [
       "VBox(children=(Label(value='35.462 MB of 35.462 MB uploaded (0.020 MB deduped)\\r'), FloatProgress(value=1.0, m…"
      ]
     },
     "metadata": {},
     "output_type": "display_data"
    },
    {
     "data": {
      "text/html": [
       "<style>\n",
       "    table.wandb td:nth-child(1) { padding: 0 10px; text-align: left ; width: auto;} td:nth-child(2) {text-align: left ; width: 100%}\n",
       "    .wandb-row { display: flex; flex-direction: row; flex-wrap: wrap; justify-content: flex-start; width: 100% }\n",
       "    .wandb-col { display: flex; flex-direction: column; flex-basis: 100%; flex: 1; padding: 10px; }\n",
       "    </style>\n",
       "<div class=\"wandb-row\"><div class=\"wandb-col\"><h3>Run history:</h3><br/><table class=\"wandb\"><tr><td>accuracy</td><td>▁▆▇██</td></tr><tr><td>epoch</td><td>▁▃▅▆█</td></tr><tr><td>loss</td><td>█▃▂▁▁</td></tr><tr><td>test_accuracy</td><td>▁</td></tr><tr><td>test_loss</td><td>▁</td></tr><tr><td>val_accuracy</td><td>▁▆▇█▇</td></tr><tr><td>val_loss</td><td>█▂▁▁▃</td></tr></table><br/></div><div class=\"wandb-col\"><h3>Run summary:</h3><br/><table class=\"wandb\"><tr><td>accuracy</td><td>0.99127</td></tr><tr><td>best_epoch</td><td>3</td></tr><tr><td>best_val_loss</td><td>0.06749</td></tr><tr><td>epoch</td><td>4</td></tr><tr><td>loss</td><td>0.02811</td></tr><tr><td>test_accuracy</td><td>0.9779</td></tr><tr><td>test_loss</td><td>0.07916</td></tr><tr><td>val_accuracy</td><td>0.9779</td></tr><tr><td>val_loss</td><td>0.07916</td></tr></table><br/></div></div>"
      ],
      "text/plain": [
       "<IPython.core.display.HTML object>"
      ]
     },
     "metadata": {},
     "output_type": "display_data"
    },
    {
     "data": {
      "text/html": [
       " View run <strong style=\"color:#cdcd00\">dutiful-sweep-10</strong> at: <a href='http://localhost:8080/lejomarin/MNIST_experiments/runs/lm2tmx1s' target=\"_blank\">http://localhost:8080/lejomarin/MNIST_experiments/runs/lm2tmx1s</a><br/>Synced 7 W&B file(s), 1 media file(s), 20 artifact file(s) and 2 other file(s)"
      ],
      "text/plain": [
       "<IPython.core.display.HTML object>"
      ]
     },
     "metadata": {},
     "output_type": "display_data"
    },
    {
     "data": {
      "text/html": [
       "Find logs at: <code>./wandb/run-20240204_194958-lm2tmx1s/logs</code>"
      ],
      "text/plain": [
       "<IPython.core.display.HTML object>"
      ]
     },
     "metadata": {},
     "output_type": "display_data"
    },
    {
     "name": "stderr",
     "output_type": "stream",
     "text": [
      "\u001b[34m\u001b[1mwandb\u001b[0m: Agent Starting Run: 7mjjqwym with config:\n",
      "\u001b[34m\u001b[1mwandb\u001b[0m: \tbatch_size: 128\n",
      "\u001b[34m\u001b[1mwandb\u001b[0m: \tepochs: 5\n",
      "\u001b[34m\u001b[1mwandb\u001b[0m: \tintermediate_dimension: 768\n",
      "\u001b[34m\u001b[1mwandb\u001b[0m: \tlearning_rate: 0.005\n",
      "\u001b[34m\u001b[1mwandb\u001b[0m: \tmomentum: 0\n"
     ]
    },
    {
     "data": {
      "text/html": [
       "Tracking run with wandb version 0.16.2"
      ],
      "text/plain": [
       "<IPython.core.display.HTML object>"
      ]
     },
     "metadata": {},
     "output_type": "display_data"
    },
    {
     "data": {
      "text/html": [
       "Run data is saved locally in <code>/Users/alejandromarinjimenez/Documents/Computer_Science/git/MNIST_Jan_2024/wandb/run-20240204_195028-7mjjqwym</code>"
      ],
      "text/plain": [
       "<IPython.core.display.HTML object>"
      ]
     },
     "metadata": {},
     "output_type": "display_data"
    },
    {
     "data": {
      "text/html": [
       "Syncing run <strong><a href='http://localhost:8080/lejomarin/MNIST_experiments/runs/7mjjqwym' target=\"_blank\">valiant-sweep-11</a></strong> to <a href='http://localhost:8080/lejomarin/MNIST_experiments' target=\"_blank\">Weights & Biases</a> (<a href='https://wandb.me/run' target=\"_blank\">docs</a>)<br/>Sweep page: <a href='http://localhost:8080/lejomarin/MNIST_experiments/sweeps/yeagcad6' target=\"_blank\">http://localhost:8080/lejomarin/MNIST_experiments/sweeps/yeagcad6</a>"
      ],
      "text/plain": [
       "<IPython.core.display.HTML object>"
      ]
     },
     "metadata": {},
     "output_type": "display_data"
    },
    {
     "data": {
      "text/html": [
       " View project at <a href='http://localhost:8080/lejomarin/MNIST_experiments' target=\"_blank\">http://localhost:8080/lejomarin/MNIST_experiments</a>"
      ],
      "text/plain": [
       "<IPython.core.display.HTML object>"
      ]
     },
     "metadata": {},
     "output_type": "display_data"
    },
    {
     "data": {
      "text/html": [
       " View sweep at <a href='http://localhost:8080/lejomarin/MNIST_experiments/sweeps/yeagcad6' target=\"_blank\">http://localhost:8080/lejomarin/MNIST_experiments/sweeps/yeagcad6</a>"
      ],
      "text/plain": [
       "<IPython.core.display.HTML object>"
      ]
     },
     "metadata": {},
     "output_type": "display_data"
    },
    {
     "data": {
      "text/html": [
       " View run at <a href='http://localhost:8080/lejomarin/MNIST_experiments/runs/7mjjqwym' target=\"_blank\">http://localhost:8080/lejomarin/MNIST_experiments/runs/7mjjqwym</a>"
      ],
      "text/plain": [
       "<IPython.core.display.HTML object>"
      ]
     },
     "metadata": {},
     "output_type": "display_data"
    },
    {
     "name": "stderr",
     "output_type": "stream",
     "text": [
      "WARNING:absl:`lr` is deprecated in Keras optimizer, please use `learning_rate` or use the legacy optimizer, e.g.,tf.keras.optimizers.legacy.RMSprop.\n"
     ]
    },
    {
     "name": "stdout",
     "output_type": "stream",
     "text": [
      "Epoch 1/5\n",
      "463/469 [============================>.] - ETA: 0s - loss: 0.2527 - accuracy: 0.9261"
     ]
    },
    {
     "name": "stderr",
     "output_type": "stream",
     "text": [
      "/Users/alejandromarinjimenez/anaconda3/lib/python3.11/site-packages/keras/src/engine/training.py:3103: UserWarning: You are saving your model as an HDF5 file via `model.save()`. This file format is considered legacy. We recommend using instead the native Keras format, e.g. `model.save('my_model.keras')`.\n",
      "  saving_api.save_model(\n"
     ]
    },
    {
     "name": "stdout",
     "output_type": "stream",
     "text": [
      "INFO:tensorflow:Assets written to: /Users/alejandromarinjimenez/Documents/Computer_Science/git/MNIST_Jan_2024/wandb/run-20240204_195028-7mjjqwym/files/model-best/assets\n"
     ]
    },
    {
     "name": "stderr",
     "output_type": "stream",
     "text": [
      "INFO:tensorflow:Assets written to: /Users/alejandromarinjimenez/Documents/Computer_Science/git/MNIST_Jan_2024/wandb/run-20240204_195028-7mjjqwym/files/model-best/assets\n",
      "\u001b[34m\u001b[1mwandb\u001b[0m: Adding directory to artifact (/Users/alejandromarinjimenez/Documents/Computer_Science/git/MNIST_Jan_2024/wandb/run-20240204_195028-7mjjqwym/files/model-best)... Done. 0.0s\n"
     ]
    },
    {
     "name": "stdout",
     "output_type": "stream",
     "text": [
      "469/469 [==============================] - 3s 6ms/step - loss: 0.2513 - accuracy: 0.9264 - val_loss: 0.1430 - val_accuracy: 0.9566\n",
      "Epoch 2/5\n",
      "469/469 [==============================] - ETA: 0s - loss: 0.0982 - accuracy: 0.9705"
     ]
    },
    {
     "name": "stderr",
     "output_type": "stream",
     "text": [
      "/Users/alejandromarinjimenez/anaconda3/lib/python3.11/site-packages/keras/src/engine/training.py:3103: UserWarning: You are saving your model as an HDF5 file via `model.save()`. This file format is considered legacy. We recommend using instead the native Keras format, e.g. `model.save('my_model.keras')`.\n",
      "  saving_api.save_model(\n"
     ]
    },
    {
     "name": "stdout",
     "output_type": "stream",
     "text": [
      "INFO:tensorflow:Assets written to: /Users/alejandromarinjimenez/Documents/Computer_Science/git/MNIST_Jan_2024/wandb/run-20240204_195028-7mjjqwym/files/model-best/assets\n"
     ]
    },
    {
     "name": "stderr",
     "output_type": "stream",
     "text": [
      "INFO:tensorflow:Assets written to: /Users/alejandromarinjimenez/Documents/Computer_Science/git/MNIST_Jan_2024/wandb/run-20240204_195028-7mjjqwym/files/model-best/assets\n",
      "\u001b[34m\u001b[1mwandb\u001b[0m: Adding directory to artifact (/Users/alejandromarinjimenez/Documents/Computer_Science/git/MNIST_Jan_2024/wandb/run-20240204_195028-7mjjqwym/files/model-best)... Done. 0.0s\n"
     ]
    },
    {
     "name": "stdout",
     "output_type": "stream",
     "text": [
      "469/469 [==============================] - 3s 7ms/step - loss: 0.0982 - accuracy: 0.9705 - val_loss: 0.0880 - val_accuracy: 0.9726\n",
      "Epoch 3/5\n",
      "463/469 [============================>.] - ETA: 0s - loss: 0.0636 - accuracy: 0.9809"
     ]
    },
    {
     "name": "stderr",
     "output_type": "stream",
     "text": [
      "/Users/alejandromarinjimenez/anaconda3/lib/python3.11/site-packages/keras/src/engine/training.py:3103: UserWarning: You are saving your model as an HDF5 file via `model.save()`. This file format is considered legacy. We recommend using instead the native Keras format, e.g. `model.save('my_model.keras')`.\n",
      "  saving_api.save_model(\n"
     ]
    },
    {
     "name": "stdout",
     "output_type": "stream",
     "text": [
      "INFO:tensorflow:Assets written to: /Users/alejandromarinjimenez/Documents/Computer_Science/git/MNIST_Jan_2024/wandb/run-20240204_195028-7mjjqwym/files/model-best/assets\n"
     ]
    },
    {
     "name": "stderr",
     "output_type": "stream",
     "text": [
      "INFO:tensorflow:Assets written to: /Users/alejandromarinjimenez/Documents/Computer_Science/git/MNIST_Jan_2024/wandb/run-20240204_195028-7mjjqwym/files/model-best/assets\n",
      "\u001b[34m\u001b[1mwandb\u001b[0m: Adding directory to artifact (/Users/alejandromarinjimenez/Documents/Computer_Science/git/MNIST_Jan_2024/wandb/run-20240204_195028-7mjjqwym/files/model-best)... Done. 0.1s\n"
     ]
    },
    {
     "name": "stdout",
     "output_type": "stream",
     "text": [
      "469/469 [==============================] - 3s 7ms/step - loss: 0.0635 - accuracy: 0.9809 - val_loss: 0.0725 - val_accuracy: 0.9764\n",
      "Epoch 4/5\n",
      "466/469 [============================>.] - ETA: 0s - loss: 0.0442 - accuracy: 0.9865"
     ]
    },
    {
     "name": "stderr",
     "output_type": "stream",
     "text": [
      "/Users/alejandromarinjimenez/anaconda3/lib/python3.11/site-packages/keras/src/engine/training.py:3103: UserWarning: You are saving your model as an HDF5 file via `model.save()`. This file format is considered legacy. We recommend using instead the native Keras format, e.g. `model.save('my_model.keras')`.\n",
      "  saving_api.save_model(\n"
     ]
    },
    {
     "name": "stdout",
     "output_type": "stream",
     "text": [
      "INFO:tensorflow:Assets written to: /Users/alejandromarinjimenez/Documents/Computer_Science/git/MNIST_Jan_2024/wandb/run-20240204_195028-7mjjqwym/files/model-best/assets\n"
     ]
    },
    {
     "name": "stderr",
     "output_type": "stream",
     "text": [
      "INFO:tensorflow:Assets written to: /Users/alejandromarinjimenez/Documents/Computer_Science/git/MNIST_Jan_2024/wandb/run-20240204_195028-7mjjqwym/files/model-best/assets\n",
      "\u001b[34m\u001b[1mwandb\u001b[0m: Adding directory to artifact (/Users/alejandromarinjimenez/Documents/Computer_Science/git/MNIST_Jan_2024/wandb/run-20240204_195028-7mjjqwym/files/model-best)... Done. 0.0s\n"
     ]
    },
    {
     "name": "stdout",
     "output_type": "stream",
     "text": [
      "469/469 [==============================] - 5s 10ms/step - loss: 0.0442 - accuracy: 0.9865 - val_loss: 0.0683 - val_accuracy: 0.9792\n",
      "Epoch 5/5\n",
      "460/469 [============================>.] - ETA: 0s - loss: 0.0322 - accuracy: 0.9903"
     ]
    },
    {
     "name": "stderr",
     "output_type": "stream",
     "text": [
      "/Users/alejandromarinjimenez/anaconda3/lib/python3.11/site-packages/keras/src/engine/training.py:3103: UserWarning: You are saving your model as an HDF5 file via `model.save()`. This file format is considered legacy. We recommend using instead the native Keras format, e.g. `model.save('my_model.keras')`.\n",
      "  saving_api.save_model(\n"
     ]
    },
    {
     "name": "stdout",
     "output_type": "stream",
     "text": [
      "INFO:tensorflow:Assets written to: /Users/alejandromarinjimenez/Documents/Computer_Science/git/MNIST_Jan_2024/wandb/run-20240204_195028-7mjjqwym/files/model-best/assets\n"
     ]
    },
    {
     "name": "stderr",
     "output_type": "stream",
     "text": [
      "INFO:tensorflow:Assets written to: /Users/alejandromarinjimenez/Documents/Computer_Science/git/MNIST_Jan_2024/wandb/run-20240204_195028-7mjjqwym/files/model-best/assets\n",
      "\u001b[34m\u001b[1mwandb\u001b[0m: Adding directory to artifact (/Users/alejandromarinjimenez/Documents/Computer_Science/git/MNIST_Jan_2024/wandb/run-20240204_195028-7mjjqwym/files/model-best)... Done. 0.0s\n"
     ]
    },
    {
     "name": "stdout",
     "output_type": "stream",
     "text": [
      "469/469 [==============================] - 3s 6ms/step - loss: 0.0322 - accuracy: 0.9903 - val_loss: 0.0612 - val_accuracy: 0.9818\n",
      "313/313 [==============================] - 1s 2ms/step - loss: 0.0612 - accuracy: 0.9818\n"
     ]
    },
    {
     "data": {
      "application/vnd.jupyter.widget-view+json": {
       "model_id": "",
       "version_major": 2,
       "version_minor": 0
      },
      "text/plain": [
       "VBox(children=(Label(value='23.843 MB of 23.843 MB uploaded (0.026 MB deduped)\\r'), FloatProgress(value=1.0, m…"
      ]
     },
     "metadata": {},
     "output_type": "display_data"
    },
    {
     "data": {
      "text/html": [
       "<style>\n",
       "    table.wandb td:nth-child(1) { padding: 0 10px; text-align: left ; width: auto;} td:nth-child(2) {text-align: left ; width: 100%}\n",
       "    .wandb-row { display: flex; flex-direction: row; flex-wrap: wrap; justify-content: flex-start; width: 100% }\n",
       "    .wandb-col { display: flex; flex-direction: column; flex-basis: 100%; flex: 1; padding: 10px; }\n",
       "    </style>\n",
       "<div class=\"wandb-row\"><div class=\"wandb-col\"><h3>Run history:</h3><br/><table class=\"wandb\"><tr><td>accuracy</td><td>▁▆▇██</td></tr><tr><td>epoch</td><td>▁▃▅▆█</td></tr><tr><td>loss</td><td>█▃▂▁▁</td></tr><tr><td>test_accuracy</td><td>▁</td></tr><tr><td>test_loss</td><td>▁</td></tr><tr><td>val_accuracy</td><td>▁▅▇▇█</td></tr><tr><td>val_loss</td><td>█▃▂▂▁</td></tr></table><br/></div><div class=\"wandb-col\"><h3>Run summary:</h3><br/><table class=\"wandb\"><tr><td>accuracy</td><td>0.9903</td></tr><tr><td>best_epoch</td><td>4</td></tr><tr><td>best_val_loss</td><td>0.06118</td></tr><tr><td>epoch</td><td>4</td></tr><tr><td>loss</td><td>0.03218</td></tr><tr><td>test_accuracy</td><td>0.9818</td></tr><tr><td>test_loss</td><td>0.06118</td></tr><tr><td>val_accuracy</td><td>0.9818</td></tr><tr><td>val_loss</td><td>0.06118</td></tr></table><br/></div></div>"
      ],
      "text/plain": [
       "<IPython.core.display.HTML object>"
      ]
     },
     "metadata": {},
     "output_type": "display_data"
    },
    {
     "data": {
      "text/html": [
       " View run <strong style=\"color:#cdcd00\">valiant-sweep-11</strong> at: <a href='http://localhost:8080/lejomarin/MNIST_experiments/runs/7mjjqwym' target=\"_blank\">http://localhost:8080/lejomarin/MNIST_experiments/runs/7mjjqwym</a><br/>Synced 7 W&B file(s), 1 media file(s), 25 artifact file(s) and 2 other file(s)"
      ],
      "text/plain": [
       "<IPython.core.display.HTML object>"
      ]
     },
     "metadata": {},
     "output_type": "display_data"
    },
    {
     "data": {
      "text/html": [
       "Find logs at: <code>./wandb/run-20240204_195028-7mjjqwym/logs</code>"
      ],
      "text/plain": [
       "<IPython.core.display.HTML object>"
      ]
     },
     "metadata": {},
     "output_type": "display_data"
    },
    {
     "name": "stderr",
     "output_type": "stream",
     "text": [
      "\u001b[34m\u001b[1mwandb\u001b[0m: Agent Starting Run: 4yzp94f7 with config:\n",
      "\u001b[34m\u001b[1mwandb\u001b[0m: \tbatch_size: 128\n",
      "\u001b[34m\u001b[1mwandb\u001b[0m: \tepochs: 5\n",
      "\u001b[34m\u001b[1mwandb\u001b[0m: \tintermediate_dimension: 768\n",
      "\u001b[34m\u001b[1mwandb\u001b[0m: \tlearning_rate: 0.005\n",
      "\u001b[34m\u001b[1mwandb\u001b[0m: \tmomentum: 0.25\n"
     ]
    },
    {
     "data": {
      "text/html": [
       "Tracking run with wandb version 0.16.2"
      ],
      "text/plain": [
       "<IPython.core.display.HTML object>"
      ]
     },
     "metadata": {},
     "output_type": "display_data"
    },
    {
     "data": {
      "text/html": [
       "Run data is saved locally in <code>/Users/alejandromarinjimenez/Documents/Computer_Science/git/MNIST_Jan_2024/wandb/run-20240204_195104-4yzp94f7</code>"
      ],
      "text/plain": [
       "<IPython.core.display.HTML object>"
      ]
     },
     "metadata": {},
     "output_type": "display_data"
    },
    {
     "data": {
      "text/html": [
       "Syncing run <strong><a href='http://localhost:8080/lejomarin/MNIST_experiments/runs/4yzp94f7' target=\"_blank\">magic-sweep-12</a></strong> to <a href='http://localhost:8080/lejomarin/MNIST_experiments' target=\"_blank\">Weights & Biases</a> (<a href='https://wandb.me/run' target=\"_blank\">docs</a>)<br/>Sweep page: <a href='http://localhost:8080/lejomarin/MNIST_experiments/sweeps/yeagcad6' target=\"_blank\">http://localhost:8080/lejomarin/MNIST_experiments/sweeps/yeagcad6</a>"
      ],
      "text/plain": [
       "<IPython.core.display.HTML object>"
      ]
     },
     "metadata": {},
     "output_type": "display_data"
    },
    {
     "data": {
      "text/html": [
       " View project at <a href='http://localhost:8080/lejomarin/MNIST_experiments' target=\"_blank\">http://localhost:8080/lejomarin/MNIST_experiments</a>"
      ],
      "text/plain": [
       "<IPython.core.display.HTML object>"
      ]
     },
     "metadata": {},
     "output_type": "display_data"
    },
    {
     "data": {
      "text/html": [
       " View sweep at <a href='http://localhost:8080/lejomarin/MNIST_experiments/sweeps/yeagcad6' target=\"_blank\">http://localhost:8080/lejomarin/MNIST_experiments/sweeps/yeagcad6</a>"
      ],
      "text/plain": [
       "<IPython.core.display.HTML object>"
      ]
     },
     "metadata": {},
     "output_type": "display_data"
    },
    {
     "data": {
      "text/html": [
       " View run at <a href='http://localhost:8080/lejomarin/MNIST_experiments/runs/4yzp94f7' target=\"_blank\">http://localhost:8080/lejomarin/MNIST_experiments/runs/4yzp94f7</a>"
      ],
      "text/plain": [
       "<IPython.core.display.HTML object>"
      ]
     },
     "metadata": {},
     "output_type": "display_data"
    },
    {
     "name": "stderr",
     "output_type": "stream",
     "text": [
      "WARNING:absl:`lr` is deprecated in Keras optimizer, please use `learning_rate` or use the legacy optimizer, e.g.,tf.keras.optimizers.legacy.RMSprop.\n"
     ]
    },
    {
     "name": "stdout",
     "output_type": "stream",
     "text": [
      "Epoch 1/5\n",
      "464/469 [============================>.] - ETA: 0s - loss: 0.2258 - accuracy: 0.9340"
     ]
    },
    {
     "name": "stderr",
     "output_type": "stream",
     "text": [
      "/Users/alejandromarinjimenez/anaconda3/lib/python3.11/site-packages/keras/src/engine/training.py:3103: UserWarning: You are saving your model as an HDF5 file via `model.save()`. This file format is considered legacy. We recommend using instead the native Keras format, e.g. `model.save('my_model.keras')`.\n",
      "  saving_api.save_model(\n"
     ]
    },
    {
     "name": "stdout",
     "output_type": "stream",
     "text": [
      "INFO:tensorflow:Assets written to: /Users/alejandromarinjimenez/Documents/Computer_Science/git/MNIST_Jan_2024/wandb/run-20240204_195104-4yzp94f7/files/model-best/assets\n"
     ]
    },
    {
     "name": "stderr",
     "output_type": "stream",
     "text": [
      "INFO:tensorflow:Assets written to: /Users/alejandromarinjimenez/Documents/Computer_Science/git/MNIST_Jan_2024/wandb/run-20240204_195104-4yzp94f7/files/model-best/assets\n",
      "\u001b[34m\u001b[1mwandb\u001b[0m: Adding directory to artifact (/Users/alejandromarinjimenez/Documents/Computer_Science/git/MNIST_Jan_2024/wandb/run-20240204_195104-4yzp94f7/files/model-best)... Done. 0.0s\n"
     ]
    },
    {
     "name": "stdout",
     "output_type": "stream",
     "text": [
      "469/469 [==============================] - 4s 7ms/step - loss: 0.2247 - accuracy: 0.9343 - val_loss: 0.1108 - val_accuracy: 0.9664\n",
      "Epoch 2/5\n",
      "463/469 [============================>.] - ETA: 0s - loss: 0.0869 - accuracy: 0.9735"
     ]
    },
    {
     "name": "stderr",
     "output_type": "stream",
     "text": [
      "/Users/alejandromarinjimenez/anaconda3/lib/python3.11/site-packages/keras/src/engine/training.py:3103: UserWarning: You are saving your model as an HDF5 file via `model.save()`. This file format is considered legacy. We recommend using instead the native Keras format, e.g. `model.save('my_model.keras')`.\n",
      "  saving_api.save_model(\n"
     ]
    },
    {
     "name": "stdout",
     "output_type": "stream",
     "text": [
      "INFO:tensorflow:Assets written to: /Users/alejandromarinjimenez/Documents/Computer_Science/git/MNIST_Jan_2024/wandb/run-20240204_195104-4yzp94f7/files/model-best/assets\n"
     ]
    },
    {
     "name": "stderr",
     "output_type": "stream",
     "text": [
      "INFO:tensorflow:Assets written to: /Users/alejandromarinjimenez/Documents/Computer_Science/git/MNIST_Jan_2024/wandb/run-20240204_195104-4yzp94f7/files/model-best/assets\n",
      "\u001b[34m\u001b[1mwandb\u001b[0m: Adding directory to artifact (/Users/alejandromarinjimenez/Documents/Computer_Science/git/MNIST_Jan_2024/wandb/run-20240204_195104-4yzp94f7/files/model-best)... Done. 0.0s\n"
     ]
    },
    {
     "name": "stdout",
     "output_type": "stream",
     "text": [
      "469/469 [==============================] - 3s 7ms/step - loss: 0.0872 - accuracy: 0.9734 - val_loss: 0.0883 - val_accuracy: 0.9715\n",
      "Epoch 3/5\n",
      "464/469 [============================>.] - ETA: 0s - loss: 0.0560 - accuracy: 0.9825"
     ]
    },
    {
     "name": "stderr",
     "output_type": "stream",
     "text": [
      "/Users/alejandromarinjimenez/anaconda3/lib/python3.11/site-packages/keras/src/engine/training.py:3103: UserWarning: You are saving your model as an HDF5 file via `model.save()`. This file format is considered legacy. We recommend using instead the native Keras format, e.g. `model.save('my_model.keras')`.\n",
      "  saving_api.save_model(\n"
     ]
    },
    {
     "name": "stdout",
     "output_type": "stream",
     "text": [
      "INFO:tensorflow:Assets written to: /Users/alejandromarinjimenez/Documents/Computer_Science/git/MNIST_Jan_2024/wandb/run-20240204_195104-4yzp94f7/files/model-best/assets\n"
     ]
    },
    {
     "name": "stderr",
     "output_type": "stream",
     "text": [
      "INFO:tensorflow:Assets written to: /Users/alejandromarinjimenez/Documents/Computer_Science/git/MNIST_Jan_2024/wandb/run-20240204_195104-4yzp94f7/files/model-best/assets\n",
      "\u001b[34m\u001b[1mwandb\u001b[0m: Adding directory to artifact (/Users/alejandromarinjimenez/Documents/Computer_Science/git/MNIST_Jan_2024/wandb/run-20240204_195104-4yzp94f7/files/model-best)... Done. 0.0s\n"
     ]
    },
    {
     "name": "stdout",
     "output_type": "stream",
     "text": [
      "469/469 [==============================] - 3s 7ms/step - loss: 0.0559 - accuracy: 0.9825 - val_loss: 0.0695 - val_accuracy: 0.9776\n",
      "Epoch 4/5\n",
      "466/469 [============================>.] - ETA: 0s - loss: 0.0391 - accuracy: 0.9881"
     ]
    },
    {
     "name": "stderr",
     "output_type": "stream",
     "text": [
      "/Users/alejandromarinjimenez/anaconda3/lib/python3.11/site-packages/keras/src/engine/training.py:3103: UserWarning: You are saving your model as an HDF5 file via `model.save()`. This file format is considered legacy. We recommend using instead the native Keras format, e.g. `model.save('my_model.keras')`.\n",
      "  saving_api.save_model(\n"
     ]
    },
    {
     "name": "stdout",
     "output_type": "stream",
     "text": [
      "INFO:tensorflow:Assets written to: /Users/alejandromarinjimenez/Documents/Computer_Science/git/MNIST_Jan_2024/wandb/run-20240204_195104-4yzp94f7/files/model-best/assets\n"
     ]
    },
    {
     "name": "stderr",
     "output_type": "stream",
     "text": [
      "INFO:tensorflow:Assets written to: /Users/alejandromarinjimenez/Documents/Computer_Science/git/MNIST_Jan_2024/wandb/run-20240204_195104-4yzp94f7/files/model-best/assets\n",
      "\u001b[34m\u001b[1mwandb\u001b[0m: Adding directory to artifact (/Users/alejandromarinjimenez/Documents/Computer_Science/git/MNIST_Jan_2024/wandb/run-20240204_195104-4yzp94f7/files/model-best)... Done. 0.0s\n"
     ]
    },
    {
     "name": "stdout",
     "output_type": "stream",
     "text": [
      "469/469 [==============================] - 3s 6ms/step - loss: 0.0392 - accuracy: 0.9882 - val_loss: 0.0624 - val_accuracy: 0.9804\n",
      "Epoch 5/5\n",
      "469/469 [==============================] - 2s 5ms/step - loss: 0.0286 - accuracy: 0.9912 - val_loss: 0.0702 - val_accuracy: 0.9797\n",
      "313/313 [==============================] - 0s 986us/step - loss: 0.0702 - accuracy: 0.9797\n"
     ]
    },
    {
     "data": {
      "application/vnd.jupyter.widget-view+json": {
       "model_id": "",
       "version_major": 2,
       "version_minor": 0
      },
      "text/plain": [
       "VBox(children=(Label(value='35.515 MB of 35.515 MB uploaded (0.020 MB deduped)\\r'), FloatProgress(value=1.0, m…"
      ]
     },
     "metadata": {},
     "output_type": "display_data"
    },
    {
     "data": {
      "text/html": [
       "<style>\n",
       "    table.wandb td:nth-child(1) { padding: 0 10px; text-align: left ; width: auto;} td:nth-child(2) {text-align: left ; width: 100%}\n",
       "    .wandb-row { display: flex; flex-direction: row; flex-wrap: wrap; justify-content: flex-start; width: 100% }\n",
       "    .wandb-col { display: flex; flex-direction: column; flex-basis: 100%; flex: 1; padding: 10px; }\n",
       "    </style>\n",
       "<div class=\"wandb-row\"><div class=\"wandb-col\"><h3>Run history:</h3><br/><table class=\"wandb\"><tr><td>accuracy</td><td>▁▆▇██</td></tr><tr><td>epoch</td><td>▁▃▅▆█</td></tr><tr><td>loss</td><td>█▃▂▁▁</td></tr><tr><td>test_accuracy</td><td>▁</td></tr><tr><td>test_loss</td><td>▁</td></tr><tr><td>val_accuracy</td><td>▁▄▇██</td></tr><tr><td>val_loss</td><td>█▅▂▁▂</td></tr></table><br/></div><div class=\"wandb-col\"><h3>Run summary:</h3><br/><table class=\"wandb\"><tr><td>accuracy</td><td>0.99115</td></tr><tr><td>best_epoch</td><td>3</td></tr><tr><td>best_val_loss</td><td>0.06242</td></tr><tr><td>epoch</td><td>4</td></tr><tr><td>loss</td><td>0.02864</td></tr><tr><td>test_accuracy</td><td>0.9797</td></tr><tr><td>test_loss</td><td>0.07019</td></tr><tr><td>val_accuracy</td><td>0.9797</td></tr><tr><td>val_loss</td><td>0.07019</td></tr></table><br/></div></div>"
      ],
      "text/plain": [
       "<IPython.core.display.HTML object>"
      ]
     },
     "metadata": {},
     "output_type": "display_data"
    },
    {
     "data": {
      "text/html": [
       " View run <strong style=\"color:#cdcd00\">magic-sweep-12</strong> at: <a href='http://localhost:8080/lejomarin/MNIST_experiments/runs/4yzp94f7' target=\"_blank\">http://localhost:8080/lejomarin/MNIST_experiments/runs/4yzp94f7</a><br/>Synced 7 W&B file(s), 1 media file(s), 20 artifact file(s) and 2 other file(s)"
      ],
      "text/plain": [
       "<IPython.core.display.HTML object>"
      ]
     },
     "metadata": {},
     "output_type": "display_data"
    },
    {
     "data": {
      "text/html": [
       "Find logs at: <code>./wandb/run-20240204_195104-4yzp94f7/logs</code>"
      ],
      "text/plain": [
       "<IPython.core.display.HTML object>"
      ]
     },
     "metadata": {},
     "output_type": "display_data"
    },
    {
     "name": "stderr",
     "output_type": "stream",
     "text": [
      "\u001b[34m\u001b[1mwandb\u001b[0m: Sweep Agent: Waiting for job.\n",
      "\u001b[34m\u001b[1mwandb\u001b[0m: Sweep Agent: Exiting.\n"
     ]
    }
   ],
   "source": [
    "import wandb\n",
    "from tensorflow.keras.datasets import mnist\n",
    "from tensorflow.keras.utils import to_categorical\n",
    "from tensorflow.keras import models, layers, optimizers\n",
    "\n",
    "# Function to define and train the model\n",
    "def train():\n",
    "    # Initialize a new W&B run\n",
    "    with wandb.init() as run:\n",
    "        config = run.config\n",
    "\n",
    "        # load and preprocess the data\n",
    "        (train_images, train_labels), (test_images, test_labels) = mnist.load_data()\n",
    "        train_images = train_images.reshape((60000, 28 * 28)).astype('float32') / 255\n",
    "        test_images = test_images.reshape((10000, 28 * 28)).astype('float32') / 255\n",
    "        train_labels = to_categorical(train_labels)\n",
    "        test_labels = to_categorical(test_labels)\n",
    "\n",
    "        # build the network\n",
    "        network = models.Sequential()\n",
    "        network.add(layers.Dense(config.intermediate_dimension, activation='relu', input_shape=(28 * 28,)))\n",
    "        network.add(layers.Dense(10, activation='softmax'))\n",
    "\n",
    "        # compile the network\n",
    "        network.compile(optimizer=optimizers.RMSprop(lr=config.learning_rate, momentum=config.momentum),\n",
    "                        loss='categorical_crossentropy', \n",
    "                        metrics=['accuracy'])\n",
    "\n",
    "        # train the network\n",
    "        history = network.fit(train_images, train_labels, \n",
    "                              epochs=config.epochs,\n",
    "                              batch_size=config.batch_size, \n",
    "                              validation_data=(test_images, test_labels),\n",
    "                              callbacks=[wandb.keras.WandbCallback()])\n",
    "\n",
    "        # evaluate the network on the test set\n",
    "        test_loss, test_acc = network.evaluate(test_images, test_labels)\n",
    "        wandb.log({\"test_loss\": test_loss, \"test_accuracy\": test_acc})\n",
    "\n",
    "# Sweep configuration\n",
    "sweep_config = {\n",
    "    'method': 'grid',\n",
    "    'metric': {\n",
    "      'name': 'val_accuracy',\n",
    "      'goal': 'maximize'   \n",
    "    },\n",
    "    'parameters': {\n",
    "        'learning_rate': {\n",
    "            'values': [0.001, 0.005]\n",
    "        },\n",
    "        'momentum': {\n",
    "            'values': [0.0, 0.25]\n",
    "        },\n",
    "        'intermediate_dimension': {\n",
    "            'values': [256, 512, 768]\n",
    "        },\n",
    "        'epochs': {\n",
    "            'value': 5\n",
    "        },\n",
    "        'batch_size': {\n",
    "            'value': 128\n",
    "        }\n",
    "    }\n",
    "}\n",
    "\n",
    "# Initialize the sweep\n",
    "sweep_id = wandb.sweep(sweep_config, project=\"MNIST_experiments\")\n",
    "\n",
    "# Run the sweep\n",
    "wandb.agent(sweep_id, train)\n",
    "\n"
   ]
  },
  {
   "cell_type": "markdown",
   "metadata": {},
   "source": [
    "![W&B Experiment Results](assets/W&B_Chart 2_5_2024.svg)"
   ]
  },
  {
   "cell_type": "code",
   "execution_count": 23,
   "metadata": {},
   "outputs": [
    {
     "name": "stdout",
     "output_type": "stream",
     "text": [
      "Best Run ID: lm2tmx1s\n",
      "Best Hyperparameters: {'epochs': 5, 'momentum': 0.25, 'batch_size': 128, 'learning_rate': 0.001, 'intermediate_dimension': 768}\n"
     ]
    }
   ],
   "source": [
    "import wandb\n",
    "\n",
    "# Replace with your actual W&B entity and project name\n",
    "wandb_entity = wandb_entity\n",
    "project_name = \"MNIST_experiments\"\n",
    "sweep_id = sweep_id\n",
    "\n",
    "# Initialize the W&B API client\n",
    "api = wandb.Api()\n",
    "\n",
    "try:\n",
    "    # Fetch the sweep\n",
    "    sweep = api.sweep(f\"{wandb_entity}/{project_name}/{sweep_id}\")\n",
    "    # Get all runs in the sweep\n",
    "    runs = sweep.runs\n",
    "    # Get the best run (assuming you want to minimize loss)\n",
    "    best_run = min(runs, key=lambda r: r.summary.get(\"loss\", float(\"inf\")))\n",
    "    print(f\"Best Run ID: {best_run.id}\")\n",
    "    print(f\"Best Hyperparameters: {best_run.config}\")\n",
    "except wandb.errors.CommError as e:\n",
    "    print(f\"Could not access sweep: {e}\")\n",
    "except ValueError:\n",
    "    print(\"No runs found for this sweep.\")\n"
   ]
  },
  {
   "cell_type": "code",
   "execution_count": 2,
   "metadata": {},
   "outputs": [
    {
     "name": "stdout",
     "output_type": "stream",
     "text": [
      "there are  9375.0 updates for 20 epochs of 128 sample mini-batches\n"
     ]
    }
   ],
   "source": [
    "GSD = (60000/128) * 20\n",
    "print(\"there are \", GSD, \"updates for 20 epochs of 128 sample mini-batches\")"
   ]
  },
  {
   "cell_type": "code",
   "execution_count": 2,
   "metadata": {},
   "outputs": [
    {
     "name": "stdout",
     "output_type": "stream",
     "text": [
      "313/313 [==============================] - 1s 4ms/step - loss: 0.0952 - accuracy: 0.9817\n"
     ]
    }
   ],
   "source": [
    "# evaluate on the test set\n",
    "test_loss, test_acc = network.evaluate(test_images, test_labels)"
   ]
  },
  {
   "cell_type": "markdown",
   "metadata": {},
   "source": [
    "After fine-tuning the network we're ready to test on new, unseen data:"
   ]
  },
  {
   "cell_type": "code",
   "execution_count": null,
   "metadata": {},
   "outputs": [],
   "source": []
  },
  {
   "cell_type": "code",
   "execution_count": null,
   "metadata": {},
   "outputs": [],
   "source": []
  },
  {
   "cell_type": "markdown",
   "metadata": {},
   "source": [
    "![W&B Experiment Results](W&B_Chart_2_5_2024.jpg)"
   ]
  },
  {
   "cell_type": "code",
   "execution_count": null,
   "metadata": {},
   "outputs": [],
   "source": []
  },
  {
   "cell_type": "code",
   "execution_count": 24,
   "metadata": {},
   "outputs": [],
   "source": [
    "from IPython.display import Image"
   ]
  }
 ],
 "metadata": {
  "kernelspec": {
   "display_name": "Python 3 (ipykernel)",
   "language": "python",
   "name": "python3"
  },
  "language_info": {
   "codemirror_mode": {
    "name": "ipython",
    "version": 3
   },
   "file_extension": ".py",
   "mimetype": "text/x-python",
   "name": "python",
   "nbconvert_exporter": "python",
   "pygments_lexer": "ipython3",
   "version": "3.11.4"
  }
 },
 "nbformat": 4,
 "nbformat_minor": 2
}
